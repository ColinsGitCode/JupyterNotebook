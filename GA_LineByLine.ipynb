{
 "cells": [
  {
   "cell_type": "code",
   "execution_count": 1,
   "metadata": {
    "ExecuteTime": {
     "end_time": "2017-11-28T06:59:24.282091Z",
     "start_time": "2017-11-28T06:59:20.664566Z"
    },
    "collapsed": true
   },
   "outputs": [],
   "source": [
    "import random\n",
    "import sys\n",
    "import time\n",
    "\n",
    "from pyspark import SparkConf\n",
    "from pyspark import SparkContext\n",
    "conf = SparkConf().setMaster(\"local\").setAppName(\"OneMaxPython\")\n",
    "sc = SparkContext(conf = conf)"
   ]
  },
  {
   "cell_type": "code",
   "execution_count": 2,
   "metadata": {
    "ExecuteTime": {
     "end_time": "2017-11-28T06:59:34.636780Z",
     "start_time": "2017-11-28T06:59:34.609232Z"
    },
    "collapsed": true
   },
   "outputs": [],
   "source": [
    "# Functions Parts\n",
    "\n",
    "def MakePop(pop_size, ind_size): \n",
    "    # Create Populations for initialization\n",
    "    lisPop = []\n",
    "    for i in range(pop_size):\n",
    "        lisPop.append([[random.randint(0,1) for i in range(ind_size)], 0])\n",
    "    return lisPop\n",
    "\n",
    "def EvaForEachInd(ele):\n",
    "    # Fitness\n",
    "    ele[1] = sum(ele[0])/len(ele[0])\n",
    "    return ele"
   ]
  },
  {
   "cell_type": "code",
   "execution_count": 3,
   "metadata": {
    "ExecuteTime": {
     "end_time": "2017-11-28T06:59:46.288819Z",
     "start_time": "2017-11-28T06:59:46.263717Z"
    },
    "collapsed": true
   },
   "outputs": [],
   "source": [
    "#选择精英者和剩下的群体\n",
    "def Select(fitRDD, POPULATION_SIZE, ELITE_SIZE):\n",
    "# 对评价过的种群按适应度从大到小进行排序\n",
    "    sortedPopRDD = fitRDD.sortBy((lambda x: x[1]), False)\n",
    "# 取出精英并创建精英RDD\n",
    "    lisElite = sortedPopRDD.take(ELITE_SIZE)\n",
    "    eliteRDD = sc.parallelize(lisElite)\n",
    "# 取出剩下的种群\n",
    "    RemainPop = fitRDD.sortBy(lambda x: x[1]).take(POPULATION_SIZE - ELITE_SIZE)\n",
    "    random.shuffle(RemainPop)\n",
    "    RemainPopRDD = sc.parallelize(RemainPop)\n",
    "    return eliteRDD, RemainPopRDD"
   ]
  },
  {
   "cell_type": "code",
   "execution_count": 56,
   "metadata": {
    "ExecuteTime": {
     "end_time": "2017-11-28T07:43:59.329283Z",
     "start_time": "2017-11-28T07:43:59.262271Z"
    },
    "collapsed": true
   },
   "outputs": [],
   "source": [
    "# 交叉\n",
    "def crossover(a, b): # 两个个体交叉操作\n",
    "    # Two-point crossover\n",
    "    a_chr = a # 取出a的染色体\n",
    "    b_chr = b # 取出b的染色体\n",
    "    \n",
    "    size = len(a_chr) # 取出染色体的长度\n",
    "\n",
    "    f = random.randint(0, size) # 选取两个基因点，准备交叉\n",
    "    s = random.randint(f, size)\n",
    "\n",
    "    _a = a_chr[:f] + b_chr[f:s] + a_chr[s:]\n",
    "    _b = b_chr[:f] + a_chr[f:s] + b_chr[s:]\n",
    "    \n",
    "    return _a, _b\n",
    "\n",
    "def CROSSOVER(ele): # RDD层面的交叉操作\n",
    "    \n",
    "    a_Chromo, b_Chromo = crossover(ele[0][0],ele[1][0])\n",
    "    ele[0][0] = a_Chromo\n",
    "    ele[0][1] = 0\n",
    "    ele[1][0] = b_Chromo\n",
    "    ele[1][1] = 0\n",
    "    return ele[0],ele[1]"
   ]
  },
  {
   "cell_type": "code",
   "execution_count": 5,
   "metadata": {
    "ExecuteTime": {
     "end_time": "2017-11-28T07:00:10.138253Z",
     "start_time": "2017-11-28T07:00:10.113072Z"
    },
    "collapsed": true
   },
   "outputs": [],
   "source": [
    "# 变异部分\n",
    "def MutationForInd(gene): # 基因变异\n",
    "    global GENE_MUTATION\n",
    "    for i in gene:\n",
    "        if GENE_MUTATION > (random.randint(0, 100) / 100):\n",
    "            i = random.randint(0,1)\n",
    "    return gene\n",
    "            \n",
    "def Mutation(ele):  # 选择变异的个体，RDD 层面\n",
    "    global INDIVIDUAL_MUTATION\n",
    "    if INDIVIDUAL_MUTATION > (random.randint(0, 100) / 100):\n",
    "        ele[0] = MutationForInd(ele[0])\n",
    "    return ele"
   ]
  },
  {
   "cell_type": "code",
   "execution_count": 6,
   "metadata": {
    "ExecuteTime": {
     "end_time": "2017-11-28T07:00:23.363821Z",
     "start_time": "2017-11-28T07:00:23.340414Z"
    },
    "collapsed": true
   },
   "outputs": [],
   "source": [
    "random.seed(64) # 随机种子设置\n",
    "#---------------------------------------\n",
    "# Constant Variables\n",
    "CHROMOSOME_SIZE = 10 # 染色体尺寸\n",
    "GENE_MUTATION = 0.05 # 基因变异率\n",
    "INDIVIDUAL_MUTATION = 0.2 # 个体变异率\n",
    "CROSSOVER = 0.5\n",
    "POPULATION_SIZE = 40 # 种群数量\n",
    "ELITE_PERCENTAGE = 0.5\n",
    "#ELITE_SIZE = int(POPULATION_SIZE * ELITE_PERCENTAGE)\n",
    "ELITE_SIZE = 2 \n",
    "GENERATION_MAX = 100 # 最大迭代次数\n",
    "#------------------------------------------------\n",
    "# starts\n",
    "start = time.clock() # 开始计时"
   ]
  },
  {
   "cell_type": "code",
   "execution_count": 7,
   "metadata": {
    "ExecuteTime": {
     "end_time": "2017-11-28T07:00:36.968848Z",
     "start_time": "2017-11-28T07:00:36.961815Z"
    },
    "collapsed": true
   },
   "outputs": [],
   "source": [
    "population = MakePop(POPULATION_SIZE, CHROMOSOME_SIZE) # initial population"
   ]
  },
  {
   "cell_type": "code",
   "execution_count": 8,
   "metadata": {
    "ExecuteTime": {
     "end_time": "2017-11-28T07:00:51.501423Z",
     "start_time": "2017-11-28T07:00:49.099976Z"
    },
    "collapsed": true
   },
   "outputs": [],
   "source": [
    "popRDD = sc.parallelize(population) \n",
    "fitRDD = popRDD.map(EvaForEachInd)\n",
    "fitValues = [ele[1] for ele in fitRDD.collect()]\n"
   ]
  },
  {
   "cell_type": "code",
   "execution_count": 9,
   "metadata": {
    "ExecuteTime": {
     "end_time": "2017-11-28T07:01:01.955123Z",
     "start_time": "2017-11-28T07:01:01.940574Z"
    }
   },
   "outputs": [
    {
     "name": "stdout",
     "output_type": "stream",
     "text": [
      "1 Generation ---\n",
      "\tMIN: 0.2\n",
      "\tMAX: 0.8\n",
      "\tAVG: 0.495 \n",
      "\n"
     ]
    }
   ],
   "source": [
    "# Fitness statistics \n",
    "print(\"{0} Generation ---\".format(1))\n",
    "print(\"\\tMIN: {0}\".format(min(fitValues)))\n",
    "print(\"\\tMAX: {0}\".format(max(fitValues)))\n",
    "print(\"\\tAVG: {0}\".format(round(sum(fitValues) / len(fitValues), 3)), \"\\n\")\n"
   ]
  },
  {
   "cell_type": "code",
   "execution_count": 10,
   "metadata": {
    "ExecuteTime": {
     "end_time": "2017-11-28T07:01:19.258820Z",
     "start_time": "2017-11-28T07:01:18.979777Z"
    },
    "collapsed": true
   },
   "outputs": [],
   "source": [
    "# select elites and remained populations\n",
    "eliteRDD, RemainPopRDD = Select(fitRDD, POPULATION_SIZE, ELITE_SIZE)\n"
   ]
  },
  {
   "cell_type": "code",
   "execution_count": 11,
   "metadata": {
    "ExecuteTime": {
     "end_time": "2017-11-28T07:01:30.585133Z",
     "start_time": "2017-11-28T07:01:30.527276Z"
    },
    "collapsed": true
   },
   "outputs": [],
   "source": [
    "RemainPopList = RemainPopRDD.collect()"
   ]
  },
  {
   "cell_type": "code",
   "execution_count": 22,
   "metadata": {
    "ExecuteTime": {
     "end_time": "2017-11-28T07:11:09.252807Z",
     "start_time": "2017-11-28T07:11:09.247896Z"
    }
   },
   "outputs": [],
   "source": [
    "INT = int(len(RemainPopList)/2)"
   ]
  },
  {
   "cell_type": "code",
   "execution_count": 59,
   "metadata": {
    "ExecuteTime": {
     "end_time": "2017-11-28T07:45:29.637653Z",
     "start_time": "2017-11-28T07:45:29.624571Z"
    },
    "collapsed": true
   },
   "outputs": [],
   "source": [
    "PairRDD = sc.parallelize(RemainPopList, len(RemainPopList)/2).glom()"
   ]
  },
  {
   "cell_type": "code",
   "execution_count": 60,
   "metadata": {
    "ExecuteTime": {
     "end_time": "2017-11-28T07:45:31.006291Z",
     "start_time": "2017-11-28T07:45:30.942428Z"
    }
   },
   "outputs": [
    {
     "data": {
      "text/plain": [
       "[[[[1, 0, 1, 1, 1, 1, 1, 0, 0, 1], 0.7],\n",
       "  [[1, 1, 1, 1, 0, 1, 1, 1, 0, 0], 0.7]]]"
      ]
     },
     "execution_count": 60,
     "metadata": {},
     "output_type": "execute_result"
    }
   ],
   "source": [
    "ELE = PairRDD.take(1)\n",
    "ELE"
   ]
  },
  {
   "cell_type": "code",
   "execution_count": 61,
   "metadata": {
    "ExecuteTime": {
     "end_time": "2017-11-28T07:45:34.177262Z",
     "start_time": "2017-11-28T07:45:34.152777Z"
    }
   },
   "outputs": [
    {
     "name": "stdout",
     "output_type": "stream",
     "text": [
      "[[[1, 0, 1, 1, 1, 1, 1, 0, 0, 1], 0.7], [[1, 1, 1, 1, 0, 1, 1, 1, 0, 0], 0.7]]\n",
      "--------\n",
      "[[[1, 0, 1, 1, 1, 1, 1, 0, 0, 1], 0.7], [[1, 1, 1, 1, 0, 1, 1, 1, 0, 0], 0.7]]\n",
      "[[1, 0, 1, 1, 1, 1, 1, 0, 0, 1], 0.7]\n",
      "[[1, 1, 1, 1, 0, 1, 1, 1, 0, 0], 0.7]\n",
      "[1, 0, 1, 1, 1, 1, 1, 0, 0, 1]\n",
      "0.7\n",
      "[1, 1, 1, 1, 0, 1, 1, 1, 0, 0]\n",
      "0.7\n"
     ]
    }
   ],
   "source": [
    "for i in ELE:\n",
    "    print(i)\n",
    "    print(\"--------\")\n",
    "print(ELE[0])\n",
    "print(ELE[0][0])\n",
    "print(ELE[0][1])\n",
    "print(ELE[0][0][0])\n",
    "print(ELE[0][0][1])\n",
    "print(ELE[0][1][0])\n",
    "print(ELE[0][1][1])"
   ]
  },
  {
   "cell_type": "code",
   "execution_count": 62,
   "metadata": {
    "ExecuteTime": {
     "end_time": "2017-11-28T07:45:39.043661Z",
     "start_time": "2017-11-28T07:45:39.038861Z"
    },
    "collapsed": true
   },
   "outputs": [],
   "source": [
    "CrossedRDD = PairRDD.flatMap(CROSSOVER)"
   ]
  },
  {
   "cell_type": "code",
   "execution_count": 63,
   "metadata": {
    "ExecuteTime": {
     "end_time": "2017-11-28T07:45:40.893467Z",
     "start_time": "2017-11-28T07:45:39.956909Z"
    }
   },
   "outputs": [
    {
     "data": {
      "text/plain": [
       "[[[1, 0, 1, 1, 0, 1, 1, 0, 0, 1], 0],\n",
       " [[1, 1, 1, 1, 1, 1, 1, 1, 0, 0], 0],\n",
       " [[0, 1, 0, 0, 0, 0, 1, 1, 1, 1], 0],\n",
       " [[0, 1, 1, 0, 1, 0, 0, 1, 1, 0], 0],\n",
       " [[0, 1, 1, 0, 0, 0, 0, 0, 1, 0], 0],\n",
       " [[1, 0, 0, 1, 0, 1, 1, 0, 0, 1], 0],\n",
       " [[0, 0, 1, 1, 0, 0, 0, 0, 1, 1], 0],\n",
       " [[1, 1, 1, 1, 0, 0, 1, 1, 1, 0], 0],\n",
       " [[0, 1, 1, 0, 0, 0, 1, 0, 1, 0], 0],\n",
       " [[1, 1, 0, 0, 1, 0, 1, 0, 1, 0], 0],\n",
       " [[0, 1, 0, 0, 0, 1, 0, 1, 0, 0], 0],\n",
       " [[0, 0, 1, 0, 1, 0, 1, 0, 0, 0], 0],\n",
       " [[0, 1, 1, 0, 0, 1, 1, 0, 0, 0], 0],\n",
       " [[1, 0, 0, 0, 0, 0, 1, 0, 1, 0], 0],\n",
       " [[0, 0, 1, 0, 1, 0, 1, 0, 0, 1], 0],\n",
       " [[0, 0, 0, 1, 1, 1, 1, 0, 1, 1], 0],\n",
       " [[0, 1, 0, 1, 1, 1, 1, 1, 0, 1], 0],\n",
       " [[1, 0, 1, 1, 0, 1, 0, 0, 0, 0], 0],\n",
       " [[0, 1, 1, 1, 1, 0, 0, 0, 1, 1], 0],\n",
       " [[1, 1, 0, 0, 0, 1, 1, 1, 1, 0], 0],\n",
       " [[0, 0, 1, 0, 0, 1, 1, 0, 0, 1], 0],\n",
       " [[1, 0, 1, 0, 0, 1, 0, 0, 1, 1], 0],\n",
       " [[1, 0, 1, 1, 1, 0, 0, 0, 0, 1], 0],\n",
       " [[0, 1, 1, 1, 1, 1, 0, 1, 1, 1], 0],\n",
       " [[0, 0, 0, 0, 1, 0, 0, 0, 1, 0], 0],\n",
       " [[0, 0, 1, 0, 0, 1, 0, 0, 1, 0], 0],\n",
       " [[0, 0, 0, 1, 1, 1, 1, 1, 1, 1], 0],\n",
       " [[1, 0, 1, 1, 0, 1, 1, 0, 0, 1], 0],\n",
       " [[0, 1, 1, 1, 0, 0, 0, 1, 1, 1], 0],\n",
       " [[0, 0, 1, 0, 0, 1, 0, 1, 1, 0], 0],\n",
       " [[0, 1, 1, 1, 1, 0, 1, 1, 0, 0], 0],\n",
       " [[0, 0, 0, 0, 0, 0, 1, 1, 0, 1], 0],\n",
       " [[0, 0, 1, 1, 0, 1, 0, 0, 0, 1], 0],\n",
       " [[0, 1, 0, 1, 0, 1, 1, 1, 0, 0], 0],\n",
       " [[1, 0, 1, 0, 0, 0, 0, 0, 0, 0], 0],\n",
       " [[1, 0, 0, 0, 1, 1, 0, 0, 0, 0], 0],\n",
       " [[1, 0, 0, 1, 1, 1, 1, 0, 1, 0], 0],\n",
       " [[1, 1, 1, 1, 0, 0, 1, 0, 1, 0], 0]]"
      ]
     },
     "execution_count": 63,
     "metadata": {},
     "output_type": "execute_result"
    }
   ],
   "source": [
    "CrossedRDD.collect()"
   ]
  },
  {
   "cell_type": "code",
   "execution_count": null,
   "metadata": {
    "collapsed": true
   },
   "outputs": [],
   "source": []
  }
 ],
 "metadata": {
  "hide_input": false,
  "kernelspec": {
   "display_name": "Python 3",
   "language": "python",
   "name": "python3"
  },
  "language_info": {
   "codemirror_mode": {
    "name": "ipython",
    "version": 3
   },
   "file_extension": ".py",
   "mimetype": "text/x-python",
   "name": "python",
   "nbconvert_exporter": "python",
   "pygments_lexer": "ipython3",
   "version": "3.6.3"
  }
 },
 "nbformat": 4,
 "nbformat_minor": 2
}
