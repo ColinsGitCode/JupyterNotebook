{
 "cells": [
  {
   "cell_type": "code",
   "execution_count": 1,
   "metadata": {
    "ExecuteTime": {
     "end_time": "2017-11-27T14:01:09.813038Z",
     "start_time": "2017-11-27T14:01:09.805642Z"
    },
    "collapsed": true
   },
   "outputs": [],
   "source": [
    "import random\n",
    "import sys\n",
    "import time"
   ]
  },
  {
   "cell_type": "code",
   "execution_count": 2,
   "metadata": {
    "ExecuteTime": {
     "end_time": "2017-11-27T14:01:28.709421Z",
     "start_time": "2017-11-27T14:01:11.273608Z"
    },
    "collapsed": true
   },
   "outputs": [],
   "source": [
    "from pyspark import SparkConf\n",
    "from pyspark import SparkContext\n",
    "conf = SparkConf().setMaster(\"local\").setAppName(\"OneMaxPython\")\n",
    "sc = SparkContext(conf = conf)"
   ]
  },
  {
   "cell_type": "code",
   "execution_count": 3,
   "metadata": {
    "ExecuteTime": {
     "end_time": "2017-11-27T14:01:28.819140Z",
     "start_time": "2017-11-27T14:01:28.734315Z"
    },
    "collapsed": true
   },
   "outputs": [],
   "source": [
    "class Individual:\n",
    "    def __init__(self, chromosome, fitness=None):\n",
    "        # 初始化函数\n",
    "        self.chromosome = chromosome\n",
    "        self.fitness = fitness\n",
    "\n",
    "    def mutate(self, mutation): # 基因突变函数，参数 mutation 是基因变异概率\n",
    "        for i in self.chromosome: # 遍历每个遗传因子，准备变异\n",
    "            if mutation > (random.randint(0, 100) / 100): # 大于变异概率就进行变异\n",
    "                self.chromosome[i] = random.randint(0, 1)\n",
    "\n",
    "    def fit(self):\n",
    "        self.fitness = sum(self.chromosome) / len(self.chromosome) # 适应值为1的百分比，最好为100%"
   ]
  },
  {
   "cell_type": "code",
   "execution_count": 4,
   "metadata": {
    "ExecuteTime": {
     "end_time": "2017-11-27T14:01:28.861993Z",
     "start_time": "2017-11-27T14:01:28.850039Z"
    },
    "collapsed": true
   },
   "outputs": [],
   "source": [
    "def create_individual(chr_size): # 创建个体, 返回一个个体类\n",
    "    return Individual([random.randint(0, 1) for i in range(chr_size)])"
   ]
  },
  {
   "cell_type": "code",
   "execution_count": 41,
   "metadata": {
    "ExecuteTime": {
     "end_time": "2017-11-27T14:41:40.387668Z",
     "start_time": "2017-11-27T14:41:40.371945Z"
    },
    "collapsed": true
   },
   "outputs": [],
   "source": [
    "def MakePop(pop_size, ind_size):\n",
    "    lisPop = []\n",
    "    for i in range(pop_size):\n",
    "        lisPop.append([[random.randint(0,1) for i in range(ind_size)], 0])\n",
    "    return lisPop"
   ]
  },
  {
   "cell_type": "code",
   "execution_count": 42,
   "metadata": {
    "ExecuteTime": {
     "end_time": "2017-11-27T14:41:41.053643Z",
     "start_time": "2017-11-27T14:41:41.027804Z"
    },
    "collapsed": true
   },
   "outputs": [],
   "source": [
    "random.seed(64) # 随机种子设置\n",
    "\n",
    "CHROMOSOME_SIZE = 10 # 染色体尺寸\n",
    "GENE_MUTATION = 0.05 # 基因变异率\n",
    "INDIVIDUAL_MUTATION = 0.2 # 个体变异率\n",
    "CROSSOVER = 0.5\n",
    "POPULATION_SIZE = 30 # 种群数量\n",
    "ELITE_PERCENTAGE = 0.5\n",
    "#ELITE_SIZE = int(POPULATION_SIZE * ELITE_PERCENTAGE)\n",
    "ELITE_SIZE = 2 \n",
    "GENERATION_MAX = 100 # 最大迭代次数"
   ]
  },
  {
   "cell_type": "code",
   "execution_count": 43,
   "metadata": {
    "ExecuteTime": {
     "end_time": "2017-11-27T14:41:42.090334Z",
     "start_time": "2017-11-27T14:41:42.079659Z"
    },
    "collapsed": true
   },
   "outputs": [],
   "source": [
    "def FitnessForEachInd(ele):\n",
    "    ele.fit()\n",
    "    return ele"
   ]
  },
  {
   "cell_type": "code",
   "execution_count": 44,
   "metadata": {
    "ExecuteTime": {
     "end_time": "2017-11-27T14:41:43.468729Z",
     "start_time": "2017-11-27T14:41:43.439177Z"
    },
    "collapsed": true
   },
   "outputs": [],
   "source": [
    "start = time.clock() # 开始计时\n",
    "population = MakePop(POPULATION_SIZE, CHROMOSOME_SIZE)\n",
    "popRDD = sc.parallelize(population)\n",
    "    # 计算每个个体的适应度\n",
    "   # fitPopRDD = popRDD.map(FitnessForEachInd)\n",
    "    #fitPopRDD.count() "
   ]
  },
  {
   "cell_type": "code",
   "execution_count": 45,
   "metadata": {
    "ExecuteTime": {
     "end_time": "2017-11-27T14:41:45.250032Z",
     "start_time": "2017-11-27T14:41:45.099330Z"
    }
   },
   "outputs": [
    {
     "data": {
      "text/plain": [
       "30"
      ]
     },
     "execution_count": 45,
     "metadata": {},
     "output_type": "execute_result"
    }
   ],
   "source": [
    "popRDD.count()"
   ]
  },
  {
   "cell_type": "code",
   "execution_count": 46,
   "metadata": {
    "ExecuteTime": {
     "end_time": "2017-11-27T14:41:49.000417Z",
     "start_time": "2017-11-27T14:41:48.980670Z"
    },
    "collapsed": true
   },
   "outputs": [],
   "source": [
    "def Fitness(ind):\n",
    "    return sum(ind[0])/len(ind[0])\n",
    "def EvaForEachInd(ele):\n",
    "    ele[1] = sum(ele[0])/len(ele[0])\n",
    "    return ele\n",
    "    "
   ]
  },
  {
   "cell_type": "code",
   "execution_count": 47,
   "metadata": {
    "ExecuteTime": {
     "end_time": "2017-11-27T14:41:52.472515Z",
     "start_time": "2017-11-27T14:41:52.460819Z"
    },
    "collapsed": true
   },
   "outputs": [],
   "source": [
    "# 以下开始是循环内容\n",
    "# 计算每个个体的适应度\n",
    "fitRDD = popRDD.map(EvaForEachInd)"
   ]
  },
  {
   "cell_type": "code",
   "execution_count": 48,
   "metadata": {
    "ExecuteTime": {
     "end_time": "2017-11-27T14:41:54.953297Z",
     "start_time": "2017-11-27T14:41:54.815257Z"
    },
    "collapsed": true
   },
   "outputs": [],
   "source": [
    "# 把所有的Fitness都取出来\n",
    "fitValues = [ele[1] for ele in fitRDD.collect()]"
   ]
  },
  {
   "cell_type": "code",
   "execution_count": 49,
   "metadata": {
    "ExecuteTime": {
     "end_time": "2017-11-27T14:41:57.194777Z",
     "start_time": "2017-11-27T14:41:57.167966Z"
    }
   },
   "outputs": [
    {
     "name": "stdout",
     "output_type": "stream",
     "text": [
      "1 Generation ---\n",
      "\tMIN: 0.2\n",
      "\tMAX: 0.8\n",
      "\tAVG: 0.477 \n",
      "\n"
     ]
    }
   ],
   "source": [
    "print(\"{0} Generation ---\".format(1))\n",
    "print(\"\\tMIN: {0}\".format(min(fitValues)))\n",
    "print(\"\\tMAX: {0}\".format(max(fitValues)))\n",
    "print(\"\\tAVG: {0}\".format(round(sum(fitValues) / len(fitValues), 3)), \"\\n\")"
   ]
  },
  {
   "cell_type": "code",
   "execution_count": 81,
   "metadata": {
    "ExecuteTime": {
     "end_time": "2017-11-27T15:34:22.893660Z",
     "start_time": "2017-11-27T15:34:22.871463Z"
    },
    "collapsed": true
   },
   "outputs": [],
   "source": [
    "#选择精英者和剩下的群体\n",
    "def Select(fitRDD, POPULATION_SIZE, ELITE_SIZE):\n",
    "# 对评价过的种群按适应度从大到小进行排序\n",
    "    sortedPopRDD = fitRDD.sortBy((lambda x: x[1]), False)\n",
    "# 取出精英并创建精英RDD\n",
    "    lisElite = sortedPopRDD.take(ELITE_SIZE)\n",
    "    eliteRDD = sc.parallelize(lisElite)\n",
    "# 取出剩下的种群\n",
    "    RemainPop = fitRDD.sortBy(lambda x: x[1]).take(POPULATION_SIZE - ELITE_SIZE)\n",
    "    random.shuffle(RemainPop)\n",
    "    RemainPopRDD = sc.parallelize(RemainPop)\n",
    "    return eliteRDD, RemainPopRDD"
   ]
  },
  {
   "cell_type": "code",
   "execution_count": 82,
   "metadata": {
    "ExecuteTime": {
     "end_time": "2017-11-27T15:35:59.017668Z",
     "start_time": "2017-11-27T15:35:58.807394Z"
    },
    "collapsed": true
   },
   "outputs": [],
   "source": [
    "# 选择精英者和剩下的群体\n",
    "eliteRDD, RemainPopRDD = Select(fitRDD, POPULATION_SIZE, ELITE_SIZE)"
   ]
  },
  {
   "cell_type": "code",
   "execution_count": 84,
   "metadata": {
    "ExecuteTime": {
     "end_time": "2017-11-27T15:37:25.279412Z",
     "start_time": "2017-11-27T15:37:25.183317Z"
    }
   },
   "outputs": [
    {
     "data": {
      "text/plain": [
       "[[[1, 1, 1, 1, 1, 0, 0, 0, 0, 1], 0.6],\n",
       " [[1, 0, 0, 1, 1, 1, 0, 0, 0, 0], 0.4],\n",
       " [[1, 1, 1, 1, 0, 0, 0, 0, 1, 0], 0.5],\n",
       " [[0, 1, 1, 0, 1, 0, 0, 1, 1, 0], 0.5],\n",
       " [[1, 1, 1, 1, 0, 1, 1, 1, 0, 0], 0.7],\n",
       " [[0, 0, 1, 0, 1, 0, 1, 0, 0, 0], 0.3],\n",
       " [[0, 0, 1, 0, 0, 1, 0, 0, 1, 0], 0.3],\n",
       " [[0, 0, 0, 0, 1, 0, 0, 0, 1, 0], 0.2],\n",
       " [[1, 0, 1, 0, 0, 1, 0, 0, 0, 0], 0.3],\n",
       " [[0, 0, 1, 1, 0, 1, 0, 1, 0, 1], 0.5],\n",
       " [[0, 0, 1, 1, 0, 0, 1, 1, 1, 1], 0.6],\n",
       " [[1, 0, 0, 0, 0, 1, 1, 0, 1, 0], 0.4],\n",
       " [[0, 1, 1, 0, 0, 0, 1, 0, 0, 0], 0.3],\n",
       " [[1, 0, 1, 1, 0, 0, 1, 0, 1, 0], 0.5],\n",
       " [[1, 0, 0, 0, 1, 0, 0, 0, 0, 0], 0.2],\n",
       " [[0, 1, 1, 1, 0, 1, 0, 1, 1, 1], 0.7],\n",
       " [[0, 0, 0, 0, 0, 0, 1, 1, 0, 0], 0.2],\n",
       " [[0, 0, 0, 1, 1, 1, 1, 0, 1, 1], 0.6],\n",
       " [[1, 0, 1, 0, 0, 1, 0, 0, 0, 1], 0.4],\n",
       " [[0, 1, 1, 0, 0, 0, 0, 0, 1, 0], 0.3],\n",
       " [[1, 1, 0, 0, 1, 0, 1, 0, 1, 0], 0.5],\n",
       " [[1, 1, 0, 0, 0, 1, 1, 0, 1, 0], 0.5],\n",
       " [[0, 1, 1, 1, 1, 0, 0, 1, 1, 1], 0.7],\n",
       " [[0, 0, 1, 0, 0, 1, 1, 0, 1, 1], 0.5],\n",
       " [[0, 1, 1, 1, 0, 1, 1, 1, 0, 1], 0.7],\n",
       " [[1, 0, 0, 1, 0, 1, 1, 0, 0, 1], 0.5],\n",
       " [[0, 0, 1, 0, 1, 0, 1, 0, 0, 1], 0.4],\n",
       " [[0, 1, 0, 0, 0, 0, 1, 1, 1, 1], 0.5]]"
      ]
     },
     "execution_count": 84,
     "metadata": {},
     "output_type": "execute_result"
    }
   ],
   "source": [
    "RemainPopRDD.collect()"
   ]
  }
 ],
 "metadata": {
  "hide_input": false,
  "kernelspec": {
   "display_name": "Python 3",
   "language": "python",
   "name": "python3"
  },
  "language_info": {
   "codemirror_mode": {
    "name": "ipython",
    "version": 3
   },
   "file_extension": ".py",
   "mimetype": "text/x-python",
   "name": "python",
   "nbconvert_exporter": "python",
   "pygments_lexer": "ipython3",
   "version": "3.6.3"
  },
  "varInspector": {
   "cols": {
    "lenName": 16,
    "lenType": 16,
    "lenVar": 40
   },
   "kernels_config": {
    "python": {
     "delete_cmd_postfix": "",
     "delete_cmd_prefix": "del ",
     "library": "var_list.py",
     "varRefreshCmd": "print(var_dic_list())"
    },
    "r": {
     "delete_cmd_postfix": ") ",
     "delete_cmd_prefix": "rm(",
     "library": "var_list.r",
     "varRefreshCmd": "cat(var_dic_list()) "
    }
   },
   "types_to_exclude": [
    "module",
    "function",
    "builtin_function_or_method",
    "instance",
    "_Feature"
   ],
   "window_display": false
  }
 },
 "nbformat": 4,
 "nbformat_minor": 2
}
