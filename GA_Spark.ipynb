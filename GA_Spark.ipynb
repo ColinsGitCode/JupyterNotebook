{
 "cells": [
  {
   "cell_type": "code",
   "execution_count": 1,
   "metadata": {
    "ExecuteTime": {
     "end_time": "2017-11-28T05:54:41.820417Z",
     "start_time": "2017-11-28T05:54:41.811162Z"
    },
    "collapsed": true
   },
   "outputs": [],
   "source": [
    "import random\n",
    "import sys\n",
    "import time"
   ]
  },
  {
   "cell_type": "code",
   "execution_count": 2,
   "metadata": {
    "ExecuteTime": {
     "end_time": "2017-11-28T05:54:47.558904Z",
     "start_time": "2017-11-28T05:54:43.769687Z"
    }
   },
   "outputs": [],
   "source": [
    "from pyspark import SparkConf\n",
    "from pyspark import SparkContext\n",
    "conf = SparkConf().setMaster(\"local\").setAppName(\"OneMaxPython\")\n",
    "sc = SparkContext(conf = conf)"
   ]
  },
  {
   "cell_type": "code",
   "execution_count": 3,
   "metadata": {
    "ExecuteTime": {
     "end_time": "2017-11-28T05:54:48.531394Z",
     "start_time": "2017-11-28T05:54:48.500176Z"
    },
    "collapsed": true
   },
   "outputs": [],
   "source": [
    "class Individual:\n",
    "    def __init__(self, chromosome, fitness=None):\n",
    "        # 初始化函数\n",
    "        self.chromosome = chromosome\n",
    "        self.fitness = fitness\n",
    "\n",
    "    def mutate(self, mutation): # 基因突变函数，参数 mutation 是基因变异概率\n",
    "        for i in self.chromosome: # 遍历每个遗传因子，准备变异\n",
    "            if mutation > (random.randint(0, 100) / 100): # 大于变异概率就进行变异\n",
    "                self.chromosome[i] = random.randint(0, 1)\n",
    "\n",
    "    def fit(self):\n",
    "        self.fitness = sum(self.chromosome) / len(self.chromosome) # 适应值为1的百分比，最好为100%"
   ]
  },
  {
   "cell_type": "code",
   "execution_count": 4,
   "metadata": {
    "ExecuteTime": {
     "end_time": "2017-11-28T05:54:49.753307Z",
     "start_time": "2017-11-28T05:54:49.746441Z"
    },
    "collapsed": true
   },
   "outputs": [],
   "source": [
    "def create_individual(chr_size): # 创建个体, 返回一个个体类\n",
    "    return Individual([random.randint(0, 1) for i in range(chr_size)])"
   ]
  },
  {
   "cell_type": "code",
   "execution_count": 5,
   "metadata": {
    "ExecuteTime": {
     "end_time": "2017-11-28T05:54:50.749408Z",
     "start_time": "2017-11-28T05:54:50.738127Z"
    },
    "collapsed": true
   },
   "outputs": [],
   "source": [
    "def MakePop(pop_size, ind_size):\n",
    "    lisPop = []\n",
    "    for i in range(pop_size):\n",
    "        lisPop.append([[random.randint(0,1) for i in range(ind_size)], 0])\n",
    "    return lisPop"
   ]
  },
  {
   "cell_type": "code",
   "execution_count": 6,
   "metadata": {
    "ExecuteTime": {
     "end_time": "2017-11-28T05:54:52.597469Z",
     "start_time": "2017-11-28T05:54:52.580522Z"
    },
    "collapsed": true
   },
   "outputs": [],
   "source": [
    "random.seed(64) # 随机种子设置\n",
    "\n",
    "CHROMOSOME_SIZE = 10 # 染色体尺寸\n",
    "GENE_MUTATION = 0.05 # 基因变异率\n",
    "INDIVIDUAL_MUTATION = 0.2 # 个体变异率\n",
    "CROSSOVER = 0.5\n",
    "POPULATION_SIZE = 40 # 种群数量\n",
    "ELITE_PERCENTAGE = 0.5\n",
    "#ELITE_SIZE = int(POPULATION_SIZE * ELITE_PERCENTAGE)\n",
    "ELITE_SIZE = 2 \n",
    "GENERATION_MAX = 100 # 最大迭代次数"
   ]
  },
  {
   "cell_type": "code",
   "execution_count": 8,
   "metadata": {
    "ExecuteTime": {
     "end_time": "2017-11-28T05:55:40.102596Z",
     "start_time": "2017-11-28T05:55:39.556819Z"
    },
    "collapsed": true
   },
   "outputs": [],
   "source": [
    "start = time.clock() # 开始计时\n",
    "population = MakePop(POPULATION_SIZE, CHROMOSOME_SIZE)\n",
    "popRDD = sc.parallelize(population)\n",
    "    # 计算每个个体的适应度\n",
    "   # fitPopRDD = popRDD.map(FitnessForEachInd)\n",
    "    #fitPopRDD.count() "
   ]
  },
  {
   "cell_type": "code",
   "execution_count": 10,
   "metadata": {
    "ExecuteTime": {
     "end_time": "2017-11-28T05:55:45.194975Z",
     "start_time": "2017-11-28T05:55:45.179382Z"
    },
    "collapsed": true
   },
   "outputs": [],
   "source": [
    "def Fitness(ind):\n",
    "    return sum(ind[0])/len(ind[0])\n",
    "def EvaForEachInd(ele):\n",
    "    ele[1] = sum(ele[0])/len(ele[0])\n",
    "    return ele\n",
    "    "
   ]
  },
  {
   "cell_type": "code",
   "execution_count": 11,
   "metadata": {
    "ExecuteTime": {
     "end_time": "2017-11-28T05:55:50.323101Z",
     "start_time": "2017-11-28T05:55:50.317342Z"
    },
    "collapsed": true
   },
   "outputs": [],
   "source": [
    "# 以下开始是循环内容\n",
    "# 计算每个个体的适应度\n",
    "fitRDD = popRDD.map(EvaForEachInd)"
   ]
  },
  {
   "cell_type": "code",
   "execution_count": 12,
   "metadata": {
    "ExecuteTime": {
     "end_time": "2017-11-28T05:55:51.294247Z",
     "start_time": "2017-11-28T05:55:51.154738Z"
    },
    "collapsed": true
   },
   "outputs": [],
   "source": [
    "# 把所有的Fitness都取出来\n",
    "fitValues = [ele[1] for ele in fitRDD.collect()]"
   ]
  },
  {
   "cell_type": "code",
   "execution_count": 13,
   "metadata": {
    "ExecuteTime": {
     "end_time": "2017-11-28T05:55:51.810566Z",
     "start_time": "2017-11-28T05:55:51.796828Z"
    }
   },
   "outputs": [
    {
     "name": "stdout",
     "output_type": "stream",
     "text": [
      "1 Generation ---\n",
      "\tMIN: 0.2\n",
      "\tMAX: 0.8\n",
      "\tAVG: 0.495 \n",
      "\n"
     ]
    }
   ],
   "source": [
    "print(\"{0} Generation ---\".format(1))\n",
    "print(\"\\tMIN: {0}\".format(min(fitValues)))\n",
    "print(\"\\tMAX: {0}\".format(max(fitValues)))\n",
    "print(\"\\tAVG: {0}\".format(round(sum(fitValues) / len(fitValues), 3)), \"\\n\")"
   ]
  },
  {
   "cell_type": "code",
   "execution_count": 14,
   "metadata": {
    "ExecuteTime": {
     "end_time": "2017-11-28T05:56:00.116444Z",
     "start_time": "2017-11-28T05:56:00.091204Z"
    },
    "collapsed": true
   },
   "outputs": [],
   "source": [
    "#选择精英者和剩下的群体\n",
    "def Select(fitRDD, POPULATION_SIZE, ELITE_SIZE):\n",
    "# 对评价过的种群按适应度从大到小进行排序\n",
    "    sortedPopRDD = fitRDD.sortBy((lambda x: x[1]), False)\n",
    "# 取出精英并创建精英RDD\n",
    "    lisElite = sortedPopRDD.take(ELITE_SIZE)\n",
    "    eliteRDD = sc.parallelize(lisElite)\n",
    "# 取出剩下的种群\n",
    "    RemainPop = fitRDD.sortBy(lambda x: x[1]).take(POPULATION_SIZE - ELITE_SIZE)\n",
    "    random.shuffle(RemainPop)\n",
    "    RemainPopRDD = sc.parallelize(RemainPop)\n",
    "    return eliteRDD, RemainPopRDD"
   ]
  },
  {
   "cell_type": "code",
   "execution_count": 15,
   "metadata": {
    "ExecuteTime": {
     "end_time": "2017-11-28T05:56:01.353141Z",
     "start_time": "2017-11-28T05:56:01.099578Z"
    },
    "collapsed": true
   },
   "outputs": [],
   "source": [
    "# 选择精英者和剩下的群体\n",
    "eliteRDD, RemainPopRDD = Select(fitRDD, POPULATION_SIZE, ELITE_SIZE)"
   ]
  },
  {
   "cell_type": "code",
   "execution_count": 16,
   "metadata": {
    "ExecuteTime": {
     "end_time": "2017-11-28T05:56:08.400431Z",
     "start_time": "2017-11-28T05:56:08.348291Z"
    },
    "collapsed": true
   },
   "outputs": [],
   "source": [
    "# 交叉部分\n",
    "# 交叉函数\n",
    "RemainPopList = RemainPopRDD.collect()\n"
   ]
  },
  {
   "cell_type": "code",
   "execution_count": 28,
   "metadata": {
    "ExecuteTime": {
     "end_time": "2017-11-28T06:06:35.556396Z",
     "start_time": "2017-11-28T06:06:35.543365Z"
    },
    "collapsed": true
   },
   "outputs": [],
   "source": [
    "PairRDD = sc.parallelize(RemainPopList, len(RemainPopList)/2).glom()"
   ]
  },
  {
   "cell_type": "code",
   "execution_count": 41,
   "metadata": {
    "ExecuteTime": {
     "end_time": "2017-11-28T06:11:02.564521Z",
     "start_time": "2017-11-28T06:11:02.505385Z"
    }
   },
   "outputs": [],
   "source": [
    "def crossover(a, b): # 两个个体交叉操作\n",
    "    # Two-point crossover\n",
    "    a_chr = a # 取出a的染色体\n",
    "    b_chr = b # 取出b的染色体\n",
    "    \n",
    "    size = len(a_chr) # 取出染色体的长度\n",
    "\n",
    "    f = random.randint(0, size) # 选取两个基因点，准备交叉\n",
    "    s = random.randint(f, size)\n",
    "\n",
    "    _a = a_chr[:f] + b_chr[f:s] + a_chr[s:]\n",
    "    _b = b_chr[:f] + a_chr[f:s] + b_chr[s:]\n",
    "    \n",
    "    return _a, _b\n",
    "\n",
    "def CROSSOVER(ele):\n",
    "    a_Chromo, b_Chromo = crossover(ele[0][0],ele[1][0])\n",
    "    ele[0][0] = a_Chromo\n",
    "    ele[0][1] = 0\n",
    "    ele[1][0] = b_Chromo\n",
    "    ele[1][1] = 0\n",
    "    return ele[0],ele[1]"
   ]
  },
  {
   "cell_type": "code",
   "execution_count": 45,
   "metadata": {
    "ExecuteTime": {
     "end_time": "2017-11-28T06:14:16.926284Z",
     "start_time": "2017-11-28T06:14:16.921172Z"
    },
    "collapsed": true
   },
   "outputs": [],
   "source": [
    "CrossedRDD = PairRDD.flatMap(CROSSOVER)"
   ]
  },
  {
   "cell_type": "code",
   "execution_count": 46,
   "metadata": {
    "ExecuteTime": {
     "end_time": "2017-11-28T06:14:18.418485Z",
     "start_time": "2017-11-28T06:14:17.536969Z"
    }
   },
   "outputs": [],
   "source": [
    "CrossedList = CrossedRDD.collect()\n",
    "random.shuffle(CrossedList)\n",
    "CrossedRDD = sc.parallelize(CrossedList)"
   ]
  },
  {
   "cell_type": "code",
   "execution_count": 67,
   "metadata": {
    "ExecuteTime": {
     "end_time": "2017-11-28T07:09:46.160205Z",
     "start_time": "2017-11-28T07:09:46.152553Z"
    }
   },
   "outputs": [
    {
     "data": {
      "text/plain": [
       "19.0"
      ]
     },
     "execution_count": 67,
     "metadata": {},
     "output_type": "execute_result"
    }
   ],
   "source": [
    "len(RemainPopList)/2"
   ]
  },
  {
   "cell_type": "code",
   "execution_count": 54,
   "metadata": {
    "ExecuteTime": {
     "end_time": "2017-11-28T06:26:17.991509Z",
     "start_time": "2017-11-28T06:26:17.962578Z"
    },
    "collapsed": true
   },
   "outputs": [],
   "source": [
    "# 变异部分\n",
    "def MutationForInd(gene):\n",
    "    global GENE_MUTATION\n",
    "    for i in gene:\n",
    "        if GENE_MUTATION > (random.randint(0, 100) / 100):\n",
    "            i = random.randint(0,1)\n",
    "    return gene\n",
    "            \n",
    "def Mutation(ele):\n",
    "    global INDIVIDUAL_MUTATION\n",
    "    if INDIVIDUAL_MUTATION > (random.randint(0, 100) / 100):\n",
    "        ele[0] = MutationForInd(ele[0])\n",
    "    return ele\n",
    "    \n"
   ]
  },
  {
   "cell_type": "code",
   "execution_count": 55,
   "metadata": {
    "ExecuteTime": {
     "end_time": "2017-11-28T06:26:18.495072Z",
     "start_time": "2017-11-28T06:26:18.490414Z"
    },
    "collapsed": true
   },
   "outputs": [],
   "source": [
    "MutatedRDD = CrossedRDD.map(Mutation)"
   ]
  },
  {
   "cell_type": "code",
   "execution_count": 62,
   "metadata": {
    "ExecuteTime": {
     "end_time": "2017-11-28T06:31:46.206552Z",
     "start_time": "2017-11-28T06:31:46.120994Z"
    }
   },
   "outputs": [],
   "source": [
    "MutatedList = MutatedRDD.collect()\n",
    "eliteList = eliteRDD.collect()\n",
    "population = MutatedList + eliteList"
   ]
  },
  {
   "cell_type": "code",
   "execution_count": 64,
   "metadata": {
    "ExecuteTime": {
     "end_time": "2017-11-28T06:31:56.933920Z",
     "start_time": "2017-11-28T06:31:56.905986Z"
    }
   },
   "outputs": [
    {
     "data": {
      "text/plain": [
       "[[[1, 0, 1, 0, 0, 1, 0, 0, 1, 1], 0],\n",
       " [[1, 0, 0, 0, 0, 1, 1, 0, 0, 0], 0],\n",
       " [[1, 1, 1, 1, 1, 0, 0, 0, 0, 1], 0],\n",
       " [[0, 1, 1, 1, 0, 1, 1, 1, 0, 1], 0],\n",
       " [[1, 0, 1, 0, 0, 1, 0, 0, 0, 0], 0],\n",
       " [[1, 1, 0, 1, 0, 1, 1, 0, 0, 1], 0],\n",
       " [[1, 1, 1, 1, 0, 1, 1, 1, 0, 0], 0],\n",
       " [[1, 0, 0, 1, 1, 1, 1, 0, 1, 1], 0],\n",
       " [[1, 1, 0, 0, 1, 0, 0, 1, 1, 1], 0],\n",
       " [[1, 1, 1, 1, 0, 0, 0, 0, 1, 0], 0],\n",
       " [[1, 0, 0, 0, 1, 0, 0, 0, 0, 0], 0],\n",
       " [[0, 0, 1, 1, 0, 0, 1, 1, 1, 1], 0],\n",
       " [[0, 0, 1, 1, 0, 1, 1, 1, 0, 1], 0],\n",
       " [[0, 0, 1, 0, 0, 1, 0, 1, 0, 0], 0],\n",
       " [[0, 0, 1, 0, 0, 1, 1, 0, 0, 1], 0],\n",
       " [[0, 0, 0, 0, 0, 0, 1, 1, 0, 0], 0],\n",
       " [[0, 1, 1, 1, 0, 0, 0, 1, 1, 0], 0],\n",
       " [[1, 0, 0, 1, 1, 1, 0, 0, 0, 0], 0],\n",
       " [[0, 1, 1, 0, 0, 0, 1, 0, 1, 0], 0],\n",
       " [[0, 0, 1, 1, 1, 1, 0, 1, 1, 1], 0],\n",
       " [[1, 0, 1, 1, 0, 0, 1, 0, 1, 0], 0],\n",
       " [[1, 0, 1, 1, 1, 1, 1, 0, 0, 1], 0],\n",
       " [[1, 1, 1, 0, 1, 0, 1, 0, 1, 0], 0],\n",
       " [[0, 1, 1, 0, 1, 0, 0, 1, 1, 0], 0],\n",
       " [[0, 0, 0, 1, 1, 1, 1, 0, 1, 1], 0],\n",
       " [[0, 1, 1, 1, 1, 0, 1, 1, 0, 1], 0],\n",
       " [[0, 0, 1, 0, 0, 1, 0, 1, 1, 1], 0],\n",
       " [[0, 1, 0, 0, 0, 0, 1, 0, 1, 0], 0],\n",
       " [[1, 1, 0, 1, 1, 1, 1, 0, 1, 0], 0],\n",
       " [[0, 1, 1, 1, 0, 1, 0, 1, 0, 0], 0],\n",
       " [[0, 0, 1, 0, 1, 0, 1, 0, 0, 1], 0],\n",
       " [[0, 0, 1, 0, 0, 0, 0, 0, 1, 0], 0],\n",
       " [[0, 0, 1, 0, 1, 0, 0, 0, 1, 0], 0],\n",
       " [[0, 1, 0, 0, 1, 0, 1, 0, 0, 0], 0],\n",
       " [[0, 0, 0, 1, 0, 1, 1, 0, 0, 1], 0],\n",
       " [[0, 0, 0, 0, 0, 1, 0, 0, 1, 0], 0],\n",
       " [[0, 1, 0, 0, 0, 0, 1, 1, 1, 1], 0],\n",
       " [[0, 1, 1, 1, 0, 1, 1, 0, 1, 0], 0],\n",
       " [[1, 1, 1, 0, 1, 1, 1, 0, 1, 1], 0.8],\n",
       " [[0, 1, 1, 1, 0, 1, 1, 1, 0, 1], 0.7]]"
      ]
     },
     "execution_count": 64,
     "metadata": {},
     "output_type": "execute_result"
    }
   ],
   "source": [
    "popRDD = sc.parallelize(population)"
   ]
  },
  {
   "cell_type": "code",
   "execution_count": null,
   "metadata": {
    "collapsed": true
   },
   "outputs": [],
   "source": []
  }
 ],
 "metadata": {
  "hide_input": false,
  "kernelspec": {
   "display_name": "Python 3",
   "language": "python",
   "name": "python3"
  },
  "language_info": {
   "codemirror_mode": {
    "name": "ipython",
    "version": 3
   },
   "file_extension": ".py",
   "mimetype": "text/x-python",
   "name": "python",
   "nbconvert_exporter": "python",
   "pygments_lexer": "ipython3",
   "version": "3.6.3"
  },
  "varInspector": {
   "cols": {
    "lenName": 16,
    "lenType": 16,
    "lenVar": 40
   },
   "kernels_config": {
    "python": {
     "delete_cmd_postfix": "",
     "delete_cmd_prefix": "del ",
     "library": "var_list.py",
     "varRefreshCmd": "print(var_dic_list())"
    },
    "r": {
     "delete_cmd_postfix": ") ",
     "delete_cmd_prefix": "rm(",
     "library": "var_list.r",
     "varRefreshCmd": "cat(var_dic_list()) "
    }
   },
   "types_to_exclude": [
    "module",
    "function",
    "builtin_function_or_method",
    "instance",
    "_Feature"
   ],
   "window_display": false
  }
 },
 "nbformat": 4,
 "nbformat_minor": 2
}
