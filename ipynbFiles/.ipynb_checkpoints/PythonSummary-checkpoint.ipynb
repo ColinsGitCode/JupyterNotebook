{
 "cells": [
  {
   "cell_type": "markdown",
   "metadata": {},
   "source": [
    "# 1, Python 解释器"
   ]
  },
  {
   "cell_type": "markdown",
   "metadata": {},
   "source": [
    "程序员一般使用Ipython交互解释器，通过\"%run\"等命令执行各种方便的操作"
   ]
  },
  {
   "cell_type": "markdown",
   "metadata": {},
   "source": [
    "# 2, 基础知识"
   ]
  },
  {
   "cell_type": "markdown",
   "metadata": {},
   "source": [
    "## 2.1，语言语义\n",
    "\n",
    "Python被称为*“可执行的伪码”*"
   ]
  },
  {
   "cell_type": "markdown",
   "metadata": {},
   "source": [
    "### 2.1.1，缩进，而不是大括号"
   ]
  },
  {
   "cell_type": "code",
   "execution_count": null,
   "metadata": {},
   "outputs": [],
   "source": [
    "# 例：\n",
    "for x in array:\n",
    "    if < pivot:\n",
    "        less.append(x)\n",
    "    else:\n",
    "        greater.append(x)"
   ]
  },
  {
   "cell_type": "markdown",
   "metadata": {},
   "source": [
    "冒号表示一段缩进代码的开始,其后的代码都必须缩进相同的量(一般为4个空格)，直到代码块结束为止,其他语言一般用大括号表示代码块。"
   ]
  },
  {
   "cell_type": "markdown",
   "metadata": {},
   "source": [
    "Python语句的末尾不需要分号，如果一行分割很多语句(一般不推荐)，则可以使用分号"
   ]
  },
  {
   "cell_type": "code",
   "execution_count": 2,
   "metadata": {},
   "outputs": [],
   "source": [
    "# Example\n",
    "a = 5; b = 6; c = 7"
   ]
  },
  {
   "cell_type": "markdown",
   "metadata": {},
   "source": [
    "### 2.1.2，万物皆对象"
   ]
  },
  {
   "cell_type": "markdown",
   "metadata": {},
   "source": [
    "Python具有对象模型一致性，Python解释器中的任何数值，字符串，数据结构，函数，类，模块等都是一个对象，都有与之相关的函数和内部数据，这是Python的一大优势"
   ]
  },
  {
   "cell_type": "markdown",
   "metadata": {},
   "source": [
    "### 2.1.3， 变量和按引用传递\n",
    "\n",
    "在Python中对变量进行赋值的时候，其实是创建等号右侧对象的一个引用。并不是将右侧对象的值复制然后再给到新变量"
   ]
  },
  {
   "cell_type": "code",
   "execution_count": 4,
   "metadata": {},
   "outputs": [
    {
     "data": {
      "text/plain": [
       "[1, 2, 3, 4]"
      ]
     },
     "execution_count": 4,
     "metadata": {},
     "output_type": "execute_result"
    }
   ],
   "source": [
    "# Example\n",
    "a = [1,2,3]\n",
    "b = a # 这个过程并不是[1,2,3]被复制给变量b\n",
    "      # 而是变量a和变量b现在都指向[1,2,3]\n",
    "a.append(4)\n",
    "b\n",
    "# 对变量a的操作同时也是对变量b的操作"
   ]
  },
  {
   "cell_type": "markdown",
   "metadata": {},
   "source": [
    "赋值*assignment*操作也叫绑定*binging*，其实是将一个名称和一个对象绑定到一起，已经赋过值的变量也被称为绑定变量*bound variable*\n",
    "\n",
    "**Python是按引用传递的，当函数进行参数调用的时候，其实传入的是一个引用，没有发生任何复制行为，其他语言可能有引用传递也可能有参数传递，比如c,c++等**"
   ]
  },
  {
   "cell_type": "code",
   "execution_count": 6,
   "metadata": {},
   "outputs": [
    {
     "data": {
      "text/plain": [
       "[1, 2, 3, 4]"
      ]
     },
     "execution_count": 6,
     "metadata": {},
     "output_type": "execute_result"
    }
   ],
   "source": [
    "# Example\n",
    "def append_elements(some_list, element):\n",
    "    some_list.append(element)\n",
    "#\n",
    "# 对象被函数调用，改变了变量的内容\n",
    "data = [1,2,3]\n",
    "append_elements(data,4)\n",
    "data"
   ]
  },
  {
   "cell_type": "markdown",
   "metadata": {},
   "source": [
    "### 2.1.4， 动态引用，强类型\n",
    "\n",
    "Python的变量是没有类型的，可以任意改变变量的类型，**变量其实就是对象在特定命名空间的名称而已，对象的类型信息是保存在自己内部的**\n",
    "\n",
    "**Python还是一种强类型语言，所有对象都有一个特定的类型，不能做其他语言一样的隐式转换**\n",
    "\n",
    "Type()函数可以查看变量的类型\n",
    "\n",
    "isinstance(variable,type)用于判断一个变量是否是某种类型，返回bool值\n"
   ]
  },
  {
   "cell_type": "markdown",
   "metadata": {},
   "source": [
    "### 2.1.5，属性和方法\n",
    "\n",
    "**Python中既有属性*attribute*，也有方法*method*,它们都能通过*obj.attribute_name*这样的形式来调用。**\n",
    "\n",
    "**属性**：存储在该对象内部的其他Python对象\n",
    "\n",
    "**方法**：与该对象有关的能过访问其内部数据的函数"
   ]
  },
  {
   "cell_type": "code",
   "execution_count": 8,
   "metadata": {},
   "outputs": [
    {
     "data": {
      "text/plain": [
       "<function split>"
      ]
     },
     "execution_count": 8,
     "metadata": {},
     "output_type": "execute_result"
    }
   ],
   "source": [
    "# Example\n",
    "var = 'foo'\n",
    "# 查看方法和属性\n",
    "#var.<Tab> ??\n",
    "# 属性很方法还可以利用getattr()通过名称进行访问\n",
    "getattr(var,'split')"
   ]
  },
  {
   "cell_type": "markdown",
   "metadata": {},
   "source": [
    "### 2.1.6，引入（import）\n",
    "\n",
    "在Python中，模块*module*就是一个含有函数和其他变量定义以及从其他*py文件*引入此类东西的.py文件\n",
    "\n",
    "例\n",
    "\n",
    "***import** some_module *\n",
    "\n",
    "***import** some_module **as** some_name*\n",
    "\n",
    "***form** some_module **import** module_parts*\n",
    "\n",
    "***form** some_module **import** module_parts **as** parts_name*"
   ]
  },
  {
   "cell_type": "markdown",
   "metadata": {},
   "source": [
    "### 2.1.7，二元运算符\n",
    "\n",
    "<img src=\"https://github.com/ColinsGitCode/All_Files/blob/master/LearnCode/Python/JupyterNotebook/ipynbFiles/Materials/%E4%BA%8C%E5%85%83%E8%BF%90%E7%AE%97%E7%AC%A6.jpg?raw=true\" />"
   ]
  },
  {
   "cell_type": "markdown",
   "metadata": {},
   "source": [
    "### 2.1.8，严格和懒惰\n",
    "\n",
    "Python是非常严格的语言，几乎在任何时候，计算过程好饿表达式都是立即就职的。有些Python技术(迭代器和生成器等)可以用于延迟计算*lazy evaluation*，在数据密集的应用中，执行负荷非常高的计算时能过发挥作用。"
   ]
  },
  {
   "cell_type": "markdown",
   "metadata": {},
   "source": [
    "### 2.1.9，可变和不可变的对象\n",
    "\n",
    "大部分的Python对象是可变的*mutable*，比如列表，字典，NumPy数组以及大部分用户自定义的类型和类，也就是说它们所包含的对象的值是可以修改的。\n",
    "\n",
    "而其他的如字符串和元组*tuple*则是不可变得*immutable*"
   ]
  },
  {
   "cell_type": "markdown",
   "metadata": {},
   "source": [
    "### 2.1.10，标量类型\n",
    "\n",
    "<img src=\"https://raw.githubusercontent.com/ColinsGitCode/All_Files/e66b45ed0681d7d7c65629a63c2b1bb10b13c9ee/LearnCode/Python/JupyterNotebook/ipynbFiles/Materials/%E6%A0%87%E9%87%8F%E7%B1%BB%E5%9E%8B.jpg\" />"
   ]
  },
  {
   "cell_type": "markdown",
   "metadata": {},
   "source": [
    "**PS**\n",
    "\n",
    "3//2  类型C语言，除不尽就舍弃小数部分。\n",
    "\n",
    "复数的虚部用 j 表示：  cval = 1 + 2j\n",
    "\n",
    "字符串： 'str'，\"str\"，\"\"\" 多行字符串 \"\"\",  字符串是不可变的，要修改字符串就只能创建一个新的字符串， s = str(a): str()函数将其他对象转成字符串， 字符串也可以被当成某种序列类型（列表，元组）等进行处理\n",
    "\n",
    "**s = r'this\\has\\no\\special\\characters'**   在字符串**最左边加上r**，表示字符传中不含有转移字符。\n",
    "\n",
    "**字符串格式化** ： 可以输出各种花式类型\n",
    "\n",
    "类型转换函数：str(), bool(), int(), float()\n",
    "\n",
    "**None类型**：如果一个函数没有显示返回值，则隐式返回None.\n",
    "\n"
   ]
  },
  {
   "cell_type": "markdown",
   "metadata": {},
   "source": [
    "### 2.1.11，日起和时间 （内置datetime模块）"
   ]
  },
  {
   "cell_type": "markdown",
   "metadata": {},
   "source": [
    "**datetime**模块提供了datetime,date以及time等类型"
   ]
  },
  {
   "cell_type": "code",
   "execution_count": 11,
   "metadata": {},
   "outputs": [],
   "source": [
    "from datetime import datetime,date,time\n",
    "dt = datetime(2017,10,13,0,2,22)"
   ]
  },
  {
   "cell_type": "code",
   "execution_count": 14,
   "metadata": {},
   "outputs": [
    {
     "name": "stdout",
     "output_type": "stream",
     "text": [
      "13\n"
     ]
    }
   ],
   "source": [
    "print dt.day"
   ]
  },
  {
   "cell_type": "markdown",
   "metadata": {},
   "source": [
    "详细用法可以自查学习"
   ]
  },
  {
   "cell_type": "markdown",
   "metadata": {},
   "source": [
    "### 2.1.12，控制流\n",
    "\n",
    "**if,elif和else**\n",
    "   \n",
    "<img src=\"https://raw.githubusercontent.com/ColinsGitCode/All_Files/f446ae6e021bc962794619cfd1a9c1ca6a2f2fa8/LearnCode/Python/JupyterNotebook/ipynbFiles/Materials/if%E9%80%89%E6%8B%A9%E8%AF%AD%E5%8F%A5%E5%AE%9E%E4%BE%8B.jpg\"/>"
   ]
  },
  {
   "cell_type": "markdown",
   "metadata": {},
   "source": [
    "**for循环**\n",
    "\n",
    "<img src=\"https://raw.githubusercontent.com/ColinsGitCode/All_Files/d1ca09543359a781402c02c2245eec9cc4153a1d/LearnCode/Python/JupyterNotebook/ipynbFiles/Materials/for%E5%BE%AA%E7%8E%AF.jpg\" />"
   ]
  },
  {
   "cell_type": "markdown",
   "metadata": {},
   "source": [
    "**while循环**\n",
    "\n",
    "<img src=\"https://raw.githubusercontent.com/ColinsGitCode/All_Files/3f9c3b2b41d10744d298af51c71ff0bede80d550/LearnCode/Python/JupyterNotebook/ipynbFiles/Materials/while%E5%BE%AA%E7%8E%AF.jpg\" />"
   ]
  },
  {
   "cell_type": "markdown",
   "metadata": {},
   "source": [
    "**Pass语句**\n",
    "\n",
    "<img src=\"https://raw.githubusercontent.com/ColinsGitCode/All_Files/27683c103e3d27932fab12df580a59dfd01d865f/LearnCode/Python/JupyterNotebook/ipynbFiles/Materials/Pass%E8%AF%AD%E5%8F%A5.jpg\" />"
   ]
  },
  {
   "cell_type": "markdown",
   "metadata": {},
   "source": [
    "### 2.1.13，异常处理\n"
   ]
  },
  {
   "cell_type": "markdown",
   "metadata": {},
   "source": [
    "**try ... except ...**"
   ]
  },
  {
   "cell_type": "code",
   "execution_count": 20,
   "metadata": {},
   "outputs": [
    {
     "name": "stdout",
     "output_type": "stream",
     "text": [
      "something\n",
      "(1, 2)\n"
     ]
    }
   ],
   "source": [
    "var = 'something'\n",
    "# 执行float(var)函数会报错\n",
    "# 定义新的attempt_float(x)函数增加异常处理\n",
    "def attempt_float(x):\n",
    "    try:\n",
    "        return float(x)\n",
    "    # 捕获多个异常（圆括号是必须的）\n",
    "    except(TypeError, ValueError):\n",
    "        return x\n",
    "    \n",
    "tup = (1,2)\n",
    "print attempt_float(var)\n",
    "print attempt_float(tup)"
   ]
  },
  {
   "cell_type": "markdown",
   "metadata": {},
   "source": [
    "如果不想处理任何异常，只是希望有一段代码不管try块代码成功与否都能执行，使用**finally**即可达到这个目的："
   ]
  },
  {
   "cell_type": "code",
   "execution_count": null,
   "metadata": {},
   "outputs": [],
   "source": [
    "f = open(path,'w')\n",
    "\n",
    "try:\n",
    "    write_to_file(f)\n",
    "finally:\n",
    "    f.close()\n",
    "# 文件句柄 f 始终都会被关闭"
   ]
  },
  {
   "cell_type": "markdown",
   "metadata": {},
   "source": [
    "### 2.1.14，range和xrange\n",
    "\n",
    "range()用于产生一组间隔平均的整数,所产生的整数不包括末端值\n",
    "\n",
    "非常长的范围，建议使用xrange(),参数和range一样，但它不会预先产生所有的值，并将它们保存到列表中，而是返回一个用于逐个产生整数的迭代器。\n",
    "\n"
   ]
  },
  {
   "cell_type": "code",
   "execution_count": 21,
   "metadata": {},
   "outputs": [
    {
     "data": {
      "text/plain": [
       "[0, 1, 2, 3, 4, 5, 6, 7, 8, 9]"
      ]
     },
     "execution_count": 21,
     "metadata": {},
     "output_type": "execute_result"
    }
   ],
   "source": [
    "range(10)"
   ]
  },
  {
   "cell_type": "code",
   "execution_count": 22,
   "metadata": {},
   "outputs": [
    {
     "data": {
      "text/plain": [
       "[0, 2, 4, 6, 8, 10, 12, 14, 16, 18]"
      ]
     },
     "execution_count": 22,
     "metadata": {},
     "output_type": "execute_result"
    }
   ],
   "source": [
    "range(0,20,2)\n",
    "# 指定了起始值，结束值以及步长等信息\n"
   ]
  },
  {
   "cell_type": "markdown",
   "metadata": {},
   "source": [
    "### 2.1.15 三元表达式（ternary expression）\n",
    "\n",
    "*Value = ture-expr **if** condition **else** false-expr*"
   ]
  },
  {
   "cell_type": "markdown",
   "metadata": {},
   "source": [
    "## 2.2 数据结构和序列\n",
    "\n",
    "### 2.2.1 元组（tuple）\n",
    "\n",
    "元组是一维的，定长，不可变的对象序列"
   ]
  },
  {
   "cell_type": "code",
   "execution_count": 24,
   "metadata": {},
   "outputs": [
    {
     "data": {
      "text/plain": [
       "(4, 5, 6)"
      ]
     },
     "execution_count": 24,
     "metadata": {},
     "output_type": "execute_result"
    }
   ],
   "source": [
    "# 最简单的创建元组\n",
    "A_tup = 4,5,6\n",
    "A_tup"
   ]
  },
  {
   "cell_type": "code",
   "execution_count": 25,
   "metadata": {},
   "outputs": [
    {
     "data": {
      "text/plain": [
       "((4, 5, 6), (7, 8))"
      ]
     },
     "execution_count": 25,
     "metadata": {},
     "output_type": "execute_result"
    }
   ],
   "source": [
    "# 创建一个元素为元组的复合元组\n",
    "B_tup = (4,5,6),(7,8)\n",
    "B_tup"
   ]
  },
  {
   "cell_type": "markdown",
   "metadata": {},
   "source": [
    "通过调用tuple()函数，任何序列和迭代器都可以被转换成元组：\n"
   ]
  },
  {
   "cell_type": "code",
   "execution_count": 27,
   "metadata": {},
   "outputs": [
    {
     "data": {
      "text/plain": [
       "(1, 2, 3)"
      ]
     },
     "execution_count": 27,
     "metadata": {},
     "output_type": "execute_result"
    }
   ],
   "source": [
    "tuple([1,2,3])"
   ]
  },
  {
   "cell_type": "code",
   "execution_count": 28,
   "metadata": {},
   "outputs": [
    {
     "data": {
      "text/plain": [
       "('s', 't', 'r', 'i', 'n', 'g')"
      ]
     },
     "execution_count": 28,
     "metadata": {},
     "output_type": "execute_result"
    }
   ],
   "source": [
    "tuple('string')"
   ]
  },
  {
   "cell_type": "markdown",
   "metadata": {},
   "source": [
    "元组的元素可以进行索引访问：索引同样从0开始\n"
   ]
  },
  {
   "cell_type": "code",
   "execution_count": 29,
   "metadata": {},
   "outputs": [
    {
     "data": {
      "text/plain": [
       "(7, 8)"
      ]
     },
     "execution_count": 29,
     "metadata": {},
     "output_type": "execute_result"
    }
   ],
   "source": [
    "B_tup[1]"
   ]
  },
  {
   "cell_type": "markdown",
   "metadata": {},
   "source": [
    "**虽然储存在元组中的对象本身是可变的，但是一旦创建完毕，并存放在各个插槽中的对象就不能再被修改了,即元组可以增删元素，但是不能改变元素的值**\n",
    "\n",
    "元组也可通过 + 运算符链接起来一产生更长的元组\n",
    "\n",
    "**元组 * 一个整数 = 相当于连接该元组的整数个副本**\n"
   ]
  },
  {
   "cell_type": "code",
   "execution_count": 31,
   "metadata": {},
   "outputs": [
    {
     "data": {
      "text/plain": [
       "((4, 5, 6), (7, 8), (4, 5, 6), (7, 8), (4, 5, 6), (7, 8))"
      ]
     },
     "execution_count": 31,
     "metadata": {},
     "output_type": "execute_result"
    }
   ],
   "source": [
    "B_tup * 3\n",
    "# 相当于3个B_tup进项连接"
   ]
  },
  {
   "cell_type": "markdown",
   "metadata": {},
   "source": [
    "**元组拆包（unpacking）**\n",
    "\n",
    "如果对元组变量表达式进行赋值，Python就会尝试将等号右侧的值进行拆包"
   ]
  },
  {
   "cell_type": "code",
   "execution_count": 35,
   "metadata": {},
   "outputs": [
    {
     "name": "stdout",
     "output_type": "stream",
     "text": [
      "(4, 5, 6)\n",
      "(7, 8)\n",
      "(4, 5, 6)\n",
      "7\n",
      "8\n"
     ]
    }
   ],
   "source": [
    "# 不能出现超过元组元素个数的变量被复制\n",
    "a,b = B_tup\n",
    "print a\n",
    "print b\n",
    "# 嵌套的元素也可以被拆包\n",
    "c,(e,d) = B_tup\n",
    "print c\n",
    "print e\n",
    "print d"
   ]
  },
  {
   "cell_type": "markdown",
   "metadata": {},
   "source": [
    "***Python编程小技巧***"
   ]
  },
  {
   "cell_type": "code",
   "execution_count": 37,
   "metadata": {},
   "outputs": [
    {
     "name": "stdout",
     "output_type": "stream",
     "text": [
      "2\n",
      "1\n"
     ]
    }
   ],
   "source": [
    "# Python 交换变量\n",
    "aa = 1\n",
    "bb = 2\n",
    "# 快速交换两个变量的值\n",
    "aa,bb = bb,aa\n",
    "print aa\n",
    "print bb"
   ]
  },
  {
   "cell_type": "markdown",
   "metadata": {},
   "source": [
    "**元组方法，count()函数用于计算指定值出现的次数**\n"
   ]
  },
  {
   "cell_type": "code",
   "execution_count": 39,
   "metadata": {},
   "outputs": [
    {
     "data": {
      "text/plain": [
       "4"
      ]
     },
     "execution_count": 39,
     "metadata": {},
     "output_type": "execute_result"
    }
   ],
   "source": [
    "C_tuple = (1,2,2,2,3,4,2)\n",
    "C_tuple.count(2)"
   ]
  },
  {
   "cell_type": "markdown",
   "metadata": {},
   "source": [
    "### 2.2.2 列表（list）\n",
    "\n",
    "列表是变长的，其内容是可以修改的，可以通过**list()函数**创建\n"
   ]
  },
  {
   "cell_type": "code",
   "execution_count": 2,
   "metadata": {},
   "outputs": [
    {
     "name": "stdout",
     "output_type": "stream",
     "text": [
      "['foo', 'bar', 'baz']\n",
      "baz\n"
     ]
    }
   ],
   "source": [
    "A_li = [2,3,7,None]\n",
    "D_tup = ('foo','bar','baz')\n",
    "B_li = list(D_tup)\n",
    "print B_li\n",
    "print B_li[2]\n"
   ]
  },
  {
   "cell_type": "markdown",
   "metadata": {},
   "source": [
    "添加和移除元素，**append()函数**可以将元素添加到列表的末尾，利用**insert()函数**可以将元素插入到指定位置，其逆运算是**pop()**函数，用于移除并返回指定索引处的元素："
   ]
  },
  {
   "cell_type": "code",
   "execution_count": 3,
   "metadata": {},
   "outputs": [
    {
     "name": "stdout",
     "output_type": "stream",
     "text": [
      "['foo', 'bar', 'baz', 'colin']\n",
      "['foo', 'Jaina', 'bar', 'baz', 'colin']\n",
      "bar\n"
     ]
    }
   ],
   "source": [
    "B_li.append('colin')\n",
    "print B_li\n",
    "B_li.insert(1,'Jaina')\n",
    "print B_li\n",
    "print B_li.pop(2)\n"
   ]
  },
  {
   "cell_type": "markdown",
   "metadata": {},
   "source": [
    "*remove()函数*用于按值删除元素，它找到**第一个**符合要求的元素后将其从列表中删除，在不考虑*remove*和*append*的性能时，Python列表是一种非常不错的“多重集合”数据结构"
   ]
  },
  {
   "cell_type": "code",
   "execution_count": 5,
   "metadata": {},
   "outputs": [
    {
     "name": "stdout",
     "output_type": "stream",
     "text": [
      "['foo', 'Jaina', 'baz', 'colin']\n",
      "['foo', 'baz', 'colin', 'Jaina']\n"
     ]
    }
   ],
   "source": [
    "print B_li\n",
    "B_li.append('Jaina')\n",
    "B_li.remove('Jaina')\n",
    "print B_li"
   ]
  },
  {
   "cell_type": "markdown",
   "metadata": {},
   "source": [
    "通过关键字*in*可以判断列表中是否含有某个值，**注意**，判断列表是否含有某个值的操作比字典*dict*和集合*set*慢的多，因为Python会对列表中的值进行线性扫描，而另外两个基于哈希表则可以瞬间完成判断。"
   ]
  },
  {
   "cell_type": "code",
   "execution_count": 6,
   "metadata": {},
   "outputs": [
    {
     "name": "stdout",
     "output_type": "stream",
     "text": [
      "False\n",
      "True\n"
     ]
    }
   ],
   "source": [
    "print ('dawww' in B_li)\n",
    "print ('Jaina' in B_li)"
   ]
  },
  {
   "cell_type": "markdown",
   "metadata": {},
   "source": [
    "**合并列表**，可以用 **+** 将两个列表联合起来，也可以用*extend*方法一次性添加多个元素。**注意**，列表的合并是相当非资源的操作，因为必须创建一个新列表将所有的对象复制过去，而用*extend*将元素附加到现在列表（大列表时尤其好），就会好很多，比等价的合并操作快很多\n",
    "\n",
    "<img src=\"https://raw.githubusercontent.com/ColinsGitCode/All_Files/2e586f09edbb6e67ad83548af25aa4462de3a73a/LearnCode/Python/JupyterNotebook/ipynbFiles/Materials/%E5%88%97%E8%A1%A8%E5%90%88%E5%B9%B6%E6%96%B9%E5%BC%8F%E6%AF%94%E8%BE%83.jpg\" />"
   ]
  },
  {
   "cell_type": "code",
   "execution_count": 7,
   "metadata": {},
   "outputs": [
    {
     "name": "stdout",
     "output_type": "stream",
     "text": [
      "[2, 3, 7, None, 'foo', 'baz', 'colin', 'Jaina']\n",
      "[2, 3, 7, None]\n",
      "['foo', 'baz', 'colin', 'Jaina']\n",
      "['foo', 'baz', 'colin', 'Jaina', 'Colin', \"Gul'dan\"]\n",
      "['foo', 'baz', 'colin', 'Jaina', 'Colin', \"Gul'dan\", 2, 3, 7, None]\n"
     ]
    }
   ],
   "source": [
    "C_li = A_li + B_li\n",
    "print C_li\n",
    "print A_li\n",
    "print B_li\n",
    "B_li.extend(['Colin','Gul\\'dan'])\n",
    "print B_li\n",
    "B_li.extend(A_li)\n",
    "print B_li"
   ]
  },
  {
   "cell_type": "markdown",
   "metadata": {},
   "source": [
    "**排序**, 利用*sort*方法可以实现就地排序（无需创建新对象）"
   ]
  },
  {
   "cell_type": "code",
   "execution_count": 9,
   "metadata": {},
   "outputs": [
    {
     "name": "stdout",
     "output_type": "stream",
     "text": [
      "[1, 2, 3, 5, 7]\n"
     ]
    }
   ],
   "source": [
    "D_li = [7,5,1,3,2]\n",
    "D_li.sort()\n",
    "print D_li"
   ]
  },
  {
   "cell_type": "markdown",
   "metadata": {},
   "source": [
    "*sort*有几个不错的选项，一个是次要排序键，即一个能够产生可用于排序的值得函数，实例如下：\n"
   ]
  },
  {
   "cell_type": "code",
   "execution_count": 15,
   "metadata": {},
   "outputs": [
    {
     "name": "stdout",
     "output_type": "stream",
     "text": [
      "['foo', 'baz', 'colin', 'Jaina', 'Colin', \"Gul'dan\"]\n",
      "['foo', 'baz', 'colin', 'Jaina', 'Colin', \"Gul'dan\"]\n",
      "['foo', 'baz', 'colin', 'Jaina', 'Colin', \"Gul'dan\"]\n"
     ]
    }
   ],
   "source": [
    "print B_li\n",
    "B_li.sort(key=len)\n",
    "print B_li"
   ]
  },
  {
   "cell_type": "markdown",
   "metadata": {},
   "source": [
    "**二分搜索及维护有序列表**\n",
    "\n",
    "内置的*bisect*模块实现了二分查找以及对有序列表的插入操作，*bisect.bisect*可以找出新元素应该插入到哪个位置才能保持原列表的有序性，而bisect.insort则确实地将新元素插入到合适的位置上："
   ]
  },
  {
   "cell_type": "code",
   "execution_count": 17,
   "metadata": {},
   "outputs": [
    {
     "name": "stdout",
     "output_type": "stream",
     "text": [
      "6\n",
      "[1, 2, 2, 2, 3, 4, 6, 7, 22]\n"
     ]
    }
   ],
   "source": [
    "import bisect\n",
    "E_li = [1,2,2,2,3,4,7,22]\n",
    "pos = bisect.bisect(E_li,5)\n",
    "# 返回应该插入的位置\n",
    "print pos\n",
    "bisect.insort(E_li,pos)\n",
    "# 在合适的位置上直接插入pos\n",
    "print E_li"
   ]
  },
  {
   "cell_type": "markdown",
   "metadata": {},
   "source": [
    "**切片**\n",
    "\n",
    "通过切片标记法，可以选取序列类型（数组，元组，NumPy数组等）的子集，其基本形式有索引运算符[]以及其传入的*start:stop*构成：切片中元素数量为：*stop-start*\n",
    "\n",
    "<img src=\"https://raw.githubusercontent.com/ColinsGitCode/All_Files/1f33cad6d7936dd07d65d79eea29039f8b45a22b/LearnCode/Python/JupyterNotebook/ipynbFiles/Materials/Python%E7%9A%84%E5%88%87%E7%89%87%E6%96%B9%E5%BC%8F.jpg\" />"
   ]
  },
  {
   "cell_type": "code",
   "execution_count": 30,
   "metadata": {},
   "outputs": [
    {
     "name": "stdout",
     "output_type": "stream",
     "text": [
      "[7, 2, 3, 7, 5, 6, 0, 1]\n",
      "[2, 3, 7, 5]\n",
      "[7]\n",
      "[7, 2, 3, 6, 3, 2, 5, 6, 0, 1]\n",
      "[7, 2, 3]\n",
      "[6, 3, 2, 5, 6, 0, 1]\n",
      "[6, 0, 1]\n",
      "[2, 3, 6, 3]\n",
      "[2, 6]\n"
     ]
    }
   ],
   "source": [
    "F_li = [7,2,3,7,5,6,0,1]\n",
    "print F_li\n",
    "print F_li[1:5]  # 从索引位置1开始到位置5之前结束（索引位置从0开始）\n",
    "# 切片还可以被赋值为一段序列\n",
    "print F_li[3:4]\n",
    "F_li[3:4] = [6,3,2]  # 可以在该段切片中加入任意长度的序列，不必局限于相等长度\n",
    "print F_li\n",
    "# start和stop都是可以省略的，它们默认为序列的起始处和结尾处\n",
    "print F_li[:3]\n",
    "print F_li[3:]\n",
    "# 负数索引表示从序列的末尾开始切片,但是切片内部的元素顺序还为原来的循序，并没有倒置\n",
    "print F_li[-3:]\n",
    "# 切片还可以设置步长\n",
    "print F_li[1:5]\n",
    "print F_li[1:5:2] # 设置步长为2"
   ]
  },
  {
   "cell_type": "markdown",
   "metadata": {},
   "source": [
    "**内置的常用序列函数**\n",
    "\n",
    "*enumerate()函数*可以逐个返回序列的（i,value）元组"
   ]
  },
  {
   "cell_type": "code",
   "execution_count": 35,
   "metadata": {},
   "outputs": [],
   "source": [
    "a_tup = enumerate(F_li)\n",
    "# print a_tup\n",
    "for i,value in enumerate(F_li):\n",
    "    # i gets the index of F_li, value gets the elements of F_li\n",
    "    #print i\n",
    "    pass\n",
    "    #print value\n",
    "    \n",
    "    "
   ]
  },
  {
   "cell_type": "markdown",
   "metadata": {},
   "source": [
    "在对数据进行索引时，*enumerate*还有一种不错的使用模式，即求去一个将序列值（假设唯一）映射到其所在位置的字典"
   ]
  },
  {
   "cell_type": "code",
   "execution_count": 36,
   "metadata": {},
   "outputs": [
    {
     "name": "stdout",
     "output_type": "stream",
     "text": [
      "{'baz': 2, 'foo': 0, 'bar': 1}\n"
     ]
    }
   ],
   "source": [
    "some_list = ['foo','bar','baz']\n",
    "mapping = dict((v,i) for i,v in enumerate(some_list))\n",
    "print mapping"
   ]
  },
  {
   "cell_type": "markdown",
   "metadata": {},
   "source": [
    "*sorted()函数*可以将任何序列返回为一个有序的列表，且常常将*sorted*和*set*结合起来以得到一个有序列中的唯一元素组成的有序列表："
   ]
  },
  {
   "cell_type": "code",
   "execution_count": 42,
   "metadata": {
    "scrolled": true
   },
   "outputs": [
    {
     "name": "stdout",
     "output_type": "stream",
     "text": [
      "[7, 2, 3, 6, 3, 2, 5, 6, 0, 1]\n",
      "[7, 2, 3, 6, 3, 2, 5, 6, 0, 1]\n",
      "[0, 1, 2, 2, 3, 3, 5, 6, 6, 7]\n",
      "[7, 2, 3, 6, 3, 2, 5, 6, 0, 1]\n",
      "[0, 1, 2, 3, 5, 6, 7]\n",
      "[' ', '!', 'T', 'e', 'g', 'h', 'i', 'j', 'm', 'n', 'o', 'r', 's', 't', 'u']\n"
     ]
    }
   ],
   "source": [
    "print F_li\n",
    "S_li = sorted(F_li)\n",
    "# Did not change F_li yet!!\n",
    "print F_li\n",
    "print S_li\n",
    "# sorted and set, set() still would not change the F_li\n",
    "SS_li = sorted(set(F_li))\n",
    "print F_li\n",
    "print SS_li\n",
    "str_li = sorted(set(\"This is just some strings!\"))\n",
    "print str_li"
   ]
  },
  {
   "cell_type": "markdown",
   "metadata": {},
   "source": [
    "*zip()函数* 用于将多个序列中的元素“配对”，从而产生一个新的**元组**列表，*zip()函数*可以接受任意数量的序列，最终得到的元组由**最短的序列**决定, 对于\"已压缩的*zipped*\"的序列，*zip*有很巧妙的方法进行\"解压*unzip*\",其实就是讲一组行转换成一组列。"
   ]
  },
  {
   "cell_type": "code",
   "execution_count": 49,
   "metadata": {},
   "outputs": [
    {
     "name": "stdout",
     "output_type": "stream",
     "text": [
      "[('foo', 'one'), ('bar', 'two'), ('baz', 'three')]\n",
      "[('one', False), ('two', True)]\n",
      "0: foo,one\n",
      "1: bar,two\n",
      "2: baz,three\n",
      "[('foo', 'one', 'Colin'), ('bar', 'two', 'Xue'), ('baz', 'three', 'Jaina')]\n",
      "0: foo,one,Colin\n",
      "1: bar,two,Xue\n",
      "2: baz,three,Jaina\n",
      "('foo', 'bar', 'baz')\n",
      "('one', 'two', 'three')\n"
     ]
    }
   ],
   "source": [
    "seq1 = ['foo','bar','baz']\n",
    "seq2 = ['one','two','three']\n",
    "s1_s2 = zip(seq1,seq2)\n",
    "# 进行配对\n",
    "print s1_s2\n",
    "# 处理不同长度的序列,最终长度由最短的决定！\n",
    "seq3 = [False,True]\n",
    "s2_s3 = zip(seq2,seq3)\n",
    "print s2_s3\n",
    "# 和enumerate()进行配合，处理多个序列的同时迭代\n",
    "for i,(a,b) in enumerate(zip(seq1,seq2)):\n",
    "    print('%d: %s,%s' %(i,a,b))\n",
    "    \n",
    "seq4 = ['Colin','Xue','Jaina']\n",
    "s124 = zip(seq1,seq2,seq4)\n",
    "print s124\n",
    "\n",
    "for i,(a,b,c) in enumerate(s124):\n",
    "    print('%d: %s,%s,%s' %(i,a,b,c))\n",
    "    \n",
    "# unzip, 利用神奇的 “ * ” 进行处理\n",
    "first,last = zip(*s1_s2)\n",
    "print first\n",
    "print last\n",
    "# \"*\" 在此处的用法相当于如下代码段\n",
    "# zip(seq[0],seq[1],...,seq[len(seq)-1])"
   ]
  },
  {
   "cell_type": "markdown",
   "metadata": {},
   "source": [
    "*reversed()函数*用于按逆序迭代序列中的元素"
   ]
  },
  {
   "cell_type": "markdown",
   "metadata": {},
   "source": [
    "### 2.2.3 字典（dict）（哈希映射hash map）（相联数组associative array）\n",
    "\n",
    "一种大小可变的键值对集，键*key*和值*value*都是对象"
   ]
  },
  {
   "cell_type": "code",
   "execution_count": 55,
   "metadata": {},
   "outputs": [
    {
     "name": "stdout",
     "output_type": "stream",
     "text": [
      "{'a': 'some value', 'b': [1, 2, 3, 4]}\n",
      "{'a': 'some value', 'b': [1, 2, 3, 4], 7: 'an integer'}\n",
      "{'a': 'some value', 'Colin': 'Jaina', 'b': [1, 2, 3, 4], 7: 'an integer'}\n",
      "Jaina\n"
     ]
    },
    {
     "data": {
      "text/plain": [
       "True"
      ]
     },
     "execution_count": 55,
     "metadata": {},
     "output_type": "execute_result"
    }
   ],
   "source": [
    "# 创建字典，利用{}和冒号分割键和值\n",
    "empty_dict = {}\n",
    "d1 = {'a':'some value','b':[1,2,3,4]}\n",
    "print d1\n",
    "# 插入新字典元素: 字典的索引就是键值\n",
    "d1[7] = 'an integer'\n",
    "print d1\n",
    "d1['Colin'] = 'Jaina'\n",
    "print d1\n",
    "# 地点元素的调用\n",
    "print d1['Colin']\n",
    "# print d1['Jaina']，不能使用字典的value值来作为索引来调用\n",
    "# 判断字典中是否存在某个键\n",
    "'b' in d1"
   ]
  },
  {
   "cell_type": "markdown",
   "metadata": {},
   "source": [
    "使用del关键字或pop方法（删除指定值之后将其返回）可以删除值"
   ]
  },
  {
   "cell_type": "code",
   "execution_count": 59,
   "metadata": {},
   "outputs": [
    {
     "name": "stdout",
     "output_type": "stream",
     "text": [
      "{'a': 'some value', 'dummy': 'another value', 'b': [1, 2, 3, 4], 5: 'some value', 7: 'an integer', 'Colin': 'Jaina'}\n",
      "{'a': 'some value', 'dummy': 'another value', 'b': [1, 2, 3, 4], 7: 'an integer', 'Colin': 'Jaina'}\n",
      "another value\n",
      "{'a': 'some value', 'b': [1, 2, 3, 4], 7: 'an integer', 'Colin': 'Jaina'}\n"
     ]
    }
   ],
   "source": [
    "d1[5] = 'some value'\n",
    "d1['dummy'] = 'another value'\n",
    "print d1\n",
    "del d1[5]\n",
    "print d1\n",
    "ret = d1.pop('dummy')\n",
    "print ret\n",
    "print d1"
   ]
  },
  {
   "cell_type": "markdown",
   "metadata": {},
   "source": [
    "*keys\\()*和*value\\()*方法分别用于获取键值和值的列表，虽然键值对没有特定的顺序，但这两个函数会以相同的顺序输出键和值,如果是**Python3**，则会返回迭代器而不是列表。"
   ]
  },
  {
   "cell_type": "code",
   "execution_count": 60,
   "metadata": {},
   "outputs": [
    {
     "data": {
      "text/plain": [
       "['a', 'b', 7, 'Colin']"
      ]
     },
     "execution_count": 60,
     "metadata": {},
     "output_type": "execute_result"
    }
   ],
   "source": [
    "d1.keys()"
   ]
  },
  {
   "cell_type": "code",
   "execution_count": 61,
   "metadata": {},
   "outputs": [
    {
     "data": {
      "text/plain": [
       "['some value', [1, 2, 3, 4], 'an integer', 'Jaina']"
      ]
     },
     "execution_count": 61,
     "metadata": {},
     "output_type": "execute_result"
    }
   ],
   "source": [
    "d1.values()"
   ]
  },
  {
   "cell_type": "markdown",
   "metadata": {},
   "source": [
    "使用*update\\()*方法，一个字典可以被合并到另一个字典中："
   ]
  },
  {
   "cell_type": "code",
   "execution_count": 62,
   "metadata": {},
   "outputs": [
    {
     "name": "stdout",
     "output_type": "stream",
     "text": [
      "{'a': 'some value', 'c': 12, 'b': 'foo', 7: 'an integer', 'Colin': 'Jaina'}\n"
     ]
    }
   ],
   "source": [
    "d2 = {'b':'foo','c': 12}\n",
    "d1.update(d2)\n",
    "print d1"
   ]
  },
  {
   "cell_type": "markdown",
   "metadata": {},
   "source": [
    "**从序列类型创建字典**\n",
    "\n",
    "将两个序列中的元素两两配对组成一个字典，可以用*dict\\()*方法，进行处理"
   ]
  },
  {
   "cell_type": "code",
   "execution_count": 63,
   "metadata": {},
   "outputs": [
    {
     "name": "stdout",
     "output_type": "stream",
     "text": [
      "{0: 4, 1: 3, 2: 2, 3: 1, 4: 0}\n"
     ]
    }
   ],
   "source": [
    "Seq2Dic = dict(zip(range(5),reversed(range(5))))\n",
    "# dict()函数内部需要一个元组列表\n",
    "print Seq2Dic"
   ]
  },
  {
   "cell_type": "markdown",
   "metadata": {},
   "source": [
    "**默认值**"
   ]
  },
  {
   "cell_type": "code",
   "execution_count": 64,
   "metadata": {},
   "outputs": [
    {
     "name": "stdout",
     "output_type": "stream",
     "text": [
      "{'a': ['apple', 'atom'], 'b': ['bat', 'bar', 'book']}\n"
     ]
    }
   ],
   "source": [
    "# 根据首字母对一组单词进行分类并最终产生一个有列表组成的字典\n",
    "words = ['apple','bat','bar','atom','book']\n",
    "by_letter = {}\n",
    "for word in words:\n",
    "    letter = word[0]\n",
    "    if letter not in by_letter:\n",
    "        by_letter[letter] = [word] # 发现新首字母，创建新的列表作为以该字母为key值的value列表\n",
    "    else:\n",
    "        by_letter[letter].append(word)\n",
    "print by_letter"
   ]
  },
  {
   "cell_type": "code",
   "execution_count": 65,
   "metadata": {},
   "outputs": [
    {
     "name": "stdout",
     "output_type": "stream",
     "text": [
      "{'a': ['apple', 'atom'], 'b': ['bat', 'bar', 'book']}\n"
     ]
    }
   ],
   "source": [
    "# 根据首字母对一组单词进行分类并最终产生一个有列表组成的字典\n",
    "# 采用字典的setdefault方法实现上面程序同样的功能\n",
    "# \n",
    "words = ['apple','bat','bar','atom','book']\n",
    "by_letter = {}\n",
    "for word in words:\n",
    "    letter = word[0]\n",
    "    # 内置的collections模块有一个叫作defaultdict的类，它可以是这个过程更简单\n",
    "    # 下面的if-else语句块可以被下面语句代替，效果不变\n",
    "    by_letter.setdefault(letter,[]).append(word)\n",
    "    #if letter not in by_letter:\n",
    "     #   by_letter[letter] = [word] # 发现新首字母，创建新的列表作为以该字母为key值的value列表\n",
    "    #else:\n",
    "     #   by_letter[letter].append(word)\n",
    "print by_letter"
   ]
  },
  {
   "cell_type": "code",
   "execution_count": 68,
   "metadata": {},
   "outputs": [
    {
     "name": "stdout",
     "output_type": "stream",
     "text": [
      "defaultdict(<type 'list'>, {'a': ['apple', 'atom'], 'b': ['bat', 'bar', 'book']})\n",
      "defaultdict(<function <lambda> at 0xb465bed4>, {})\n"
     ]
    }
   ],
   "source": [
    "# 内置的collections模块有一个叫作defaultdict的类，它可以是上面的过程更简单\n",
    "# 传入一个类型和函数（用于生成字典个插槽所使用的默认值）即可创建出一个defaultdict:\n",
    "from collections import defaultdict\n",
    "by_letter = defaultdict(list)  # 字典的插槽（元素）的类型为list\n",
    "for word in words:\n",
    "    by_letter[word[0]].append(word)\n",
    "print by_letter\n",
    "# defaultdict的初始化器只需要一个可调用的对象（例如各种函数），并不需要明确的类型\n",
    "# 因此，如果你想要将默认值设置为4，只需要传入一个更够返回4的函数即可：\n",
    "counts =  defaultdict(lambda:4)\n",
    "print counts"
   ]
  },
  {
   "cell_type": "markdown",
   "metadata": {},
   "source": [
    "**字典数据的有效类型**\n",
    "\n",
    "虽然字典的值*value*可以是任何Python对象，但键*key*值必须是不可变对象，如标量类型（整数，浮点数，字符串）或元组（元组中的对象也必须是不可变的）。即可哈希性(可散列性)(*hashabiblity*),通过*hash\\()*可以判断一个对象是否是可哈希的（即可以用作字典的键）："
   ]
  },
  {
   "cell_type": "code",
   "execution_count": 72,
   "metadata": {},
   "outputs": [
    {
     "name": "stdout",
     "output_type": "stream",
     "text": [
      "-1542666171\n",
      "1229485614\n"
     ]
    },
    {
     "ename": "TypeError",
     "evalue": "unhashable type: 'list'",
     "output_type": "error",
     "traceback": [
      "\u001b[0;31m---------------------------------------------------------------------------\u001b[0m",
      "\u001b[0;31mTypeError\u001b[0m                                 Traceback (most recent call last)",
      "\u001b[0;32m<ipython-input-72-e59bcb571441>\u001b[0m in \u001b[0;36m<module>\u001b[0;34m()\u001b[0m\n\u001b[1;32m      2\u001b[0m \u001b[0;32mprint\u001b[0m \u001b[0mhash\u001b[0m\u001b[0;34m(\u001b[0m\u001b[0;34m(\u001b[0m\u001b[0;36m1\u001b[0m\u001b[0;34m,\u001b[0m\u001b[0;36m2\u001b[0m\u001b[0;34m,\u001b[0m\u001b[0;34m(\u001b[0m\u001b[0;36m3\u001b[0m\u001b[0;34m,\u001b[0m\u001b[0;36m4\u001b[0m\u001b[0;34m)\u001b[0m\u001b[0;34m)\u001b[0m\u001b[0;34m)\u001b[0m\u001b[0;34m\u001b[0m\u001b[0m\n\u001b[1;32m      3\u001b[0m \u001b[0;31m# 下面语句会报错，因为[3,4]是可变的\u001b[0m\u001b[0;34m\u001b[0m\u001b[0;34m\u001b[0m\u001b[0m\n\u001b[0;32m----> 4\u001b[0;31m \u001b[0;32mprint\u001b[0m \u001b[0mhash\u001b[0m\u001b[0;34m(\u001b[0m\u001b[0;34m(\u001b[0m\u001b[0;36m1\u001b[0m\u001b[0;34m,\u001b[0m\u001b[0;36m2\u001b[0m\u001b[0;34m,\u001b[0m\u001b[0;34m[\u001b[0m\u001b[0;36m3\u001b[0m\u001b[0;34m,\u001b[0m\u001b[0;36m4\u001b[0m\u001b[0;34m]\u001b[0m\u001b[0;34m)\u001b[0m\u001b[0;34m)\u001b[0m\u001b[0;34m\u001b[0m\u001b[0m\n\u001b[0m",
      "\u001b[0;31mTypeError\u001b[0m: unhashable type: 'list'"
     ]
    }
   ],
   "source": [
    "print hash('string')\n",
    "print hash((1,2,(3,4)))\n",
    "# 下面语句会报错，因为[3,4]是可变的\n",
    "print hash((1,2,[3,4]))\n",
    "# 若要使用列表做键值，则需要转换成元组之后使用"
   ]
  },
  {
   "cell_type": "markdown",
   "metadata": {},
   "source": [
    "### 2.2.4 集合（set）\n",
    "\n",
    "集合是有唯一元素组成的无序集，可以看做是只有键而没有值的字典"
   ]
  },
  {
   "cell_type": "code",
   "execution_count": 84,
   "metadata": {},
   "outputs": [
    {
     "name": "stdout",
     "output_type": "stream",
     "text": [
      "set([1, 2, 3, 4, 7])\n",
      "set([1, 2, 3, 4, 5, 6])\n",
      "set([1, 2, 3, 4, 5, 6, 7])\n",
      "set([1, 2, 3, 4])\n",
      "set([7])\n",
      "set([5, 6, 7])\n",
      "True\n",
      "True\n",
      "True\n"
     ]
    }
   ],
   "source": [
    "# 创建集合\n",
    "# 1，用set()函数\n",
    "a_set = set([2,2,2,1,3,3,4,7])\n",
    "print a_set\n",
    "# 2, 用{}进行创建\n",
    "b_set = {2,5,6,6,2,2,3,3,3,4,4,4,1}\n",
    "print b_set\n",
    "\n",
    "# 集合可以进行集合运算\n",
    "# 1, 并集（或）\n",
    "or_set = a_set | b_set\n",
    "print or_set\n",
    "# 2, 交集（与）\n",
    "and_set = a_set & b_set\n",
    "print and_set\n",
    "# 3, 差\n",
    "min_set = a_set - b_set\n",
    "print min_set\n",
    "# 4，对称差（异或）\n",
    "xor_set = a_set ^ b_set\n",
    "print xor_set\n",
    "\n",
    "# 判断一个集合是否是另一个集合的子集\n",
    "print({1,2,3}.issubset(a_set))\n",
    "# 判断一个集合是否是另一个自合的超集\n",
    "print(a_set.issuperset({1,2}))\n",
    "# 集合相等即两个集合一样\n",
    "print({1,2}=={1,2})"
   ]
  },
  {
   "cell_type": "markdown",
   "metadata": {},
   "source": [
    "**集合的运算**\n",
    "\n",
    "<img src=\"https://raw.githubusercontent.com/ColinsGitCode/All_Files/fb73942e12aca0100f14cf78fbe756d78edade3d/LearnCode/Python/JupyterNotebook/ipynbFiles/Materials/Sets_Functions.jpg\" />"
   ]
  },
  {
   "cell_type": "markdown",
   "metadata": {},
   "source": [
    "### 2.2.5 列表，集合，字典的推导式\n",
    "\n",
    "基本形式:    **[*expr* for *var* in *collection* if *condition* ]**\n",
    "\n",
    "相当于下面的循环： \n"
   ]
  },
  {
   "cell_type": "code",
   "execution_count": 90,
   "metadata": {},
   "outputs": [
    {
     "name": "stdout",
     "output_type": "stream",
     "text": [
      "['BAT', 'CAR', 'DOVE', 'PYTHON']\n",
      "set([1, 2, 3, 4, 6])\n",
      "{'a': 0, 'bat': 2, 'python': 5, 'car': 3, 'as': 1, 'dove': 4}\n",
      "{'a': 0, 'bat': 2, 'python': 5, 'car': 3, 'as': 1, 'dove': 4}\n"
     ]
    }
   ],
   "source": [
    "# [expr for var in collection if condition] ： 列表符号\n",
    "# 相当于下面循环：\n",
    "# result = []\n",
    "# for val in collection (if condition) : 过滤条件可以省略\n",
    "#     for condition:\n",
    "#         result.append(expr)\n",
    "#\n",
    "# Example\n",
    "strings = ['a','as','bat','car','dove','python']\n",
    "# 给定一个字符串，过滤出长度大于2的字符串，并修改成大写，组成列表\n",
    "results = [x.upper() for x in strings if len(x) > 2]\n",
    "print results\n",
    "\n",
    "# {....} 为集合或字典的操作\n",
    "# 字典：   {key-expr : value-expr for var in collection if condition}\n",
    "# 集合：   {expr for var in collection if condition}\n",
    "# \n",
    "# Example : 构造集合内容字符串长度的集合\n",
    "res_set = {len(x) for x in strings}\n",
    "print res_set\n",
    "#\n",
    "# Example : 字典，为这些字符串创建一个指向其列表位置的映射关系\n",
    "res_dic = {val : index for index, val in enumerate(strings)}\n",
    "print res_dic\n",
    "# Example: 另一种构建字典方法\n",
    "res_dic2 = dict((val,idx) for idx,val in enumerate(strings))\n",
    "print res_dic2"
   ]
  },
  {
   "cell_type": "markdown",
   "metadata": {},
   "source": [
    "**嵌套列表的推导式**"
   ]
  },
  {
   "cell_type": "code",
   "execution_count": 96,
   "metadata": {},
   "outputs": [
    {
     "name": "stdout",
     "output_type": "stream",
     "text": [
      "['Jefferson', 'Wesley', 'Steven', 'Jennifer', 'Stephanie']\n",
      "['Jefferson', 'Wesley', 'Steven', 'Jennifer', 'Stephanie']\n",
      "[1, 2, 3, 4, 5, 6, 7, 8, 9]\n"
     ]
    }
   ],
   "source": [
    "# 有一个有男孩名和女孩名组成的列表，即列表的列表\n",
    "all_data = [['Tom','Billy','Jefferson','Andrew','Wesley','Steven','Joe'],\n",
    "            ['Susie','Casey','Jill','Ana','Eva','Jennifer','Stephanie']]\n",
    "# 现在需要找出含有两个以上字母e的名字，并将它放入一个新列表中\n",
    "# 一般方法：\n",
    "e2_comm = []\n",
    "for names in all_data:  # 男孩，女孩名分开进行操作\n",
    "    ok_names = [name for name in names if name.count('e') >=2 ]\n",
    "    e2_comm.extend(ok_names)  # ok_names为列表，所以需要用extend()函数\n",
    "print e2_comm\n",
    "\n",
    "# 嵌套推导式方法\n",
    "e2_new = [name for names in all_data for name in names if name.count('e')>=2]\n",
    "print e2_new\n",
    "# 推导式中for的部分是按照嵌套顺序排列的，而过滤条件和之前一样放在最后面。\n",
    "\n",
    "# Example: 将一个由整数元组组成的列表扁平化为一个简单的整数列表：\n",
    "some_tuples = [(1,2,3),(4,5,6),(7,8,9)]\n",
    "res_list = [var for ele_tuple in some_tuples for var in ele_tuple]\n",
    "print res_list\n",
    "# 记忆诀窍：嵌套for循环中各个for的顺序是怎样的，嵌套推导式中各个for表达式的顺序就是怎样的"
   ]
  },
  {
   "cell_type": "markdown",
   "metadata": {},
   "source": [
    "## 2.3 函数"
   ]
  },
  {
   "cell_type": "code",
   "execution_count": null,
   "metadata": {},
   "outputs": [],
   "source": []
  }
 ],
 "metadata": {
  "kernelspec": {
   "display_name": "Python 2",
   "language": "python",
   "name": "python2"
  },
  "language_info": {
   "codemirror_mode": {
    "name": "ipython",
    "version": 2
   },
   "file_extension": ".py",
   "mimetype": "text/x-python",
   "name": "python",
   "nbconvert_exporter": "python",
   "pygments_lexer": "ipython2",
   "version": "2.7.12"
  }
 },
 "nbformat": 4,
 "nbformat_minor": 2
}
