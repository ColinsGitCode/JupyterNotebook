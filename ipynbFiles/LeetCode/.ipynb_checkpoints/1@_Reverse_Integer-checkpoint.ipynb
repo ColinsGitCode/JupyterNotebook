{
 "cells": [
  {
   "cell_type": "markdown",
   "metadata": {},
   "source": [
    "# Reverse Integer"
   ]
  },
  {
   "cell_type": "markdown",
   "metadata": {},
   "source": [
    "## 1, Question \n",
    "\n",
    "Reverse digits of an integer\n",
    "\n",
    "**Example1**: x = 123, return 321\n",
    "\n",
    "**Example2**: x = -123, return -321\n",
    "\n",
    "**Note：** The input is assumed to be a 32-bit signed integer. Your function should **return 0 when the reversed integer overflows**"
   ]
  },
  {
   "cell_type": "markdown",
   "metadata": {},
   "source": [
    "## 2, My Code"
   ]
  },
  {
   "cell_type": "code",
   "execution_count": null,
   "metadata": {
    "collapsed": true
   },
   "outputs": [],
   "source": [
    "class Solution(object):\n",
    "    def reverse(self, x):\n",
    "        \"\"\"\n",
    "        \"\"\""
   ]
  },
  {
   "cell_type": "code",
   "execution_count": 3,
   "metadata": {},
   "outputs": [
    {
     "data": {
      "text/plain": [
       "0"
      ]
     },
     "execution_count": 3,
     "metadata": {},
     "output_type": "execute_result"
    }
   ],
   "source": [
    "# 检测输入的数字是否溢出\n",
    "def ifOverflow(x):\n",
    "    if isinstance(x,int):\n",
    "        return 1\n",
    "    else:\n",
    "        return 0"
   ]
  },
  {
   "cell_type": "code",
   "execution_count": 18,
   "metadata": {},
   "outputs": [
    {
     "data": {
      "text/plain": [
       "0"
      ]
     },
     "execution_count": 18,
     "metadata": {},
     "output_type": "execute_result"
    }
   ],
   "source": [
    "# int--> str\n",
    "def reverse(x):\n",
    "    if ifOverflow(x)==0 :\n",
    "        return 0\n",
    "    if x<0 :\n",
    "        flag = -1\n",
    "        x = -x\n",
    "    elif x==0:\n",
    "        return 0\n",
    "    else:\n",
    "        flag = 1\n",
    "    intReversed = 0\n",
    "    while(1):\n",
    "        LastInt = x-(x/10)*10\n",
    "        x = x/10\n",
    "        intReversed = intReversed*10 + LastInt\n",
    "        if x/10<=0 :\n",
    "            intReversed = intReversed*10 + x\n",
    "            break\n",
    "    return intReversed*flag\n",
    "\n",
    "y = reverse(456223456223.44)\n",
    "y\n",
    "        \n",
    " "
   ]
  },
  {
   "cell_type": "code",
   "execution_count": null,
   "metadata": {
    "collapsed": true
   },
   "outputs": [],
   "source": []
  }
 ],
 "metadata": {
  "kernelspec": {
   "display_name": "Python 2",
   "language": "python",
   "name": "python2"
  },
  "language_info": {
   "codemirror_mode": {
    "name": "ipython",
    "version": 2
   },
   "file_extension": ".py",
   "mimetype": "text/x-python",
   "name": "python",
   "nbconvert_exporter": "python",
   "pygments_lexer": "ipython2",
   "version": "2.7.12"
  }
 },
 "nbformat": 4,
 "nbformat_minor": 2
}
