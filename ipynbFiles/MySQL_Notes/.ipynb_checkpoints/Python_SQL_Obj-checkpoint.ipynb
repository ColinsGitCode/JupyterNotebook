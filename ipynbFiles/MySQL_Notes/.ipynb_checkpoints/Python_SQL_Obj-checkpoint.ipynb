{
 "cells": [
  {
   "cell_type": "markdown",
   "metadata": {},
   "source": [
    "## Python SQL Obj\n"
   ]
  },
  {
   "cell_type": "code",
   "execution_count": 89,
   "metadata": {
    "ExecuteTime": {
     "end_time": "2017-10-20T12:56:53.800120Z",
     "start_time": "2017-10-20T12:56:53.796210Z"
    },
    "collapsed": true
   },
   "outputs": [],
   "source": [
    "import MySQLdb as mysql"
   ]
  },
  {
   "cell_type": "code",
   "execution_count": 90,
   "metadata": {
    "ExecuteTime": {
     "end_time": "2017-10-20T12:56:54.220494Z",
     "start_time": "2017-10-20T12:56:53.802075Z"
    }
   },
   "outputs": [],
   "source": [
    "class MySql_CLA():\n",
    "    'The class is created for processing Mysql database'\n",
    "    def __init__(self, host_ip, user_name, password):\n",
    "        # initial mysql settings\n",
    "        self.host_ip = host_ip\n",
    "        self.user_name = user_name\n",
    "        self.password = password\n",
    "        print(\"Created settings for Mysql: IP-->\\\"%s\\\" USER-->\\\"%s\\\"\" %(self.host_ip,self.user_name))\n",
    "        \n",
    "    def ConnectMysql(self):\n",
    "        # connect to mysql\n",
    "        self.con_sql = mysql.connect(self.host_ip,self.user_name,self.password)\n",
    "        print(\"Successfully Connect to Mysql: IP-->\\\"%s\\\" USER-->\\\"%s\\\"\" %(self.host_ip,self.user_name))\n",
    "        \n",
    "    def ExecSQL(self, strSQL):\n",
    "        # execute SQL commands\n",
    "        # get cursor of the connection\n",
    "        self.cursor = self.con_sql.cursor()\n",
    "        # execute!\n",
    "        self.cursor.execute(strSQL)\n",
    "        res = self.cursor.fetchall()\n",
    "        print(\"CMD: %s has done!\" %strSQL)\n",
    "        print(\"Result: \\n\")\n",
    "        print(res)\n",
    "        print(\"\\n\")\n",
    "        return res\n",
    "    \n",
    "    def DeleteConnect(self):\n",
    "        # delete cursor\n",
    "        self.cursor.close()\n",
    "        # delete connection\n",
    "        self.con_sql.close()\n",
    "        print(\"Delete the Connect to Mysql: IP-->\\\"%s\\\" USER-->\\\"%s\\\"\" %(self.host_ip,self.user_name))\n",
    "    \n",
    "    def OnceExecSQL(self, strSQL):\n",
    "        # connect and do one Sql command then delete the connection\n",
    "        self.ConnectMysql()\n",
    "        self.ExecSQL(strSQL)\n",
    "        self.DeleteConnect()\n",
    "        "
   ]
  },
  {
   "cell_type": "code",
   "execution_count": 91,
   "metadata": {
    "ExecuteTime": {
     "end_time": "2017-10-20T12:56:54.471865Z",
     "start_time": "2017-10-20T12:56:54.222448Z"
    },
    "collapsed": true
   },
   "outputs": [],
   "source": [
    "Xue_ip = \"192.168.56.101\"\n",
    "Xue_user_name = \"root\"\n",
    "Xue_password = \"Colin0616\""
   ]
  },
  {
   "cell_type": "code",
   "execution_count": 92,
   "metadata": {
    "ExecuteTime": {
     "end_time": "2017-10-20T12:56:54.701672Z",
     "start_time": "2017-10-20T12:56:54.473808Z"
    },
    "scrolled": true
   },
   "outputs": [
    {
     "name": "stdout",
     "output_type": "stream",
     "text": [
      "Created settings for Mysql: IP-->\"192.168.56.101\" USER-->\"root\"\n",
      "Successfully Connect to Mysql: IP-->\"192.168.56.101\" USER-->\"root\"\n"
     ]
    }
   ],
   "source": [
    "Xue_root = MySql_CLA(Xue_ip, Xue_user_name, Xue_password)\n",
    "Xue_root.ConnectMysql()\n"
   ]
  },
  {
   "cell_type": "code",
   "execution_count": 93,
   "metadata": {
    "ExecuteTime": {
     "end_time": "2017-10-20T12:56:54.815075Z",
     "start_time": "2017-10-20T12:56:54.702649Z"
    }
   },
   "outputs": [
    {
     "name": "stdout",
     "output_type": "stream",
     "text": [
      "CMD: show databases; has done!\n",
      "Result: \n",
      "\n",
      "(('information_schema',), ('colin_test',), ('jpstudyexpress',), ('mysql',), ('performance_schema',), ('sys',))\n",
      "\n",
      "\n",
      "(('information_schema',), ('colin_test',), ('jpstudyexpress',), ('mysql',), ('performance_schema',), ('sys',))\n"
     ]
    }
   ],
   "source": [
    "cmd = \"show databases;\"\n",
    "res = Xue_root.ExecSQL(cmd)\n",
    "print(res)"
   ]
  },
  {
   "cell_type": "code",
   "execution_count": 94,
   "metadata": {
    "ExecuteTime": {
     "end_time": "2017-10-20T12:56:54.954925Z",
     "start_time": "2017-10-20T12:56:54.817032Z"
    }
   },
   "outputs": [
    {
     "name": "stdout",
     "output_type": "stream",
     "text": [
      "CMD: use colin_test has done!\n",
      "Result: \n",
      "\n",
      "()\n",
      "\n",
      "\n",
      "()\n"
     ]
    }
   ],
   "source": [
    "print(Xue_root.ExecSQL(\"use colin_test\"))"
   ]
  },
  {
   "cell_type": "code",
   "execution_count": 95,
   "metadata": {
    "ExecuteTime": {
     "end_time": "2017-10-20T12:56:55.088858Z",
     "start_time": "2017-10-20T12:56:54.956882Z"
    }
   },
   "outputs": [
    {
     "name": "stdout",
     "output_type": "stream",
     "text": [
      "Delete the Connect to Mysql: IP-->\"192.168.56.101\" USER-->\"root\"\n"
     ]
    }
   ],
   "source": [
    "Xue_root.DeleteConnect()"
   ]
  },
  {
   "cell_type": "code",
   "execution_count": 96,
   "metadata": {
    "ExecuteTime": {
     "end_time": "2017-10-20T12:56:55.222792Z",
     "start_time": "2017-10-20T12:56:55.090831Z"
    }
   },
   "outputs": [
    {
     "name": "stdout",
     "output_type": "stream",
     "text": [
      "Successfully Connect to Mysql: IP-->\"192.168.56.101\" USER-->\"root\"\n",
      "CMD: show databases; has done!\n",
      "Result: \n",
      "\n",
      "(('information_schema',), ('colin_test',), ('jpstudyexpress',), ('mysql',), ('performance_schema',), ('sys',))\n",
      "\n",
      "\n",
      "Delete the Connect to Mysql: IP-->\"192.168.56.101\" USER-->\"root\"\n"
     ]
    }
   ],
   "source": [
    "Xue_root.OnceExecSQL(\"show databases;\")"
   ]
  }
 ],
 "metadata": {
  "kernelspec": {
   "display_name": "Python 3",
   "language": "python",
   "name": "python3"
  },
  "language_info": {
   "codemirror_mode": {
    "name": "ipython",
    "version": 3
   },
   "file_extension": ".py",
   "mimetype": "text/x-python",
   "name": "python",
   "nbconvert_exporter": "python",
   "pygments_lexer": "ipython3",
   "version": "3.6.2"
  }
 },
 "nbformat": 4,
 "nbformat_minor": 2
}
