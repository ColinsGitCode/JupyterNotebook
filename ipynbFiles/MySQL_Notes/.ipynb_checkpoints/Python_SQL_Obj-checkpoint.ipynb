{
 "cells": [
  {
   "cell_type": "markdown",
   "metadata": {},
   "source": [
    "## Python SQL Obj\n"
   ]
  },
  {
   "cell_type": "code",
   "execution_count": 7,
   "metadata": {
    "ExecuteTime": {
     "end_time": "2017-10-28T11:28:13.396751Z",
     "start_time": "2017-10-28T11:28:13.300698Z"
    }
   },
   "outputs": [],
   "source": [
    "import pymysql as mysql\n",
    "mysql.install_as_MySQLdb()\n",
    "#import MySQLdb as mysql\n",
    "\n",
    "class MySql_CLA():\n",
    "    'The class is created for processing Mysql database'\n",
    "    def __init__(self, host_ip=\"192.168.56.101\", user_name=\"root\", password=\"Colin0616\"):\n",
    "        # initial mysql settings\n",
    "        self.host_ip = host_ip\n",
    "        self.user_name = user_name\n",
    "        self.password = password\n",
    "        print(\"Created settings for Mysql: IP-->\\\"%s\\\" USER-->\\\"%s\\\"\" %(self.host_ip,self.user_name))\n",
    "        \n",
    "    def ConnectMysql(self):\n",
    "        # connect to mysql\n",
    "        self.con_sql = mysql.connect(self.host_ip,self.user_name,self.password)\n",
    "        print(\"Successfully Connect to Mysql: IP-->\\\"%s\\\" USER-->\\\"%s\\\"\" %(self.host_ip,self.user_name))\n",
    "        \n",
    "    def ExecSQL(self, strSQL):\n",
    "        # execute SQL commands\n",
    "        # get cursor of the connection\n",
    "        self.cursor = self.con_sql.cursor()\n",
    "        # execute!\n",
    "        self.cursor.execute(strSQL)\n",
    "        res = self.cursor.fetchall()\n",
    "        print(\"CMD: %s has done!\" %strSQL)\n",
    "        print(\"Result: \\n\")\n",
    "        print(res)\n",
    "        print(\"\\n\")\n",
    "        return res\n",
    "    \n",
    "    def DeleteConnect(self):\n",
    "        # delete cursor\n",
    "        self.cursor.close()\n",
    "        # delete connection\n",
    "        self.con_sql.close()\n",
    "        print(\"Delete the Connect to Mysql: IP-->\\\"%s\\\" USER-->\\\"%s\\\"\" %(self.host_ip,self.user_name))\n",
    "    \n",
    "    def OnceExecSQL(self, strSQL):\n",
    "        # connect and do one Sql command then delete the connection\n",
    "        self.ConnectMysql()\n",
    "        self.ExecSQL(strSQL)\n",
    "        self.DeleteConnect()\n",
    "        "
   ]
  },
  {
   "cell_type": "code",
   "execution_count": 8,
   "metadata": {
    "ExecuteTime": {
     "end_time": "2017-10-28T11:28:13.404921Z",
     "start_time": "2017-10-28T11:28:13.401679Z"
    }
   },
   "outputs": [],
   "source": [
    "Xue_ip = \"192.168.56.101\"\n",
    "Xue_user_name = \"root\"\n",
    "Xue_password = \"Colin0616\""
   ]
  },
  {
   "cell_type": "code",
   "execution_count": 9,
   "metadata": {
    "ExecuteTime": {
     "end_time": "2017-10-28T11:28:13.849124Z",
     "start_time": "2017-10-28T11:28:13.410139Z"
    },
    "scrolled": true
   },
   "outputs": [
    {
     "name": "stdout",
     "output_type": "stream",
     "text": [
      "Created settings for Mysql: IP-->\"192.168.56.101\" USER-->\"root\"\n",
      "Successfully Connect to Mysql: IP-->\"192.168.56.101\" USER-->\"root\"\n"
     ]
    }
   ],
   "source": [
    "Xue_root = MySql_CLA(Xue_ip, Xue_user_name, Xue_password)\n",
    "Xue_root.ConnectMysql()\n"
   ]
  },
  {
   "cell_type": "code",
   "execution_count": 10,
   "metadata": {
    "ExecuteTime": {
     "end_time": "2017-10-28T11:28:14.008351Z",
     "start_time": "2017-10-28T11:28:13.851588Z"
    }
   },
   "outputs": [
    {
     "name": "stdout",
     "output_type": "stream",
     "text": [
      "CMD: show databases; has done!\n",
      "Result: \n",
      "\n",
      "(('information_schema',), ('Colin_Python',), ('Epinions',), ('colin_linux',), ('colin_test',), ('jpstudyexpress',), ('mysql',), ('performance_schema',), ('sys',))\n",
      "\n",
      "\n",
      "(('information_schema',), ('Colin_Python',), ('Epinions',), ('colin_linux',), ('colin_test',), ('jpstudyexpress',), ('mysql',), ('performance_schema',), ('sys',))\n"
     ]
    }
   ],
   "source": [
    "cmd = \"show databases;\"\n",
    "res = Xue_root.ExecSQL(cmd)\n",
    "print(res)"
   ]
  },
  {
   "cell_type": "code",
   "execution_count": 11,
   "metadata": {
    "ExecuteTime": {
     "end_time": "2017-10-28T11:28:14.032911Z",
     "start_time": "2017-10-28T11:28:14.016077Z"
    }
   },
   "outputs": [
    {
     "name": "stdout",
     "output_type": "stream",
     "text": [
      "CMD: use colin_test has done!\n",
      "Result: \n",
      "\n",
      "()\n",
      "\n",
      "\n",
      "()\n"
     ]
    }
   ],
   "source": [
    "print(Xue_root.ExecSQL(\"use colin_test\"))"
   ]
  },
  {
   "cell_type": "code",
   "execution_count": 12,
   "metadata": {
    "ExecuteTime": {
     "end_time": "2017-10-28T11:28:14.054214Z",
     "start_time": "2017-10-28T11:28:14.035571Z"
    }
   },
   "outputs": [
    {
     "name": "stdout",
     "output_type": "stream",
     "text": [
      "Delete the Connect to Mysql: IP-->\"192.168.56.101\" USER-->\"root\"\n"
     ]
    }
   ],
   "source": [
    "Xue_root.DeleteConnect()"
   ]
  },
  {
   "cell_type": "code",
   "execution_count": 13,
   "metadata": {
    "ExecuteTime": {
     "end_time": "2017-10-28T11:28:14.082254Z",
     "start_time": "2017-10-28T11:28:14.060309Z"
    }
   },
   "outputs": [
    {
     "name": "stdout",
     "output_type": "stream",
     "text": [
      "Successfully Connect to Mysql: IP-->\"192.168.56.101\" USER-->\"root\"\n",
      "CMD: show databases; has done!\n",
      "Result: \n",
      "\n",
      "(('information_schema',), ('Colin_Python',), ('Epinions',), ('colin_linux',), ('colin_test',), ('jpstudyexpress',), ('mysql',), ('performance_schema',), ('sys',))\n",
      "\n",
      "\n",
      "Delete the Connect to Mysql: IP-->\"192.168.56.101\" USER-->\"root\"\n"
     ]
    }
   ],
   "source": [
    "Xue_root.OnceExecSQL(\"show databases;\")"
   ]
  }
 ],
 "metadata": {
  "kernelspec": {
   "display_name": "Python 3",
   "language": "python",
   "name": "python3"
  }
 },
 "nbformat": 4,
 "nbformat_minor": 2
}
