{
 "cells": [
  {
   "cell_type": "code",
   "execution_count": 72,
   "metadata": {
    "ExecuteTime": {
     "end_time": "2017-10-21T07:35:37.679006Z",
     "start_time": "2017-10-21T07:35:37.633059Z"
    },
    "collapsed": true
   },
   "outputs": [],
   "source": [
    "import MySQLdb as mysql\n",
    "\n",
    "class MySql_CLA():\n",
    "    'The class is created for processing Mysql database'\n",
    "    def __init__(self, host_ip=\"192.168.56.101\", user_name=\"root\", password=\"Colin0616\"):\n",
    "        # initial mysql settings\n",
    "        self.host_ip = host_ip\n",
    "        self.user_name = user_name\n",
    "        self.password = password\n",
    "        print(\"Created settings for Mysql: IP-->\\\"%s\\\" USER-->\\\"%s\\\"\" %(self.host_ip,self.user_name))\n",
    "        \n",
    "    def ConnectMysql(self):\n",
    "        # connect to mysql\n",
    "        self.con_sql = mysql.connect(self.host_ip,self.user_name,self.password)\n",
    "        print(\"Successfully Connect to Mysql: IP-->\\\"%s\\\" USER-->\\\"%s\\\"\" %(self.host_ip,self.user_name))\n",
    "        # get cursor of the connection\n",
    "        self.cursor = self.con_sql.cursor()\n",
    "        \n",
    "    def ExecSQL(self, strSQL):\n",
    "        # *** 执行insert操作之后需要进行提交self.con_sql.commit()\n",
    "        # execute SQL commands\n",
    "        # execute!\n",
    "        self.cursor.execute(strSQL)\n",
    "        res = self.cursor.fetchall()\n",
    "        print(\"CMD:\\\"%s\\\" has done!\" %strSQL)\n",
    "        #print(\"Result: \\n\")\n",
    "        #print(res)\n",
    "        #print(\"\\n\")\n",
    "        return res\n",
    "    \n",
    "    def DeleteConnect(self):\n",
    "        # delete cursor\n",
    "        self.cursor.close()\n",
    "        # delete connection\n",
    "        self.con_sql.close()\n",
    "        print(\"Delete the Connect to Mysql: IP-->\\\"%s\\\" USER-->\\\"%s\\\"\" %(self.host_ip,self.user_name))\n",
    "    \n",
    "    def OnceExecSQL(self, strSQL):\n",
    "        # connect and do one Sql command then delete the connection\n",
    "        self.ConnectMysql()\n",
    "        self.ExecSQL(strSQL)\n",
    "        self.DeleteConnect()"
   ]
  },
  {
   "cell_type": "code",
   "execution_count": 73,
   "metadata": {
    "ExecuteTime": {
     "end_time": "2017-10-21T07:35:38.471009Z",
     "start_time": "2017-10-21T07:35:38.466110Z"
    }
   },
   "outputs": [
    {
     "name": "stdout",
     "output_type": "stream",
     "text": [
      "Created settings for Mysql: IP-->\"192.168.56.101\" USER-->\"root\"\n",
      "Successfully Connect to Mysql: IP-->\"192.168.56.101\" USER-->\"root\"\n"
     ]
    }
   ],
   "source": [
    "Xue = MySql_CLA()\n",
    "Xue.ConnectMysql()"
   ]
  },
  {
   "cell_type": "markdown",
   "metadata": {},
   "source": [
    "### 创建一个数据库"
   ]
  },
  {
   "cell_type": "code",
   "execution_count": 74,
   "metadata": {
    "ExecuteTime": {
     "end_time": "2017-10-21T07:35:40.101734Z",
     "start_time": "2017-10-21T07:35:40.097836Z"
    }
   },
   "outputs": [],
   "source": [
    "# Create database named Colin_Python\n",
    "# CMD: CREATE DATABASE database_name CHARACTER SET set_name\n",
    "StrSql = \"create database Colin_Python character set gbk\"\n",
    "#Xue.ExecSQL(StrSql)"
   ]
  },
  {
   "cell_type": "markdown",
   "metadata": {},
   "source": [
    "### 选择要操作的数据库"
   ]
  },
  {
   "cell_type": "code",
   "execution_count": 75,
   "metadata": {
    "ExecuteTime": {
     "end_time": "2017-10-21T07:35:45.951504Z",
     "start_time": "2017-10-21T07:35:45.944659Z"
    }
   },
   "outputs": [
    {
     "name": "stdout",
     "output_type": "stream",
     "text": [
      "CMD:\"use Colin_Python\" has done!\n"
     ]
    },
    {
     "data": {
      "text/plain": [
       "()"
      ]
     },
     "execution_count": 75,
     "metadata": {},
     "output_type": "execute_result"
    }
   ],
   "source": [
    "# Use one database\n",
    "# CMD: USE database_name\n",
    "StrSql = \"use Colin_Python\"\n",
    "Xue.ExecSQL(StrSql)"
   ]
  },
  {
   "cell_type": "markdown",
   "metadata": {},
   "source": [
    "### 创建数据库表\n",
    "\n",
    "只是创建表，并没有插入数据"
   ]
  },
  {
   "cell_type": "code",
   "execution_count": 76,
   "metadata": {
    "ExecuteTime": {
     "end_time": "2017-10-21T07:35:47.630262Z",
     "start_time": "2017-10-21T07:35:47.625393Z"
    }
   },
   "outputs": [],
   "source": [
    "# Create tables\n",
    "# CMD: CREATE TABLE table_name(parameters.....)\n",
    "StrSql = \"\"\"create table employee(\n",
    "            first_name char(20) not null,\n",
    "            last_name char(20),\n",
    "            age int,\n",
    "            sex char(1),\n",
    "            income float );\"\"\"\n",
    "#Xue.ExecSQL(StrSql)\n"
   ]
  },
  {
   "cell_type": "markdown",
   "metadata": {},
   "source": [
    "### select相关操作\n",
    "\n",
    "**从一个表中选择所有的内容**"
   ]
  },
  {
   "cell_type": "code",
   "execution_count": 87,
   "metadata": {
    "ExecuteTime": {
     "end_time": "2017-10-21T08:23:09.795147Z",
     "start_time": "2017-10-21T08:23:09.789282Z"
    }
   },
   "outputs": [
    {
     "name": "stdout",
     "output_type": "stream",
     "text": [
      "CMD:\"select * from websites;\" has done!\n"
     ]
    },
    {
     "data": {
      "text/plain": [
       "((1, 'Google', 'https://www.google.cm/', 1, 'USA'),\n",
       " (2, '??', 'https://www.taobao.com/', 13, 'CN'),\n",
       " (3, '????', 'http://www.runoob.com/', 4689, 'CN'),\n",
       " (4, '??', 'http://weibo.com/', 20, 'CN'),\n",
       " (5, 'Facebook', 'https://www.facebook.com/', 3, 'USA'),\n",
       " (6, 'baidu', 'http://www.baidu.com', 4, 'CN'),\n",
       " (7, 'baidu', 'http://www.baidu.com', 4, 'CN'))"
      ]
     },
     "execution_count": 87,
     "metadata": {},
     "output_type": "execute_result"
    }
   ],
   "source": [
    "StrSql = \"select * from websites;\"\n",
    "Xue.ExecSQL(StrSql)"
   ]
  },
  {
   "cell_type": "markdown",
   "metadata": {},
   "source": [
    "**从表中选出特定内容**"
   ]
  },
  {
   "cell_type": "code",
   "execution_count": 80,
   "metadata": {
    "ExecuteTime": {
     "end_time": "2017-10-21T07:44:12.858647Z",
     "start_time": "2017-10-21T07:44:12.851803Z"
    }
   },
   "outputs": [
    {
     "name": "stdout",
     "output_type": "stream",
     "text": [
      "CMD:\"select * from websites where country = 'CN';\" has done!\n"
     ]
    },
    {
     "data": {
      "text/plain": [
       "((2, '??', 'https://www.taobao.com/', 13, 'CN'),\n",
       " (3, '????', 'http://www.runoob.com/', 4689, 'CN'),\n",
       " (4, '??', 'http://weibo.com/', 20, 'CN'))"
      ]
     },
     "execution_count": 80,
     "metadata": {},
     "output_type": "execute_result"
    }
   ],
   "source": [
    "# select special contents from a table\n",
    "# CMD: SELECT * FROM table_name WHERE header_name = value;\n",
    "# CMD: SELECT header_name_1, header_name_2,... FROM table_name WHERE header_name = value;\n",
    "# 选出唯一的值 select distinct\n",
    "# CMD: SELECT DISTINCT header_name_1, header_name_2,... FROM table_name WHERE header_name = value;\n",
    "# PS; SQL use '' when chars and strings \n",
    "StrSql = \"select * from websites where country = 'CN';\"\n",
    "Xue.ExecSQL(StrSql)"
   ]
  },
  {
   "cell_type": "markdown",
   "metadata": {},
   "source": [
    "<img src=\"https://raw.githubusercontent.com/ColinsGitCode/JupyterNotebook/6c9d661288100f6a7720189cf63f588a55305901/ipynbFiles/Materials/SQL_where.jpg\" />\n",
    "\n",
    "<img src=\"https://raw.githubusercontent.com/ColinsGitCode/JupyterNotebook/6c9d661288100f6a7720189cf63f588a55305901/ipynbFiles/Materials/where_examples.jpg\" />\n",
    "\n",
    "<img src=\"https://raw.githubusercontent.com/ColinsGitCode/JupyterNotebook/6c9d661288100f6a7720189cf63f588a55305901/ipynbFiles/Materials/where_examples_specials.jpg\" />"
   ]
  },
  {
   "cell_type": "markdown",
   "metadata": {},
   "source": [
    "### 对选出的结果进行排序 ORDER BY\n",
    "\n",
    "对选取的结果集按照一个列或者多列进行排序。默认按照升序对记录进行排序，若要按照降序排序则需要用关键字 **DESC**"
   ]
  },
  {
   "cell_type": "code",
   "execution_count": 81,
   "metadata": {
    "ExecuteTime": {
     "end_time": "2017-10-21T08:05:01.202382Z",
     "start_time": "2017-10-21T08:05:01.195529Z"
    }
   },
   "outputs": [
    {
     "name": "stdout",
     "output_type": "stream",
     "text": [
      "CMD:\"select * from websites order by alexa;\" has done!\n"
     ]
    },
    {
     "data": {
      "text/plain": [
       "((1, 'Google', 'https://www.google.cm/', 1, 'USA'),\n",
       " (5, 'Facebook', 'https://www.facebook.com/', 3, 'USA'),\n",
       " (2, '??', 'https://www.taobao.com/', 13, 'CN'),\n",
       " (4, '??', 'http://weibo.com/', 20, 'CN'),\n",
       " (3, '????', 'http://www.runoob.com/', 4689, 'CN'))"
      ]
     },
     "execution_count": 81,
     "metadata": {},
     "output_type": "execute_result"
    }
   ],
   "source": [
    "# 对alexa列进行排序，默认升序排序\n",
    "StrSql = \"select * from websites order by alexa;\"\n",
    "Xue.ExecSQL(StrSql)"
   ]
  },
  {
   "cell_type": "code",
   "execution_count": 82,
   "metadata": {
    "ExecuteTime": {
     "end_time": "2017-10-21T08:06:15.538986Z",
     "start_time": "2017-10-21T08:06:15.532155Z"
    }
   },
   "outputs": [
    {
     "name": "stdout",
     "output_type": "stream",
     "text": [
      "CMD:\"select * from websites order by alexa desc;\" has done!\n"
     ]
    },
    {
     "data": {
      "text/plain": [
       "((3, '????', 'http://www.runoob.com/', 4689, 'CN'),\n",
       " (4, '??', 'http://weibo.com/', 20, 'CN'),\n",
       " (2, '??', 'https://www.taobao.com/', 13, 'CN'),\n",
       " (5, 'Facebook', 'https://www.facebook.com/', 3, 'USA'),\n",
       " (1, 'Google', 'https://www.google.cm/', 1, 'USA'))"
      ]
     },
     "execution_count": 82,
     "metadata": {},
     "output_type": "execute_result"
    }
   ],
   "source": [
    "# 对alexa列进行排序，设置降序排序，命令结尾加上 DESC\n",
    "StrSql = \"select * from websites order by alexa desc;\"\n",
    "Xue.ExecSQL(StrSql)"
   ]
  },
  {
   "cell_type": "code",
   "execution_count": 83,
   "metadata": {
    "ExecuteTime": {
     "end_time": "2017-10-21T08:08:37.549471Z",
     "start_time": "2017-10-21T08:08:37.457575Z"
    }
   },
   "outputs": [
    {
     "name": "stdout",
     "output_type": "stream",
     "text": [
      "CMD:\"select * from websites order by country,alexa;\" has done!\n"
     ]
    },
    {
     "data": {
      "text/plain": [
       "((2, '??', 'https://www.taobao.com/', 13, 'CN'),\n",
       " (4, '??', 'http://weibo.com/', 20, 'CN'),\n",
       " (3, '????', 'http://www.runoob.com/', 4689, 'CN'),\n",
       " (1, 'Google', 'https://www.google.cm/', 1, 'USA'),\n",
       " (5, 'Facebook', 'https://www.facebook.com/', 3, 'USA'))"
      ]
     },
     "execution_count": 83,
     "metadata": {},
     "output_type": "execute_result"
    }
   ],
   "source": [
    "# 对country和alexa列进行排序，默认升序排序，先对country列进行排序\n",
    "# 在此基础上再对alexa进行排序\n",
    "StrSql = \"select * from websites order by country,alexa;\"\n",
    "Xue.ExecSQL(StrSql)"
   ]
  },
  {
   "cell_type": "markdown",
   "metadata": {},
   "source": [
    "### SQL INSERT INTO 语法\n",
    "\n",
    "**INSERT INTO 语句可以有两种编写形式。**\n",
    "\n",
    "第一种形式无需指定要插入数据的列名，只需提供被插入的值即可：\n",
    "\n",
    "*INSERT INTO table_name*\n",
    "\n",
    "*VALUES (value1,value2,value3,...);*\n",
    "\n",
    "第二种形式需要指定列名及被插入的值：\n",
    "\n",
    "*INSERT INTO table_name (column1,column2,column3,...)*\n",
    "\n",
    "*VALUES (value1,value2,value3,...);*\n"
   ]
  },
  {
   "cell_type": "code",
   "execution_count": 86,
   "metadata": {
    "ExecuteTime": {
     "end_time": "2017-10-21T08:22:11.788669Z",
     "start_time": "2017-10-21T08:22:11.782804Z"
    }
   },
   "outputs": [
    {
     "name": "stdout",
     "output_type": "stream",
     "text": [
      "CMD:\"insert into websites(name,url,alexa,country)           values ('baidu','http://www.baidu.com','4','CN');\" has done!\n"
     ]
    },
    {
     "data": {
      "text/plain": [
       "()"
      ]
     },
     "execution_count": 86,
     "metadata": {},
     "output_type": "execute_result"
    }
   ],
   "source": [
    "StrSql = \"insert into websites(name,url,alexa,country) \\\n",
    "          values ('baidu','http://www.baidu.com','4','CN');\"\n",
    "Xue.ExecSQL(StrSql)"
   ]
  },
  {
   "cell_type": "code",
   "execution_count": 89,
   "metadata": {
    "ExecuteTime": {
     "end_time": "2017-10-21T08:25:27.211566Z",
     "start_time": "2017-10-21T08:25:27.133351Z"
    }
   },
   "outputs": [],
   "source": [
    "Xue.con_sql.commit()"
   ]
  },
  {
   "cell_type": "code",
   "execution_count": 69,
   "metadata": {
    "ExecuteTime": {
     "end_time": "2017-10-21T07:29:18.146210Z",
     "start_time": "2017-10-21T07:29:18.140345Z"
    }
   },
   "outputs": [
    {
     "name": "stdout",
     "output_type": "stream",
     "text": [
      "CMD:\"use Epinions\" has done!\n"
     ]
    },
    {
     "data": {
      "text/plain": [
       "()"
      ]
     },
     "execution_count": 69,
     "metadata": {},
     "output_type": "execute_result"
    }
   ],
   "source": [
    "StrSql = \"use Epinions\"\n",
    "Xue.ExecSQL(StrSql)"
   ]
  },
  {
   "cell_type": "code",
   "execution_count": 70,
   "metadata": {
    "ExecuteTime": {
     "end_time": "2017-10-21T07:29:19.114289Z",
     "start_time": "2017-10-21T07:29:19.108428Z"
    }
   },
   "outputs": [
    {
     "name": "stdout",
     "output_type": "stream",
     "text": [
      "CMD:\"show tables;\" has done!\n"
     ]
    },
    {
     "data": {
      "text/plain": [
       "(('Category',),\n",
       " ('Expertise',),\n",
       " ('Product',),\n",
       " ('Review',),\n",
       " ('ReviewEval',),\n",
       " ('Similarity',),\n",
       " ('Trust',),\n",
       " ('User',))"
      ]
     },
     "execution_count": 70,
     "metadata": {},
     "output_type": "execute_result"
    }
   ],
   "source": [
    "StrSql = \"show tables;\"\n",
    "Xue.ExecSQL(StrSql)"
   ]
  },
  {
   "cell_type": "code",
   "execution_count": 71,
   "metadata": {
    "ExecuteTime": {
     "end_time": "2017-10-21T07:29:32.145064Z",
     "start_time": "2017-10-21T07:29:32.114770Z"
    }
   },
   "outputs": [
    {
     "name": "stdout",
     "output_type": "stream",
     "text": [
      "CMD:\"select * from `Category`;\" has done!\n"
     ]
    },
    {
     "data": {
      "text/plain": [
       "((1, 'Computer Games', 2),\n",
       " (2, 'Games', None),\n",
       " (3, 'Hotels and Resorts', 4),\n",
       " (4, 'Hotels & Travel', None),\n",
       " (5, 'PDAs', 6),\n",
       " (6, 'Computers & Internet', None),\n",
       " (7, 'Books', 8),\n",
       " (8, 'Media', None),\n",
       " (9, 'Zoos & Aquariums', 4),\n",
       " (10, 'Online Stores & Services', 11),\n",
       " (11, 'Web Sites & Internet Services', None),\n",
       " (12, 'Destinations', 4),\n",
       " (13, 'Office Supplies', 14),\n",
       " (14, 'Business & Technology', None),\n",
       " (15, 'Movies in Theaters', 8),\n",
       " (16, 'Chain Restaurants', 17),\n",
       " (17, 'Restaurants & Gourmet', None),\n",
       " (18, 'Music', 8),\n",
       " (19, 'DVD Players', 20),\n",
       " (20, 'Electronics', None),\n",
       " (21, 'Videos & DVDs', 8),\n",
       " (22, 'Member Center', None),\n",
       " (23, 'Toys', 24),\n",
       " (24, 'Kids & Family', None),\n",
       " (25, 'PlayStation 1 Games', 2),\n",
       " (26, 'Fishing Advice', 27),\n",
       " (27, 'Sports & Outdoors', None),\n",
       " (28, 'Pets', 29),\n",
       " (29, 'Home and Garden', None),\n",
       " (30, 'Theme Parks', 4),\n",
       " (31, 'Parks', 27),\n",
       " (32, 'Archived Reviews', None),\n",
       " (33, \"Kids' TV Shows\", 24),\n",
       " (34, 'Wines', 17),\n",
       " (35, 'Magazine Subscriptions', 8),\n",
       " (36, 'Specialty Kitchen Appliances', 29),\n",
       " (37, 'Cookware', 29),\n",
       " (38, 'Airlines', 4),\n",
       " (39, 'Health Aids', 40),\n",
       " (40, 'Wellness & Beauty', None),\n",
       " (41, 'Restaurants', 17),\n",
       " (42, 'Film Cameras', 20),\n",
       " (43, 'Stadiums and Arenas', 27),\n",
       " (44, 'Insurance', 45),\n",
       " (45, 'Personal Finance', None),\n",
       " (46, 'IMAX', 8),\n",
       " (47, 'ISP', 11),\n",
       " (48, 'Used Cars', 49),\n",
       " (49, 'Cars & Motorsports', None),\n",
       " (50, 'Colleges and Universities', 51),\n",
       " (51, 'Education', None),\n",
       " (52, 'Cars', 49),\n",
       " (53, 'Food and Drink', 29),\n",
       " (54, 'Baby Care', 24),\n",
       " (55, 'Nutrition', 40),\n",
       " (56, 'GPS Devices', 20),\n",
       " (57, 'Personal Care', 40),\n",
       " (58, 'Cartridges and Toners', 6),\n",
       " (59, 'Cosmetics', 40),\n",
       " (60, 'Tableware', 29),\n",
       " (61, 'Mac Laptops', 6),\n",
       " (62, 'Bakeware', 29),\n",
       " (63, 'Vacuums', 29),\n",
       " (64, 'Watches', 65),\n",
       " (65, 'Gifts', None),\n",
       " (66, 'Fragrance', 65),\n",
       " (67, 'Home Furnishings', 29),\n",
       " (68, 'Clothing', 65),\n",
       " (69, 'Golf Courses', 27),\n",
       " (70, 'Keyboards and Mice', 6),\n",
       " (71, 'Banks', 45),\n",
       " (72, 'Phones', 20),\n",
       " (73, 'Theater', 4),\n",
       " (74, 'Credit Cards', 45),\n",
       " (75, 'Taxes', 45),\n",
       " (76, 'Car Rental', 4),\n",
       " (77, 'Cruises', 4),\n",
       " (78, 'Gourmet Gifts', 65),\n",
       " (79, 'Mortgage', 45),\n",
       " (80, 'Online Bill Payment', 45),\n",
       " (81, 'Cellular Phone Service', 20),\n",
       " (82, 'Newspapers', 8),\n",
       " (83, 'TV Channels', 8),\n",
       " (84, 'Mac Desktops', 6),\n",
       " (85, 'Standard Televisions', 20),\n",
       " (86, 'Printers', 6),\n",
       " (87, 'Musical Instruments', 8),\n",
       " (88, 'Spirits and Beers', 29),\n",
       " (89, 'Shipping', 14),\n",
       " (90, 'Cable TV Providers', 20),\n",
       " (91, 'Software', 6),\n",
       " (92, 'Single Use Cameras', 20),\n",
       " (93, 'Shoes', 40),\n",
       " (94, 'Flash Memory', 6),\n",
       " (95, 'TV Receivers and DVRs', 20),\n",
       " (96, 'Nintendo 64 Games', 2),\n",
       " (97, 'Sport and Outdoor', 27),\n",
       " (98, 'Digital Camera Accessories', 20),\n",
       " (99, 'Laptop Accessories', 6),\n",
       " (100, 'MP3 and Digital Media Players', 20),\n",
       " (101, 'Outdoor Apparel', 27),\n",
       " (102, 'Classic Console Games', 2),\n",
       " (103, 'Monitors', 6),\n",
       " (104, 'Computer Speakers', 6),\n",
       " (105, 'Luggage', 4),\n",
       " (106, 'Gifts, Novelties, Collectibles & Gadgets', 65),\n",
       " (107, 'Personal  Audio Mini Disc Players', 20),\n",
       " (108, 'PlayStation 2 Games', 2),\n",
       " (109, 'MP3 Accessories', 20),\n",
       " (110, 'Cellular Phones', 20),\n",
       " (111, 'Cooking Tools', 29),\n",
       " (112, 'Dishwashers', 29),\n",
       " (113, 'Cigars and Tobacco Accessories', 17),\n",
       " (114, 'Personal Radios', 20),\n",
       " (115, 'Dryers', 29),\n",
       " (116, 'Washing Machines', 29),\n",
       " (117, 'Tools and Accessories', 29),\n",
       " (118, 'Mixers', 29),\n",
       " (119, 'Vacuum Cleaner Accessories', 29),\n",
       " (120, 'Shredders', 14),\n",
       " (121, 'Crock Pots and Slow Cookers', 29),\n",
       " (122, 'Air Purifiers', 40),\n",
       " (123, 'Coffee and Espresso Makers', 29),\n",
       " (124, 'Electric Skillets and Woks', 29),\n",
       " (125, 'Paint', 29),\n",
       " (126, 'Home Theater Systems', 20),\n",
       " (127, 'Refrigerators', 29),\n",
       " (128, 'Kitchen Ranges', 29),\n",
       " (129, 'Microwave Ovens', 29),\n",
       " (130, 'Digital Cameras', 20),\n",
       " (131, 'Indoor Grills and Sandwich Makers', 29),\n",
       " (132, 'Camcorders', 20),\n",
       " (133, 'Game Boy Color Games', 2),\n",
       " (134, 'Car Seats', 24),\n",
       " (135, 'Diets', None),\n",
       " (136, 'Portable Televisions', 20),\n",
       " (137, '2 Way Radios', 20),\n",
       " (138, 'TV Ads', 22),\n",
       " (139, 'New Cars', 49),\n",
       " (140, 'Electric Fans', 29),\n",
       " (141, 'Answering Machines', 20),\n",
       " (142, 'Cutlery', 29),\n",
       " (143, 'Blenders', 29),\n",
       " (144, 'Audio Shelf Systems', 20),\n",
       " (145, 'Food Processors', 29),\n",
       " (146, 'Tour Operators', 4),\n",
       " (147, 'Garden', 29),\n",
       " (148, 'Irons', 29),\n",
       " (149, 'In Dash Receivers', 20),\n",
       " (150, 'Calculators', 14),\n",
       " (151, 'Satellite TV', 20),\n",
       " (152, 'Tires', 49),\n",
       " (153, 'Boomboxes', 20),\n",
       " (154, 'Scanners', 6),\n",
       " (155, 'Speakers and Subwoofers', 20),\n",
       " (156, 'Frequent Flyer Programs', 4),\n",
       " (157, 'PC Desktops', 6),\n",
       " (158, 'Deep Fryers', 29),\n",
       " (159, 'Over-the-Counter Medicine', 39),\n",
       " (160, 'Mattresses', 29),\n",
       " (161, 'Sewing Machines', 29),\n",
       " (162, 'Furniture', 29),\n",
       " (163, 'Flashlights', 27),\n",
       " (164, 'Freezers', 29),\n",
       " (165, 'Shavers', 40),\n",
       " (166, 'Bedding & Linens', 29),\n",
       " (167, 'Heaters', 29),\n",
       " (168, 'Grill and Smoker Accessories', 29),\n",
       " (169, 'Toasters', 29),\n",
       " (170, 'Jewelry', 65),\n",
       " (171, 'Drapes & Curtains', 29),\n",
       " (172, 'Local Services', 22),\n",
       " (173, 'Small Appliance Accessories', 29),\n",
       " (174, 'Juicers', 29),\n",
       " (175, 'Pasta Makers', 29),\n",
       " (176, 'PC Gaming Devices', 6),\n",
       " (177, 'Graphics Cards', 6),\n",
       " (178, 'Humidifiers', 40),\n",
       " (179, 'Marine Electronics', 49),\n",
       " (180, 'Grills and Smokers', 29),\n",
       " (181, 'Video Game Consoles', 2),\n",
       " (182, 'Glue & Adhesives', 29),\n",
       " (183, 'Clock Radios', 20),\n",
       " (184, 'Cellular Accessories', 20),\n",
       " (185, 'Fax Machines', 14),\n",
       " (186, 'Binoculars', 20),\n",
       " (187, 'Headsets', 6),\n",
       " (188, 'PC Laptops', 6),\n",
       " (189, 'Headphones', 20),\n",
       " (190, 'Random Access Memory (RAM)', 6),\n",
       " (191, 'Processors', 6),\n",
       " (192, 'Motherboards', 6),\n",
       " (193, 'CD and DVD Burners', 6),\n",
       " (194, 'Projection Televisions', 20),\n",
       " (195, 'Input Adapters', 6),\n",
       " (196, 'Flat Panel Televisions', 20),\n",
       " (197, 'TV Accessories', 20),\n",
       " (198, 'Computer Accessories', 6),\n",
       " (199, 'Receivers', 20),\n",
       " (200, 'Hard Drives', 6),\n",
       " (201, 'Web Cameras', 6),\n",
       " (202, 'Electronics Accessories', 20),\n",
       " (203, 'Photography Accessories', 20),\n",
       " (204, 'Satellite Radio Receivers', 20),\n",
       " (205, 'Other Components', 6),\n",
       " (206, 'Networking Hubs and Switches', 6),\n",
       " (207, 'Car CD Changers', 20),\n",
       " (208, 'CD Players', 20),\n",
       " (209, 'Camera Lenses', 20),\n",
       " (210, 'Car Speakers and Subwoofers', 20),\n",
       " (211, 'Personal CD Players', 20),\n",
       " (212, 'Radar Detectors', 49),\n",
       " (213, 'Car Care', 49),\n",
       " (214, 'Sound Cards', 6),\n",
       " (215, 'Tablets', 6),\n",
       " (216, 'Motorcycles', 49),\n",
       " (217, 'Boating and Sailing Accessories', 27),\n",
       " (218, 'VCRs', 20),\n",
       " (219, 'Remote Controls', 20),\n",
       " (220, 'Security Systems', 49),\n",
       " (221, 'Movies', 8),\n",
       " (222, 'Internet Banks', 45),\n",
       " (223, 'Removable Media', 6),\n",
       " (224, 'Coffee and Tea Makers', 29),\n",
       " (225, 'Moving Companies', 29),\n",
       " (226, 'Computer Supplies', 6),\n",
       " (227, 'Coffee Grinders', 29),\n",
       " (228, 'Security Systems and Surveillance', 20),\n",
       " (229, 'PDA Accessories', 6),\n",
       " (230, 'Popcorn Makers', 29),\n",
       " (231, 'Classic Consoles', 2),\n",
       " (232, 'Voice Recorders and Transcribers', 20),\n",
       " (233, 'Brokers', 45),\n",
       " (234, 'Appliance Accessories', 29),\n",
       " (235, 'Diving Operations', 27),\n",
       " (236, 'Memory Adapters', 6),\n",
       " (237, 'Modems', 6),\n",
       " (238, 'Network Accessories', 6),\n",
       " (239, 'Mice and Trackballs', None),\n",
       " (240, 'Cables and Connectors', 6),\n",
       " (241, 'UPS Systems Devices', 6),\n",
       " (242, 'Toaster Ovens', 29),\n",
       " (243, 'Car Racks', 49),\n",
       " (244, 'Clothing Accessories', 65),\n",
       " (245, 'Beers', 88),\n",
       " (246, 'Routers', 6),\n",
       " (247, 'Surge Suppressors', 6),\n",
       " (248, 'GPS Accessories', 27),\n",
       " (249, 'Turntables', 20),\n",
       " (250, 'DS Games', 2),\n",
       " (251, 'Wireless Adapters', 6),\n",
       " (252, 'Ski Resorts', 4),\n",
       " (253, 'Web Hosts', 14),\n",
       " (254, 'Liquor & Spirits', 88),\n",
       " (255, 'PlayStation 3 Games', 2),\n",
       " (256, 'Breweries', 17),\n",
       " (257, 'Other Network Devices', 6),\n",
       " (258, 'GameCube Games', 2),\n",
       " (259, 'ASPs', 14),\n",
       " (260, 'Credit Unions', 45),\n",
       " (261, 'Bread Machines', 29),\n",
       " (262, 'Toddler Beds', 24),\n",
       " (263, 'Dreamcast Games', 2),\n",
       " (264, 'Xbox 360 Games', 2),\n",
       " (265, 'Nintendo Wii Games', 2),\n",
       " (266, 'Game Boy Advance Games', 2),\n",
       " (267, 'Video Game Accessories', 2),\n",
       " (268, 'PSP Games', 2),\n",
       " (269, 'Xbox Games', 2),\n",
       " (270, 'Strollers', 24),\n",
       " (271, 'Test Prep Courses', 51),\n",
       " (272, 'Video Games', 2),\n",
       " (273, 'Bath & Body', 40),\n",
       " (274, 'CD-ROM Drives', 6),\n",
       " (275, 'Baby Carriers', 24),\n",
       " (276, 'Sunglasses', 65),\n",
       " (277, 'In Theaters', 8),\n",
       " (278, 'Itch Relief', 279),\n",
       " (279, 'First Aid', 39),\n",
       " (280, 'Kitchen', 29),\n",
       " (281, 'Earplugs', 29),\n",
       " (282, 'Health Club Chains', 40),\n",
       " (283, 'Film Cameras', 20),\n",
       " (284, 'Rice Cookers and Steamers', 29),\n",
       " (285, 'Camcorder Accessories', 20),\n",
       " (286, 'Shampoo', 57),\n",
       " (287, 'Conditioner', 57),\n",
       " (288, 'Copiers', 14),\n",
       " (289, 'Summer Camps', 24),\n",
       " (290, 'Styling Aids', 57),\n",
       " (291, 'Cribs and Bassinets', 24),\n",
       " (292, 'Air Conditioners', 29),\n",
       " (293, 'Dehumidifiers', 40),\n",
       " (294, 'Electric Kettles', 29),\n",
       " (295, 'Motorsports Accessories', 49),\n",
       " (296, 'Telephone Accessories', 20),\n",
       " (297, 'Flowers', 65),\n",
       " (298, 'Exercise Equipment', 97),\n",
       " (299, 'Pest Control', 147),\n",
       " (300, 'Safety & Emergency Supplies', 29),\n",
       " (301, 'Network Cables', 6),\n",
       " (302, 'Shop Tools', 29),\n",
       " (303, 'Lip Color', 59),\n",
       " (304, 'Wireless Access Points', 6),\n",
       " (305, 'USB and Firewire Hubs', 6),\n",
       " (306, 'Network Adapters', 6),\n",
       " (307, 'Garden Tools', 147),\n",
       " (308, 'KVM Switches', 6),\n",
       " (309, 'Zip and Other Drives', 6),\n",
       " (310, 'Hot & Cold Therapy', 39),\n",
       " (311, 'Sports Apparel and Memorabilia', 27),\n",
       " (312, 'Anti-Aging/Treatments', 40),\n",
       " (313, 'Online Fax', 14),\n",
       " (314, 'Styling Tools', 57),\n",
       " (315, 'Walking Shoes', 93),\n",
       " (316, 'Eye Makeup', 59),\n",
       " (317, 'Face Makeup', 59),\n",
       " (318, 'Sports Bras', 27),\n",
       " (319, 'Ankle Braces', 97),\n",
       " (320, 'Flea & Pest Control', 321),\n",
       " (321, 'Dogs', 28),\n",
       " (322, 'Financial Web Sites', 45),\n",
       " (323, 'Golf Clubs', 325),\n",
       " (324, 'Patio Furniture', 29),\n",
       " (325, 'Golf', 97),\n",
       " (326, 'Fishing Gear & Accessories', 97),\n",
       " (327, 'Boats', 49),\n",
       " (328, 'Boat Motors', 27),\n",
       " (329, 'Typewriters', 14),\n",
       " (330, 'Ovens', 29),\n",
       " (331, 'Photographic Film', 20),\n",
       " (332, 'Kitchen Cooktops', 29),\n",
       " (333, 'Baby Foods', 54),\n",
       " (334, 'Play Pens', 335),\n",
       " (335, 'Baby Activity', 54),\n",
       " (336, 'Bottles', 338),\n",
       " (337, 'Ice Cream Makers', 29),\n",
       " (338, 'Nursing and Feeding', 54),\n",
       " (339, 'Diaper Accessories', 54),\n",
       " (340, 'Competitions', 40),\n",
       " (341, 'Infant Bedding & Linens', 54),\n",
       " (342, 'Maternity Aids', 54),\n",
       " (343, 'Corporate Credit Cards', 14),\n",
       " (344, 'Microphones', 20),\n",
       " (345, 'Credit Reports', 45),\n",
       " (346, 'Old Restaurants', None),\n",
       " (347, 'Monitor Accessories', 6),\n",
       " (348, 'Bike Parts & Accessories', 97),\n",
       " (349, 'Outdoor Electronics', 27),\n",
       " (350, 'Disposals', 29),\n",
       " (351, 'Hydration & Water Bottles', 352),\n",
       " (352, 'Camping and Hiking', 97),\n",
       " (353, 'Business Schools', 51),\n",
       " (354, 'Tax Preparation', 14),\n",
       " (355, 'Payroll', 14),\n",
       " (356, 'Lens Converters', 20),\n",
       " (357, 'Flashes', 20),\n",
       " (358, 'Sports Nutrition', 55),\n",
       " (359, 'Waffle Makers', 29),\n",
       " (360, 'Computer Hardware', 6),\n",
       " (361, 'Barcode Scanners', 6),\n",
       " (362, 'RVs', 49),\n",
       " (363, 'IP Phones', 20),\n",
       " (364, 'Insect Repellent', 39),\n",
       " (365, 'PC Cases', 6),\n",
       " (366, 'Power Mowers & Tools', 147),\n",
       " (367, 'Other Storage', 6),\n",
       " (368, 'Drive Cases', 6),\n",
       " (369, 'Servers', 14),\n",
       " (370, 'Network Adapters', 6),\n",
       " (371, 'DVD Drives', 6),\n",
       " (372, 'Printer Accessories', 6),\n",
       " (373, 'Corded Phones', 20),\n",
       " (374, 'Blank Media Accessories', 6),\n",
       " (375, 'Pagers', 20),\n",
       " (376, 'Printing Services', 14),\n",
       " (377, 'Diet Foods', 29),\n",
       " (378, 'Treats', 380),\n",
       " (379, 'Enterprise Storage', 14),\n",
       " (380, 'Food and Treats', 321),\n",
       " (381, 'Databases', 14),\n",
       " (382, 'Other Power Accessories', 6),\n",
       " (383, 'Debt Consolidation', 45),\n",
       " (384, 'Network Storage', 6),\n",
       " (385, 'Electronic Translators and Dictionaries', 6),\n",
       " (386, 'Wound Care', 39),\n",
       " (387, 'Tape Decks', 20),\n",
       " (388, 'Office Chairs', 29),\n",
       " (389, 'Basketball', 97),\n",
       " (390, 'Football', 97),\n",
       " (391, 'Multimedia Projectors', 14),\n",
       " (392, 'Wine Accessories', 17),\n",
       " (393, 'Bath & Hygiene Accessories', 54),\n",
       " (394, 'High Chairs', 54),\n",
       " (395, 'Tablet PCs', 6),\n",
       " (396, 'Audio and Video Media', 20),\n",
       " (397, 'Skin Basics', 57),\n",
       " (398, 'Wiring & Cable Management', 14),\n",
       " (399, 'Software', 6),\n",
       " (400, 'Serial Adapters', 6),\n",
       " (401, 'Law Schools', 51),\n",
       " (402, 'Amplifiers and Preamps', 20),\n",
       " (403, 'Miscellaneous', None),\n",
       " (404, 'Wineries', 17),\n",
       " (405, 'Diving Destinations', 27),\n",
       " (406, 'ATVs', 49),\n",
       " (407, 'Car Audio and Video Accessories', 20),\n",
       " (408, 'Photograph Storage & Display', 65),\n",
       " (409, 'Web TV', 20),\n",
       " (410, 'Safety & Emergency Electronics', 29),\n",
       " (411, '35mm SLR Cameras', 20),\n",
       " (412, 'Vitamins', 55),\n",
       " (413, 'Office Accessories', 14),\n",
       " (414, 'Hiking Poles', 352),\n",
       " (415, 'Food', 321),\n",
       " (416, 'Cradles', 24),\n",
       " (417, 'Tennis', 97),\n",
       " (418, 'Golf Balls', 325),\n",
       " (419, 'Video Headsets', 20),\n",
       " (420, 'Books', 421),\n",
       " (421, 'UK Media', None),\n",
       " (422, 'As Seen on TV', None),\n",
       " (423, 'Feeding Accessories', 54),\n",
       " (424, 'Cordless Phones', 20),\n",
       " (425, 'Diving Schools', 27),\n",
       " (426, 'Headphone Amplifiers', 20),\n",
       " (427, 'Employee Benefits', 14),\n",
       " (428, 'Computer Bags', 105),\n",
       " (429, 'Storage Controllers', 6),\n",
       " (430, 'Car Video Players', 49),\n",
       " (431, 'Sunscreen', 432),\n",
       " (432, 'Skin Care', 57),\n",
       " (433, 'Graphic Tablets', 6),\n",
       " (434, 'Water Heaters', 29),\n",
       " (435, 'Optics Accessories', 20),\n",
       " (436, 'Tripods', 20),\n",
       " (437, 'Telescopes', 20),\n",
       " (438, 'Other Networking', 6),\n",
       " (439, 'Floppy Drives', 6),\n",
       " (440, 'Bouncers', 335),\n",
       " (441, 'Scooters', 49),\n",
       " (442, 'Car Amplifiers', 20),\n",
       " (443, 'Video Conferencing', 14),\n",
       " (444, 'Conferencing Stations', 20),\n",
       " (445, 'Kitchen Hoods', 29),\n",
       " (446, 'Irrigation', 147),\n",
       " (447, 'Clocks', None),\n",
       " (448, 'Personal Cassette Players', 20),\n",
       " (449, 'Diapers', 450),\n",
       " (450, 'Baby Health and Hygiene', 54),\n",
       " (451, 'Collars and Leads', 28),\n",
       " (452, 'Transcribers', 14),\n",
       " (453, 'Fryers', None),\n",
       " (454, 'Storage & Sheds', 455),\n",
       " (455, 'Greenhouses and Storage Sheds', 147),\n",
       " (456, 'Night Vision', 20),\n",
       " (457, 'Dental Care', 458),\n",
       " (458, 'Oral Care', 57),\n",
       " (459, 'Venture Capital', 45),\n",
       " (460, 'Other Peripherals', 6),\n",
       " (461, 'Safety & Emergency Security Products', 29),\n",
       " (462, 'Travel Accessories & Handbags', 4),\n",
       " (463, 'Enterprise Applications', 14),\n",
       " (464, 'Server Software', 14),\n",
       " (465, 'Glucose & Cholesterol Monitors', 39),\n",
       " (466, 'Firewalls', 6),\n",
       " (467, 'Print Servers', 6),\n",
       " (468, 'Server Racks', 14),\n",
       " (469, 'Tape Drives', 6),\n",
       " (470, 'Hubs and Switches', 6),\n",
       " (471, 'Recruiting', 14),\n",
       " (472, 'Guitars & Basses', 87),\n",
       " (473, 'Canoes & Kayaks', 97),\n",
       " (474, 'Travel Precautions', 475),\n",
       " (475, 'Child Safety', 54),\n",
       " (476, 'Changing Tables', 54),\n",
       " (477, 'Locks & Guards', 475),\n",
       " (478, 'Running', 97),\n",
       " (479, 'Thermometers', 39),\n",
       " (480, 'Scales & Body Fat Monitors', 39),\n",
       " (481, 'Diaper Pails', 450),\n",
       " (482, 'Bathtubs & Bath Seats', 450),\n",
       " (483, 'Crib Mattresses', 54),\n",
       " (484, 'Baby Monitors', 475),\n",
       " (485, 'Beds', 321),\n",
       " (486, 'KVM Switches', None),\n",
       " (487, 'Weed Control', 147),\n",
       " (488, 'Food', 28),\n",
       " (489, 'Above-Ground Pools', 490),\n",
       " (490, 'Swimming Pool and Spa Supplies', 147),\n",
       " (491, 'Fertilizers', 147),\n",
       " (492, 'Diaper Bags', 54),\n",
       " (493, 'Treats', 494),\n",
       " (494, 'Cats', 28),\n",
       " (495, 'Other Small Appliances', 29),\n",
       " (496, 'Night Vision', 20),\n",
       " (497, 'Barebone Systems', 6),\n",
       " (498, 'Potty Chairs', 450),\n",
       " (499, 'Pacifiers', 338),\n",
       " (500, 'Baby Formula', 338),\n",
       " (501, 'Golf Bags & Accessories', 325),\n",
       " (502, 'Bed Rails', 54),\n",
       " (503, 'Soccer', 97),\n",
       " (504, 'Nail Products', 59),\n",
       " (505, 'Amplifiers', 87),\n",
       " (506, 'Teethers', 338),\n",
       " (507, 'Safety & Emergency Resources', 29),\n",
       " (508, 'Microscopes', 20),\n",
       " (509, 'Projection Screens', 14),\n",
       " (510, 'Multimedia Projector Replacement Lamps ', 14),\n",
       " (511, 'Coffee', 512),\n",
       " (512, 'Beverages', 53),\n",
       " (513, 'Accounting Software', 14),\n",
       " (514, 'Overhead Projectors', 14),\n",
       " (515, 'Networking Repeaters', 6),\n",
       " (516, 'Tents', 97),\n",
       " (517, 'Banks', 45),\n",
       " (518, 'N-Gage Games', 2),\n",
       " (519, 'GPS Car Navigation Systems', 20),\n",
       " (520, 'Reel Mowers', 147),\n",
       " (521, 'Spotting Scopes', 20),\n",
       " (522, 'Radio Scanners', 49),\n",
       " (523, 'Remote Access Servers', 6),\n",
       " (524, 'THIS IS AN INVALID URL', None),\n",
       " (525, 'Car Equalizers', 20),\n",
       " (526, 'Collection Agencies', 14),\n",
       " (527, 'Cleaning Appliances', 490),\n",
       " (528, 'Litter Boxes', 494),\n",
       " (529, 'Swings', 335),\n",
       " (530, 'Equalizers', 20),\n",
       " (531, 'Hockey & In-line Skating', 97),\n",
       " (532, 'Car Monitors', 49),\n",
       " (533, 'Merchant Accounts', 14),\n",
       " (534, 'Scanner Accessories', 6),\n",
       " (535, 'Expansion Modules', 6),\n",
       " (536, 'Mobile Audio/Video', 49),\n",
       " (537, 'Transceivers', 6),\n",
       " (538, 'Sensitive Skin', 432),\n",
       " (539, 'Bikes', 97),\n",
       " (540, 'Small Appliances', 29),\n",
       " (541, 'Mini Disc Players', 20),\n",
       " (542, 'Financial Applications', 45),\n",
       " (543, 'Racquetball', 27),\n",
       " (544, 'Blood Pressure Monitors', 39),\n",
       " (545, 'Investor Organizations', 45),\n",
       " (546, 'Bridges', 6),\n",
       " (547, 'Other Memory', 6),\n",
       " (548, 'Slide Projectors', 14),\n",
       " (549, 'Routers and Bridges', 6),\n",
       " (550, 'Read Only Memory (ROM)', 6),\n",
       " (551, 'Backpacks', 105),\n",
       " (552, 'Camping Stoves', 352),\n",
       " (553, 'Baseball', 97),\n",
       " (554, 'Volleyball', 27),\n",
       " (555, 'Rangefinders', 20),\n",
       " (556, '\\n     ', None),\n",
       " (557, 'CB Radios', 49),\n",
       " (558, 'Fishing Lines', 97),\n",
       " (559, 'Content Delivery', 14),\n",
       " (560, 'Office Telephony', 14),\n",
       " (561, 'Digital Picture Frames', 20),\n",
       " (562, 'Flea & Pest Control', 494),\n",
       " (563, 'Video Editors', 20),\n",
       " (564, 'Business Travel', 14),\n",
       " (565, 'Keyboards & MIDI', 87),\n",
       " (566, 'Enterprise Computing Accessories', 14),\n",
       " (567, 'Toys', 321),\n",
       " (568, 'Pianos', 8),\n",
       " (569, 'Acne & Blemish Control', 432),\n",
       " (570, 'Leashes', 321),\n",
       " (571, 'Beds', 494),\n",
       " (572, 'Contact Lenses', 573),\n",
       " (573, 'Eye Care', 57),\n",
       " (574, 'Water Treatments', 575),\n",
       " (575, 'Pond and Water Garden Supplies', 147),\n",
       " (576, 'Music', 421),\n",
       " (577, 'Network Terminals', 6),\n",
       " (578, 'Aquariums', 579),\n",
       " (579, 'Fish', 28),\n",
       " (580, 'Containment', 321),\n",
       " (581, 'Fishing Reels', 582),\n",
       " (582, 'Fishing', 97),\n",
       " (583, '(Beyond TV 3 will be ready to ship no later th... (b-tv3-pci)', 195),\n",
       " (584, 'Rowing', 97),\n",
       " (585, 'Self Tanning', 432),\n",
       " (586, 'Litter', 494),\n",
       " (587, 'Shop Tool Accessories', 117))"
      ]
     },
     "execution_count": 71,
     "metadata": {},
     "output_type": "execute_result"
    }
   ],
   "source": [
    "StrSql = \"select * from `Category`;\"\n",
    "Xue.ExecSQL(StrSql)"
   ]
  },
  {
   "cell_type": "code",
   "execution_count": 67,
   "metadata": {
    "ExecuteTime": {
     "end_time": "2017-10-21T07:21:36.052476Z",
     "start_time": "2017-10-21T07:21:35.987932Z"
    }
   },
   "outputs": [],
   "source": [
    "\n",
    "#Xue.DeleteConnect()"
   ]
  }
 ],
 "metadata": {
  "kernelspec": {
   "display_name": "Python 3",
   "language": "python",
   "name": "python3"
  },
  "language_info": {
   "codemirror_mode": {
    "name": "ipython",
    "version": 3
   },
   "file_extension": ".py",
   "mimetype": "text/x-python",
   "name": "python",
   "nbconvert_exporter": "python",
   "pygments_lexer": "ipython3",
   "version": "3.6.2"
  }
 },
 "nbformat": 4,
 "nbformat_minor": 2
}
