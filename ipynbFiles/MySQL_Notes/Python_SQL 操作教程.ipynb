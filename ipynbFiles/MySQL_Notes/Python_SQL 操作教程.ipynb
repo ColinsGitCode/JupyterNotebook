{
 "cells": [
  {
   "cell_type": "markdown",
   "metadata": {},
   "source": [
    "# Python SQL操作教程\n"
   ]
  },
  {
   "cell_type": "code",
   "execution_count": 16,
   "metadata": {
    "ExecuteTime": {
     "end_time": "2017-10-20T11:33:18.349702Z",
     "start_time": "2017-10-20T11:33:18.345805Z"
    },
    "collapsed": true
   },
   "outputs": [],
   "source": [
    "import MySQLdb as mysql"
   ]
  },
  {
   "cell_type": "code",
   "execution_count": 17,
   "metadata": {
    "ExecuteTime": {
     "end_time": "2017-10-20T11:33:18.450546Z",
     "start_time": "2017-10-20T11:33:18.350681Z"
    },
    "collapsed": true
   },
   "outputs": [],
   "source": [
    "# Settings\n",
    "host_ip = '192.168.56.101'\n",
    "user_name = 'root'\n",
    "password = 'Colin0616'\n"
   ]
  },
  {
   "cell_type": "code",
   "execution_count": 18,
   "metadata": {
    "ExecuteTime": {
     "end_time": "2017-10-20T11:33:18.519020Z",
     "start_time": "2017-10-20T11:33:18.451524Z"
    },
    "collapsed": true
   },
   "outputs": [],
   "source": [
    "# 进行mysql数据库链接\n",
    "con_Sql = mysql.connect(host_ip,user_name,password)\n",
    "# 获取操作游标\n",
    "cursor = con_Sql.cursor()\n"
   ]
  },
  {
   "cell_type": "code",
   "execution_count": null,
   "metadata": {
    "collapsed": true
   },
   "outputs": [],
   "source": [
    "# 定义执行函数"
   ]
  },
  {
   "cell_type": "code",
   "execution_count": 19,
   "metadata": {
    "ExecuteTime": {
     "end_time": "2017-10-20T11:33:18.586505Z",
     "start_time": "2017-10-20T11:33:18.519959Z"
    }
   },
   "outputs": [
    {
     "data": {
      "text/plain": [
       "6"
      ]
     },
     "execution_count": 19,
     "metadata": {},
     "output_type": "execute_result"
    }
   ],
   "source": [
    "# 要执行的语句，已字符串形式使用\n",
    "cmd_Sql = 'show databases;'\n",
    "cursor.execute(cmd_Sql)\n"
   ]
  },
  {
   "cell_type": "code",
   "execution_count": 20,
   "metadata": {
    "ExecuteTime": {
     "end_time": "2017-10-20T11:33:18.652005Z",
     "start_time": "2017-10-20T11:33:18.588461Z"
    }
   },
   "outputs": [
    {
     "name": "stdout",
     "output_type": "stream",
     "text": [
      "(('information_schema',), ('colin_test',), ('jpstudyexpress',), ('mysql',), ('performance_schema',), ('sys',))\n"
     ]
    }
   ],
   "source": [
    "# 获取返回的结果\n",
    "data_res = cursor.fetchall()\n",
    "print (data_res)"
   ]
  },
  {
   "cell_type": "code",
   "execution_count": 22,
   "metadata": {
    "ExecuteTime": {
     "end_time": "2017-10-20T11:33:51.998608Z",
     "start_time": "2017-10-20T11:33:51.993719Z"
    }
   },
   "outputs": [
    {
     "name": "stdout",
     "output_type": "stream",
     "text": [
      "<MySQLdb.cursors.Cursor object at 0x000001DF9E133550>\n",
      "<_mysql.connection open to '192.168.56.101' at 9803ea88>\n"
     ]
    }
   ],
   "source": [
    "print(cursor)\n",
    "print(con_Sql)"
   ]
  },
  {
   "cell_type": "code",
   "execution_count": 21,
   "metadata": {
    "ExecuteTime": {
     "end_time": "2017-10-20T11:33:18.759571Z",
     "start_time": "2017-10-20T11:33:18.652983Z"
    },
    "collapsed": true
   },
   "outputs": [],
   "source": [
    "# 释放操作游标\n",
    "# cursor.close()\n",
    "# 关闭链接\n",
    "# con_Sql.close()"
   ]
  }
 ],
 "metadata": {
  "kernelspec": {
   "display_name": "Python 3",
   "language": "python",
   "name": "python3"
  },
  "language_info": {
   "codemirror_mode": {
    "name": "ipython",
    "version": 3
   },
   "file_extension": ".py",
   "mimetype": "text/x-python",
   "name": "python",
   "nbconvert_exporter": "python",
   "pygments_lexer": "ipython3",
   "version": "3.6.2"
  }
 },
 "nbformat": 4,
 "nbformat_minor": 2
}
