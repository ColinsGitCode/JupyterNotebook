{
 "cells": [
  {
   "cell_type": "markdown",
   "metadata": {},
   "source": [
    "# Python SQL操作教程\n"
   ]
  },
  {
   "cell_type": "markdown",
   "metadata": {},
   "source": [
    "## 常用功能"
   ]
  },
  {
   "cell_type": "markdown",
   "metadata": {},
   "source": [
    "### 与MySQL建立连接\n",
    "\n",
    "conn = MySQLdb.connet(host='localhost', user='root';, passwd='root\", db = 'euryugasaki', port=3306)\n",
    "\n",
    "connect()方法用来提供与MySQL的连接，接受多个参数，返回连接的对象： \n",
    "\n",
    "host: 数据库主机名，默认是本地主机 \n",
    "\n",
    "user: 数据库登录用户，默认是当前用户 \n",
    "\n",
    "passwd: 数据库登录密码，默认是空 \n",
    "\n",
    "db: 使用的数据库名，没有默认值 \n",
    "\n",
    "port: MySQL服务使用TCP端口，默认3306\n",
    "\n",
    "连接对象提供了对事务操作的支持，标准方法有： \n",
    "commit() 提交 \n",
    "\n",
    "插入更新数据的时候一定要执行commit()否则不能真正的插入数据。 \n",
    "\n",
    "rollback() 回滚\n",
    "\n",
    "**connet()方法中还有一个参数是charset，设置charset是让数据库的编码与自身相同，如果数据库的编码是gb2312，则使用charset=’gb2312’，如果是utf-8则charset=’urt8’**"
   ]
  },
  {
   "cell_type": "markdown",
   "metadata": {},
   "source": [
    "### 运行SQL语句并接受返回值\n",
    "\n",
    "cursor = conn.cursor()\n",
    "\n",
    "n = cursor.execute(sql,param)\n",
    "\n",
    "我们需要使用连接返回的对象获得一个cursor对象，并使用cursor提供的方法来进行工作。这类方法包括两大类： \n",
    "\n",
    "#### a) 执行命令\n",
    "\n",
    "callproc(self, procname, args): 用来执行存储过程，接受的参数为存储过程名和参数列表，返回值为受影响的行数. \n",
    "\n",
    "execute(self, query, args): 执行单条SQL语句，接受的参数为SQL语句本身和使用的参数列表，返回值为受影响的行数. \n",
    "\n",
    "executemany(self, query, args): 执行单条SQL语句，但是重复执行参数列表里的参数，返回值为受影响的行数. \n",
    "\n",
    "nextset(self): 移动到下一个结果集 \n",
    "\n",
    "#### b) 接受返回值 \n",
    "\n",
    "fetchall(self):接受全部的返回结果行. \n",
    "\n",
    "fetchmany(self, size=None): 接受size调返回结果行，如果size的值大于返回的结果行的数量，则会返回cursor.arraysize条数据 \n",
    "\n",
    "fetchone(self): 返回一条结果行 \n",
    "\n",
    "scroll(self, value, mode=’relative’): 移动指针到某一行，如果mode=’relative’,则表示当前所在行移动value条，如果mode=’absolute’，则表示从结果集的一行移动value条"
   ]
  },
  {
   "cell_type": "markdown",
   "metadata": {},
   "source": [
    "## 实例"
   ]
  },
  {
   "cell_type": "code",
   "execution_count": 40,
   "metadata": {
    "ExecuteTime": {
     "end_time": "2017-10-21T05:15:40.299632Z",
     "start_time": "2017-10-21T05:15:40.295709Z"
    },
    "collapsed": true
   },
   "outputs": [],
   "source": [
    "import MySQLdb as mysql"
   ]
  },
  {
   "cell_type": "code",
   "execution_count": 41,
   "metadata": {
    "ExecuteTime": {
     "end_time": "2017-10-21T05:15:40.399337Z",
     "start_time": "2017-10-21T05:15:40.301585Z"
    },
    "collapsed": true
   },
   "outputs": [],
   "source": [
    "# Settings\n",
    "host_ip = '192.168.56.101'\n",
    "user_name = 'root'\n",
    "password = 'Colin0616'\n"
   ]
  },
  {
   "cell_type": "code",
   "execution_count": 42,
   "metadata": {
    "ExecuteTime": {
     "end_time": "2017-10-21T05:15:40.464836Z",
     "start_time": "2017-10-21T05:15:40.404225Z"
    },
    "collapsed": true
   },
   "outputs": [],
   "source": [
    "# 进行mysql数据库链接\n",
    "con_Sql = mysql.connect(host_ip,user_name,password)\n",
    "# 获取操作游标\n",
    "cursor = con_Sql.cursor()\n"
   ]
  },
  {
   "cell_type": "code",
   "execution_count": 43,
   "metadata": {
    "ExecuteTime": {
     "end_time": "2017-10-21T05:15:40.598774Z",
     "start_time": "2017-10-21T05:15:40.465815Z"
    },
    "collapsed": true
   },
   "outputs": [],
   "source": [
    "# 定义执行函数"
   ]
  },
  {
   "cell_type": "code",
   "execution_count": 44,
   "metadata": {
    "ExecuteTime": {
     "end_time": "2017-10-21T05:15:40.726855Z",
     "start_time": "2017-10-21T05:15:40.601723Z"
    }
   },
   "outputs": [
    {
     "data": {
      "text/plain": [
       "6"
      ]
     },
     "execution_count": 44,
     "metadata": {},
     "output_type": "execute_result"
    }
   ],
   "source": [
    "# 要执行的语句，已字符串形式使用\n",
    "cmd_Sql = 'show databases;'\n",
    "cursor.execute(cmd_Sql)\n"
   ]
  },
  {
   "cell_type": "code",
   "execution_count": 45,
   "metadata": {
    "ExecuteTime": {
     "end_time": "2017-10-21T05:15:40.834375Z",
     "start_time": "2017-10-21T05:15:40.729791Z"
    }
   },
   "outputs": [
    {
     "name": "stdout",
     "output_type": "stream",
     "text": [
      "(('information_schema',), ('colin_test',), ('jpstudyexpress',), ('mysql',), ('performance_schema',), ('sys',))\n"
     ]
    }
   ],
   "source": [
    "# 获取返回的结果\n",
    "data_res = cursor.fetchall()\n",
    "print (data_res)"
   ]
  },
  {
   "cell_type": "code",
   "execution_count": 46,
   "metadata": {
    "ExecuteTime": {
     "end_time": "2017-10-21T05:15:40.941940Z",
     "start_time": "2017-10-21T05:15:40.838290Z"
    }
   },
   "outputs": [
    {
     "name": "stdout",
     "output_type": "stream",
     "text": [
      "<MySQLdb.cursors.Cursor object at 0x000001DF9E11B128>\n",
      "<_mysql.connection open to '192.168.56.101' at 9c6ce038>\n"
     ]
    }
   ],
   "source": [
    "print(cursor)\n",
    "print(con_Sql)"
   ]
  },
  {
   "cell_type": "code",
   "execution_count": 47,
   "metadata": {
    "ExecuteTime": {
     "end_time": "2017-10-21T05:15:41.056298Z",
     "start_time": "2017-10-21T05:15:40.949733Z"
    },
    "collapsed": true
   },
   "outputs": [],
   "source": [
    "# 释放操作游标\n",
    "# cursor.close()\n",
    "# 关闭链接\n",
    "# con_Sql.close()"
   ]
  }
 ],
 "metadata": {
  "kernelspec": {
   "display_name": "Python 3",
   "language": "python",
   "name": "python3"
  },
  "language_info": {
   "codemirror_mode": {
    "name": "ipython",
    "version": 3
   },
   "file_extension": ".py",
   "mimetype": "text/x-python",
   "name": "python",
   "nbconvert_exporter": "python",
   "pygments_lexer": "ipython3",
   "version": "3.6.2"
  }
 },
 "nbformat": 4,
 "nbformat_minor": 2
}
