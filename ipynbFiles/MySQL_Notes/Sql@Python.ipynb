{
 "cells": [
  {
   "cell_type": "markdown",
   "metadata": {},
   "source": [
    "### 加入库"
   ]
  },
  {
   "cell_type": "code",
   "execution_count": 1,
   "metadata": {
    "ExecuteTime": {
     "end_time": "2017-10-20T11:04:21.524007Z",
     "start_time": "2017-10-20T11:04:21.511286Z"
    },
    "collapsed": true
   },
   "outputs": [],
   "source": [
    "import MySQLdb as mysql"
   ]
  },
  {
   "cell_type": "markdown",
   "metadata": {},
   "source": [
    "### 获取链接"
   ]
  },
  {
   "cell_type": "code",
   "execution_count": 2,
   "metadata": {
    "ExecuteTime": {
     "end_time": "2017-10-20T11:04:21.743958Z",
     "start_time": "2017-10-20T11:04:21.524974Z"
    },
    "collapsed": true
   },
   "outputs": [],
   "source": [
    "conn=mysql.connect(host='192.168.56.101',user='root',passwd='Colin0616')"
   ]
  },
  {
   "cell_type": "markdown",
   "metadata": {},
   "source": [
    "### 获取游标"
   ]
  },
  {
   "cell_type": "code",
   "execution_count": 3,
   "metadata": {
    "ExecuteTime": {
     "end_time": "2017-10-20T11:04:21.866135Z",
     "start_time": "2017-10-20T11:04:21.745915Z"
    },
    "collapsed": true
   },
   "outputs": [],
   "source": [
    "cursor=conn.cursor()"
   ]
  },
  {
   "cell_type": "markdown",
   "metadata": {},
   "source": [
    "### 要使用的sql语句以字符串形式备用"
   ]
  },
  {
   "cell_type": "code",
   "execution_count": 4,
   "metadata": {
    "ExecuteTime": {
     "end_time": "2017-10-20T11:04:22.063493Z",
     "start_time": "2017-10-20T11:04:21.867637Z"
    },
    "collapsed": true
   },
   "outputs": [],
   "source": [
    "sqlStr = 'show databases;'"
   ]
  },
  {
   "cell_type": "markdown",
   "metadata": {},
   "source": [
    "### 执行该sql语句"
   ]
  },
  {
   "cell_type": "code",
   "execution_count": 5,
   "metadata": {
    "ExecuteTime": {
     "end_time": "2017-10-20T11:04:22.248419Z",
     "start_time": "2017-10-20T11:04:22.064431Z"
    }
   },
   "outputs": [
    {
     "data": {
      "text/plain": [
       "6"
      ]
     },
     "execution_count": 5,
     "metadata": {},
     "output_type": "execute_result"
    }
   ],
   "source": [
    "cursor.execute(sqlStr)"
   ]
  },
  {
   "cell_type": "markdown",
   "metadata": {},
   "source": [
    "### 获得返回的数据"
   ]
  },
  {
   "cell_type": "code",
   "execution_count": 6,
   "metadata": {
    "ExecuteTime": {
     "end_time": "2017-10-20T11:04:22.384295Z",
     "start_time": "2017-10-20T11:04:22.249386Z"
    },
    "collapsed": true
   },
   "outputs": [],
   "source": [
    "result=cursor.fetchall()"
   ]
  },
  {
   "cell_type": "code",
   "execution_count": 7,
   "metadata": {
    "ExecuteTime": {
     "end_time": "2017-10-20T11:04:22.496738Z",
     "start_time": "2017-10-20T11:04:22.386251Z"
    }
   },
   "outputs": [
    {
     "name": "stdout",
     "output_type": "stream",
     "text": [
      "(('information_schema',), ('colin_test',), ('jpstudyexpress',), ('mysql',), ('performance_schema',), ('sys',))\n"
     ]
    }
   ],
   "source": [
    "print (result)"
   ]
  },
  {
   "cell_type": "markdown",
   "metadata": {},
   "source": [
    "### 释放游标"
   ]
  },
  {
   "cell_type": "code",
   "execution_count": 8,
   "metadata": {
    "ExecuteTime": {
     "end_time": "2017-10-20T11:04:22.643362Z",
     "start_time": "2017-10-20T11:04:22.497699Z"
    },
    "collapsed": true
   },
   "outputs": [],
   "source": [
    "cursor.close()"
   ]
  },
  {
   "cell_type": "markdown",
   "metadata": {},
   "source": [
    "### 关闭链接"
   ]
  },
  {
   "cell_type": "code",
   "execution_count": 9,
   "metadata": {
    "ExecuteTime": {
     "end_time": "2017-10-20T11:04:22.792940Z",
     "start_time": "2017-10-20T11:04:22.644340Z"
    },
    "collapsed": true
   },
   "outputs": [],
   "source": [
    "conn.close()"
   ]
  }
 ],
 "metadata": {
  "kernelspec": {
   "display_name": "Python 3",
   "language": "python",
   "name": "python3"
  },
  "language_info": {
   "codemirror_mode": {
    "name": "ipython",
    "version": 3
   },
   "file_extension": ".py",
   "mimetype": "text/x-python",
   "name": "python",
   "nbconvert_exporter": "python",
   "pygments_lexer": "ipython3",
   "version": "3.6.2"
  }
 },
 "nbformat": 4,
 "nbformat_minor": 2
}
