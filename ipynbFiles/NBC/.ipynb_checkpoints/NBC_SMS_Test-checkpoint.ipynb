{
 "cells": [
  {
   "cell_type": "code",
   "execution_count": 117,
   "metadata": {
    "collapsed": true
   },
   "outputs": [],
   "source": [
    "import csv\n",
    "from unicodedata import category"
   ]
  },
  {
   "cell_type": "code",
   "execution_count": 118,
   "metadata": {
    "collapsed": true
   },
   "outputs": [],
   "source": [
    "def delete_strings_symbols(s):\n",
    "    s = ''.join(ch for ch in s if category(ch)[0]!= 'P')\n",
    "    return s"
   ]
  },
  {
   "cell_type": "code",
   "execution_count": 119,
   "metadata": {},
   "outputs": [],
   "source": [
    "def read_tsv_by_line(fileName):\n",
    "    '''Read .tsv files line by line and return the lines as a list''' \n",
    "    '''The return lines' element are a list which contains a string '''\n",
    "    lines = []\n",
    "    with open(fileName,'r', encoding=\"utf8\") as tsvfile:\n",
    "        reader = csv.reader(tsvfile, delimiter='\\n')\n",
    "        for row in reader:\n",
    "            lines.append(row)\n",
    "    return lines"
   ]
  },
  {
   "cell_type": "code",
   "execution_count": 120,
   "metadata": {},
   "outputs": [],
   "source": [
    "def split_line_by_tab(tsvLines):\n",
    "    '''Split the class in the training datasets'''\n",
    "    '''Return the lines which ele[0] is CLASS, ele[1] is SMS_MESSAGES '''\n",
    "    newLines = []\n",
    "    EMPTY = \"\"\n",
    "    for ele in tsvLines:\n",
    "        if len(ele) == 1:\n",
    "            splitEle = ele[0].split(\"\\t\")\n",
    "            newLines.append(splitEle)\n",
    "        else:\n",
    "            splitEle = ele.split(\"\\t\")\n",
    "            newLines.append(splitEle)\n",
    "    return newLines"
   ]
  },
  {
   "cell_type": "code",
   "execution_count": 127,
   "metadata": {
    "collapsed": true
   },
   "outputs": [],
   "source": [
    "def remove_symbols_by_line(Lines):\n",
    "    noSymbolLines = []\n",
    "    for ele in Lines:\n",
    "        ele[1] = delete_strings_symbols(ele[1])\n",
    "        noSymbolLines.append(ele)\n",
    "    return noSymbolLines"
   ]
  },
  {
   "cell_type": "code",
   "execution_count": 121,
   "metadata": {},
   "outputs": [],
   "source": [
    "file = \"sms_Copy.tsv\"\n",
    "tsvLines = read_tsv_by_line(file)\n",
    "ClassLines = split_line_by_tab(tsvLines)"
   ]
  },
  {
   "cell_type": "code",
   "execution_count": 122,
   "metadata": {},
   "outputs": [],
   "source": [
    "testFile = \"test_Copy.tsv\"\n",
    "testLines = read_tsv_by_line(testFile)\n",
    "NumLines = split_line_by_tab(testLines)"
   ]
  },
  {
   "cell_type": "code",
   "execution_count": 128,
   "metadata": {},
   "outputs": [
    {
     "data": {
      "text/plain": [
       "[['ham', 'Im in office now dawhere are you'],\n",
       " ['ham',\n",
       "  'Dont pick up d call when something important is There to tell Hrishi'],\n",
       " ['ham', 'Can Im free'],\n",
       " ['ham', 'Well join the  ltgt  bus'],\n",
       " ['ham', 'You still coming tonight'],\n",
       " ['ham', 'Ok'],\n",
       " ['ham', 'U studying in sch or going home Anyway ill b going 2 sch later'],\n",
       " ['ham', 'What does the dance river do'],\n",
       " ['ham', 'Thank you do you generally date the brothas'],\n",
       " ['ham', 'Hi happy birthday Hi hi hi hi hi hi hi'],\n",
       " ['ham', 'Do I I thought I put it back in the box'],\n",
       " ['ham',\n",
       "  'Purity of friendship between two is not about smiling after reading the forwarded messageIts about smiling just by seeing the name Gud evng'],\n",
       " ['ham',\n",
       "  'Yes ammaelife takes lot of turns you can only sit and try to hold the steering'],\n",
       " ['ham', 'Im already back home so no probably not'],\n",
       " ['ham', 'You can never do NOTHING'],\n",
       " ['ham', 'I love you both too '],\n",
       " ['ham', 'Can not use foreign stamps in this country'],\n",
       " ['ham', 'Shall i ask one thing if you dont mistake me'],\n",
       " ['ham',\n",
       "  'I keep seeing weird shit and bein all woah then realising its actually reasonable and Im all oh'],\n",
       " ['ham', 'Hey so whats the plan this sat '],\n",
       " ['ham', 'Im meeting Darren'],\n",
       " ['spam',\n",
       "  'EASTENDERS TV Quiz What FLOWER does DOT compare herself to D= VIOLET E= TULIP F= LILY txt D E or F to 84025 NOW 4 chance 2 WIN £100 Cash WKENT150P16+'],\n",
       " ['ham',\n",
       "  'Babe  How goes that day  What are you doing  Where are you  I sip my cappuccino and think of you my love  I send a kiss to you from across the sea'],\n",
       " ['spam',\n",
       "  'Do you want a new video handset 750 anytime any network mins Half Price Line Rental Camcorder Reply or call 08000930705 for delivery tomorrow'],\n",
       " ['ham',\n",
       "  'Yes we were outside for like 2 hours And I called my whole family to wake them up cause it started at 1 am'],\n",
       " ['ham',\n",
       "  'HARD BUT TRUE How much you show amp  express your love to someonethat much it will hurt when they leave you or you get seperated鈥┾〨ud evening'],\n",
       " ['ham', 'Ok then i will come to ur home after half an hour']]"
      ]
     },
     "execution_count": 128,
     "metadata": {},
     "output_type": "execute_result"
    }
   ],
   "source": [
    "trianNoSymbolLines = remove_symbols_by_line(ClassLines)\n",
    "trianNoSymbolLines"
   ]
  }
 ],
 "metadata": {
  "kernelspec": {
   "display_name": "Python 3",
   "language": "python",
   "name": "python3"
  },
  "language_info": {
   "codemirror_mode": {
    "name": "ipython",
    "version": 3
   },
   "file_extension": ".py",
   "mimetype": "text/x-python",
   "name": "python",
   "nbconvert_exporter": "python",
   "pygments_lexer": "ipython3",
   "version": "3.6.2"
  }
 },
 "nbformat": 4,
 "nbformat_minor": 2
}
