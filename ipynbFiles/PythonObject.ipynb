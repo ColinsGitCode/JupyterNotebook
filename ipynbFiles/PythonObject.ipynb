{
 "cells": [
  {
   "cell_type": "markdown",
   "metadata": {},
   "source": [
    "# 面向对象的编程\n",
    "\n",
    "## 1，<span class=\"burk\">Python类的基本语法</span>\n",
    "\n",
    "### 1.1，类与实例"
   ]
  },
  {
   "cell_type": "code",
   "execution_count": 1,
   "metadata": {},
   "outputs": [
    {
     "ename": "NameError",
     "evalue": "name 'bases' is not defined",
     "output_type": "error",
     "traceback": [
      "\u001b[0;31m---------------------------------------------------------------------------\u001b[0m",
      "\u001b[0;31mNameError\u001b[0m                                 Traceback (most recent call last)",
      "\u001b[0;32m<ipython-input-1-90a246f8d3cb>\u001b[0m in \u001b[0;36m<module>\u001b[0;34m()\u001b[0m\n\u001b[0;32m----> 1\u001b[0;31m \u001b[0;32mclass\u001b[0m \u001b[0mMyNewObjectType\u001b[0m\u001b[0;34m(\u001b[0m\u001b[0mbases\u001b[0m\u001b[0;34m)\u001b[0m\u001b[0;34m:\u001b[0m\u001b[0;34m\u001b[0m\u001b[0m\n\u001b[0m\u001b[1;32m      2\u001b[0m     \u001b[0;31m# 新式类和经典类声明的最大不同在于，所有新式类必须继承至少一个父类\u001b[0m\u001b[0;34m\u001b[0m\u001b[0;34m\u001b[0m\u001b[0m\n\u001b[1;32m      3\u001b[0m     \u001b[0;31m# 参数bases可以是一个（单继承）或多个(多继承)用于继承的父类\u001b[0m\u001b[0;34m\u001b[0m\u001b[0;34m\u001b[0m\u001b[0m\n\u001b[1;32m      4\u001b[0m     \u001b[0;34m'define MyNewObjectType class'\u001b[0m\u001b[0;34m\u001b[0m\u001b[0m\n\u001b[1;32m      5\u001b[0m     \u001b[0mclass_suite\u001b[0m\u001b[0;34m\u001b[0m\u001b[0m\n",
      "\u001b[0;31mNameError\u001b[0m: name 'bases' is not defined"
     ]
    }
   ],
   "source": [
    "class MyNewObjectType(bases):\n",
    "    # 新式类和经典类声明的最大不同在于，所有新式类必须继承至少一个父类\n",
    "    # 参数bases可以是一个（单继承）或多个(多继承)用于继承的父类 \n",
    "    'define MyNewObjectType class'\n",
    "    class_suite\n",
    "    \n",
    "# object是所有类之母，如果你的类没有继承任何父类，object将作为其父类\n",
    "# object位于所有类继承结构的最上层\n",
    "# 经典类 classic object\n",
    "class MyNewObjectType:\n",
    "    'define MyNewObjectType classic class'\n",
    "    class_suite\n",
    "    \n",
    "# 创建一个实例，即实例化\n",
    "myFirstObject = MyNewObjectType()\n"
   ]
  },
  {
   "cell_type": "code",
   "execution_count": 3,
   "metadata": {},
   "outputs": [
    {
     "name": "stdout",
     "output_type": "stream",
     "text": [
      "20\n"
     ]
    }
   ],
   "source": [
    "# Example:  类仅作为一个命名空间来使用，最简单的类\n",
    "class MyData():\n",
    "    pass\n",
    "mathObj = MyData()\n",
    "mathObj.x = 5\n",
    "mathObj.y = 4\n",
    "print mathObj.x * mathObj.y\n",
    "# 这里mathObj.x和mathObj.y都是实例属性\n",
    "# 即类的构造中没有这些属性，这些属性是mathObj实例特有的属性\n",
    "# 这些属性是动态的，不需要在构造器中，或者其他任何地方预先声明或赋值"
   ]
  },
  {
   "cell_type": "markdown",
   "metadata": {},
   "source": [
    "### 1.2，方法\n",
    "\n",
    "方法就是给类添加的功能。Python中，方法定义在类的定义中，但只能被实例调用。\n",
    "\n",
    "调用一个方法的最终途径：**在类中定义-->创建实例-->调用这个实例方法**"
   ]
  },
  {
   "cell_type": "code",
   "execution_count": 4,
   "metadata": {},
   "outputs": [
    {
     "name": "stdout",
     "output_type": "stream",
     "text": [
      "You invoked printFoo()!\n"
     ]
    }
   ],
   "source": [
    "class MyDataWithMethod(object):\n",
    "    def printFoo(self):\n",
    "        print 'You invoked printFoo()!'\n",
    "\n",
    "myObj = MyDataWithMethod()\n",
    "myObj.printFoo()"
   ]
  },
  {
   "cell_type": "code",
   "execution_count": 11,
   "metadata": {
    "ExecuteTime": {
     "end_time": "2017-10-16T00:15:51.378004Z",
     "start_time": "2017-10-16T00:15:51.362387Z"
    }
   },
   "outputs": [
    {
     "name": "stdout",
     "output_type": "stream",
     "text": [
      "Created instance for: John Doe\n",
      "Created instance for: Jane Doe\n",
      "<__main__.AddrBookEntry instance at 0xb3d93e4c>\n",
      "Jane Doe\n",
      "Updated phone# for: John Doe\n",
      "415-555-1212\n"
     ]
    }
   ],
   "source": [
    "# Examples:\n",
    "class AddrBookEntry():\n",
    "    'address book entry class'\n",
    "    def _init_(self, nm, ph):\n",
    "        self.name = nm\n",
    "        self.phone = ph\n",
    "        print 'Created instance for:', self.name\n",
    "    def updatePhone(self, newph):\n",
    "        self.phone = newph\n",
    "        print 'Updated phone# for:', self.name\n",
    "        \n",
    "# 创建实例\n",
    "#john = AddrBookEntry('John Doe','408-555-1212')\n",
    "john = AddrBookEntry()\n",
    "john._init_('John Doe','408-555-1212')\n",
    "jane = AddrBookEntry()\n",
    "jane._init_('Jane Doe','650-555-1212')\n",
    "#jane = AddrBookEntry('Jane Doe','650-555-1221')\n",
    "print jane\n",
    "print jane.name\n",
    "# 方法调用\n",
    "john.updatePhone('415-555-1212')\n",
    "print john.phone"
   ]
  },
  {
   "cell_type": "markdown",
   "metadata": {},
   "source": [
    "**创建子类**\n"
   ]
  },
  {
   "cell_type": "code",
   "execution_count": 15,
   "metadata": {
    "ExecuteTime": {
     "end_time": "2017-10-16T00:27:42.176537Z",
     "start_time": "2017-10-16T00:27:42.149766Z"
    }
   },
   "outputs": [
    {
     "name": "stdout",
     "output_type": "stream",
     "text": [
      "Created instance for: Jone Doe\n"
     ]
    },
    {
     "ename": "TypeError",
     "evalue": "this constructor takes no arguments",
     "output_type": "error",
     "traceback": [
      "\u001b[0;31m---------------------------------------------------------------------------\u001b[0m",
      "\u001b[0;31mTypeError\u001b[0m                                 Traceback (most recent call last)",
      "\u001b[0;32m<ipython-input-15-b4a89fd7fd5e>\u001b[0m in \u001b[0;36m<module>\u001b[0;34m()\u001b[0m\n\u001b[1;32m     18\u001b[0m \u001b[0mJohn\u001b[0m \u001b[0;34m=\u001b[0m \u001b[0mEmplAddrBookEntry\u001b[0m\u001b[0;34m(\u001b[0m\u001b[0;34m)\u001b[0m\u001b[0;34m\u001b[0m\u001b[0m\n\u001b[1;32m     19\u001b[0m \u001b[0mJohn\u001b[0m\u001b[0;34m.\u001b[0m\u001b[0m_init_\u001b[0m\u001b[0;34m(\u001b[0m\u001b[0;34m'Jone Doe'\u001b[0m\u001b[0;34m,\u001b[0m\u001b[0;34m'408-555-1212'\u001b[0m\u001b[0;34m,\u001b[0m\u001b[0;36m42\u001b[0m\u001b[0;34m,\u001b[0m\u001b[0;34m'john@spam.doe'\u001b[0m\u001b[0;34m)\u001b[0m\u001b[0;34m\u001b[0m\u001b[0m\n\u001b[0;32m---> 20\u001b[0;31m \u001b[0mDoe\u001b[0m \u001b[0;34m=\u001b[0m \u001b[0mEmplAddrBookEntry\u001b[0m\u001b[0;34m(\u001b[0m\u001b[0;34m'Jone Doe'\u001b[0m\u001b[0;34m,\u001b[0m\u001b[0;34m'408-555-1212'\u001b[0m\u001b[0;34m,\u001b[0m\u001b[0;36m42\u001b[0m\u001b[0;34m,\u001b[0m\u001b[0;34m'john@spam.doe'\u001b[0m\u001b[0;34m)\u001b[0m\u001b[0;34m\u001b[0m\u001b[0m\n\u001b[0m\u001b[1;32m     21\u001b[0m \u001b[0;34m\u001b[0m\u001b[0m\n",
      "\u001b[0;31mTypeError\u001b[0m: this constructor takes no arguments"
     ]
    }
   ],
   "source": [
    "class EmplAddrBookEntry(AddrBookEntry):\n",
    "    'Employee Adddress Book Entry class'\n",
    "    # 每个子类最好定义自己的_init_()\n",
    "    def _init_(self, nm, ph, id, em):\n",
    "        AddrBookEntry._init_(self, nm, ph)\n",
    "        self.empid = id\n",
    "        self.email = em\n",
    "    def _new_(self, nm, ph, id, em):\n",
    "        AddrBookEntry._init_(self, nm, ph)\n",
    "        self.empid = id\n",
    "        self.email = em\n",
    "    \n",
    "    def updateEmail(self, newem):\n",
    "        self.email = newem\n",
    "        print 'Update e-mail address for:', self.name\n",
    "    \n",
    "# 使用子类\n",
    "John = EmplAddrBookEntry()\n",
    "John._init_('Jone Doe','408-555-1212',42,'john@spam.doe')\n",
    "Doe = EmplAddrBookEntry('Jone Doe','408-555-1212',42,'john@spam.doe')\n",
    "\n"
   ]
  }
 ],
 "metadata": {
  "kernelspec": {
   "display_name": "Python 3",
   "language": "python",
   "name": "python3"
  },
  "language_info": {
   "codemirror_mode": {
    "name": "ipython",
    "version": 3
   },
   "file_extension": ".py",
   "mimetype": "text/x-python",
   "name": "python",
   "nbconvert_exporter": "python",
   "pygments_lexer": "ipython3",
   "version": "3.6.2"
  }
 },
 "nbformat": 4,
 "nbformat_minor": 2
}
