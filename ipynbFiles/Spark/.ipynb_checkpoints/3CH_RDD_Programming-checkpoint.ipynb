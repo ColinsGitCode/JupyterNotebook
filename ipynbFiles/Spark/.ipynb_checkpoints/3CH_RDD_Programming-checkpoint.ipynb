{
 "cells": [
  {
   "cell_type": "code",
   "execution_count": 1,
   "metadata": {
    "ExecuteTime": {
     "end_time": "2017-10-28T15:38:42.672968Z",
     "start_time": "2017-10-28T15:38:38.898480Z"
    },
    "collapsed": true
   },
   "outputs": [],
   "source": [
    "# 常用的引用和创建对象实体\n",
    "from pyspark import SparkConf,SparkContext\n",
    "conf = SparkConf().setMaster(\"local\").setAppName(\"My App\")\n",
    "sc = SparkContext(conf = conf)"
   ]
  },
  {
   "cell_type": "markdown",
   "metadata": {},
   "source": [
    "# 1, RDD 基础"
   ]
  },
  {
   "cell_type": "markdown",
   "metadata": {},
   "source": [
    "Spark中RDD是一个不可变的分布式对象集合，每个RDD都被分为多个分区，这些分区运行在集群中的不同节点上。\n",
    "\n",
    "RDD可以包含Python,Java,Scala中任意类型的对象，甚至可以包含用户自定义的对象。\n",
    "\n",
    "两种创建方法：1，读取外部数据集    2，在驱动器程序里分发驱动器程序中的对象集合（比如list和set）\n",
    "\n",
    "创建出来的RDD支持两种类型的操作：转化操作（transformation）和行动操作（action）\n",
    "\n",
    "转化操作会由一个RDD生成一个新的RDD, 行动操作会对RDD计算出一个结果，并把结果返回到驱动器程序中，或者存储到外部存储系统（HDFS） \n",
    "\n",
    "RDD在第一次在一个行动操作中用到时，才会真正的计算，一旦Spark了解了完整的转化操作链之后，它就可以只计算求结果时真正需要的数据\n",
    "\n",
    "默认情况下，Spark的RDD会在每次对它们进行行动操作的时重新计算\n",
    "\n",
    "如果想在多个行动操作中重用同一个RDD,可以使用RDD.persist()(cache()也有同样的效果）让Spark把这个RDD缓存下来，不重用的RDD没必要保存下来浪费内存资源\n",
    "\n"
   ]
  },
  {
   "cell_type": "markdown",
   "metadata": {},
   "source": [
    "# 2,创建RDD"
   ]
  },
  {
   "cell_type": "markdown",
   "metadata": {},
   "source": [
    "最简单的方式：把一个已有的集合传给SparkContext的Parallelize()方法，但是实际应用中不常见，因为需要预先把整个数据集先放在一个机器的内存中"
   ]
  },
  {
   "cell_type": "code",
   "execution_count": 2,
   "metadata": {
    "ExecuteTime": {
     "end_time": "2017-10-28T15:39:58.994354Z",
     "start_time": "2017-10-28T15:39:58.703531Z"
    },
    "collapsed": true
   },
   "outputs": [],
   "source": [
    "lines = sc.parallelize([\"pandas\",\"i like pandas\"])"
   ]
  },
  {
   "cell_type": "markdown",
   "metadata": {},
   "source": [
    "更常见的方式：从外部存储器中读取数据来创建RDD,如从文本文件中读取"
   ]
  },
  {
   "cell_type": "code",
   "execution_count": 3,
   "metadata": {
    "ExecuteTime": {
     "end_time": "2017-10-28T15:42:54.487509Z",
     "start_time": "2017-10-28T15:42:53.450481Z"
    },
    "collapsed": true
   },
   "outputs": [],
   "source": [
    "txt = sc.textFile(\"Examples/README.md\")"
   ]
  },
  {
   "cell_type": "markdown",
   "metadata": {},
   "source": [
    "# 3,RDD "
   ]
  }
 ],
 "metadata": {
  "kernelspec": {
   "display_name": "Python 3",
   "language": "python",
   "name": "python3"
  },
  "language_info": {
   "codemirror_mode": {
    "name": "ipython",
    "version": 3
   },
   "file_extension": ".py",
   "mimetype": "text/x-python",
   "name": "python",
   "nbconvert_exporter": "python",
   "pygments_lexer": "ipython3",
   "version": "3.6.3"
  }
 },
 "nbformat": 4,
 "nbformat_minor": 2
}
