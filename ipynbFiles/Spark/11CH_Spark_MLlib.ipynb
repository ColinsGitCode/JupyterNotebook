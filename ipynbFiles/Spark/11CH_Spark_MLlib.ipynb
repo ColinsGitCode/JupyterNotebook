{
 "cells": [
  {
   "cell_type": "markdown",
   "metadata": {},
   "source": [
    "# 1, 概述\n",
    "- MLlib的设计理念：\n",
    "   1. 把数据以RDD的形式表示\n",
    "   2. 然后在分布式数据集上调用各种算法\n",
    "   3. 归根结底，MLlib就是RDD上一系列可以调用的函数的集合\n",
    "   \n",
    "- **Notices**\n",
    "   1. MLlib 只包含能在集群上运行良好的并行算法，不能并行执行的经典算法没有包含\n",
    "   2，MLlib 中每一个算法都适合大规模数据集\n",
    "      - 如果要在许多小数据集上训练各机器学习模型，还是最好在各节点上使用单节点的ML算法库，比如可以使用spark的**map()**操作在各节点上并行使用\n",
    "   3. 只有在需要一个大规模分布式数据集上训练模型时，MLlib的优势才能突显出来\n",
    "   \n"
   ]
  },
  {
   "cell_type": "markdown",
   "metadata": {},
   "source": [
    "# 2, 系统要求\n",
    "- MLlib 需要一些必须的库才能运行\n",
    "- Python 用户： 需要安装 ** Numpy **"
   ]
  },
  {
   "cell_type": "markdown",
   "metadata": {},
   "source": [
    "# 3, 机器学习基础\n",
    "- page --> 187 to 191"
   ]
  },
  {
   "cell_type": "markdown",
   "metadata": {},
   "source": [
    "# 4, 数据类型\n"
   ]
  },
  {
   "cell_type": "code",
   "execution_count": null,
   "metadata": {
    "collapsed": true
   },
   "outputs": [],
   "source": []
  }
 ],
 "metadata": {
  "kernelspec": {
   "display_name": "Python 3",
   "language": "python",
   "name": "python3"
  },
  "language_info": {
   "codemirror_mode": {
    "name": "ipython",
    "version": 3
   },
   "file_extension": ".py",
   "mimetype": "text/x-python",
   "name": "python",
   "nbconvert_exporter": "python",
   "pygments_lexer": "ipython3",
   "version": "3.6.3"
  },
  "varInspector": {
   "cols": {
    "lenName": 16,
    "lenType": 16,
    "lenVar": 40
   },
   "kernels_config": {
    "python": {
     "delete_cmd_postfix": "",
     "delete_cmd_prefix": "del ",
     "library": "var_list.py",
     "varRefreshCmd": "print(var_dic_list())"
    },
    "r": {
     "delete_cmd_postfix": ") ",
     "delete_cmd_prefix": "rm(",
     "library": "var_list.r",
     "varRefreshCmd": "cat(var_dic_list()) "
    }
   },
   "types_to_exclude": [
    "module",
    "function",
    "builtin_function_or_method",
    "instance",
    "_Feature"
   ],
   "window_display": false
  }
 },
 "nbformat": 4,
 "nbformat_minor": 2
}
