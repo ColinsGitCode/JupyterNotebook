{
 "cells": [
  {
   "cell_type": "markdown",
   "metadata": {},
   "source": [
    "# 初始化SparkContext\n",
    "\n",
    "一旦完成了应用与Spark的链接，接下来就需要在你的程序中导入Spark包并创建SparkContext. 可以通过先创建一个SparkConf对象来配置应用\n",
    "\n",
    "实例：基于SparkConf创建一个SparkContext对象\n",
    "\n",
    "集群URL: 告诉Spark如何连接到集群上，本例中使用local，这个特殊值可以让Spark运行在单机单线程上而无需链接到集群\n",
    "\n",
    "应用名：本例使用My App，当链接到一个集群时，这个值可以帮助我们在集群管理器的用户界面找到相应的应用\n"
   ]
  },
  {
   "cell_type": "code",
   "execution_count": 1,
   "metadata": {
    "ExecuteTime": {
     "end_time": "2017-10-28T14:18:08.742932Z",
     "start_time": "2017-10-28T14:18:04.870416Z"
    },
    "collapsed": true
   },
   "outputs": [],
   "source": [
    "from pyspark import SparkConf,SparkContext\n",
    "conf = SparkConf().setMaster(\"local\").setAppName(\"My App\")\n",
    "sc = SparkContext(conf = conf)"
   ]
  },
  {
   "cell_type": "markdown",
   "metadata": {},
   "source": [
    "关闭Spark可以调用SparkContext的stop()方法，或者直接退出应用（System.exit(0),或者sys.exit()）"
   ]
  },
  {
   "cell_type": "markdown",
   "metadata": {},
   "source": []
  },
  {
   "cell_type": "code",
   "execution_count": null,
   "metadata": {
    "collapsed": true
   },
   "outputs": [],
   "source": []
  }
 ],
 "metadata": {
  "kernelspec": {
   "display_name": "Python 3",
   "language": "python",
   "name": "python3"
  },
  "language_info": {
   "codemirror_mode": {
    "name": "ipython",
    "version": 3
   },
   "file_extension": ".py",
   "mimetype": "text/x-python",
   "name": "python",
   "nbconvert_exporter": "python",
   "pygments_lexer": "ipython3",
   "version": "3.6.3"
  }
 },
 "nbformat": 4,
 "nbformat_minor": 2
}
