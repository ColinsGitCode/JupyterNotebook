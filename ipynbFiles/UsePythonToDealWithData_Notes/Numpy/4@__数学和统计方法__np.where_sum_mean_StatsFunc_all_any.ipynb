{
 "cells": [
  {
   "cell_type": "code",
   "execution_count": 10,
   "metadata": {
    "collapsed": true
   },
   "outputs": [],
   "source": [
    "#常用的引用\n",
    "import numpy as np\n",
    "%matplotlib inline\n",
    "import matplotlib.pyplot as plt"
   ]
  },
  {
   "cell_type": "markdown",
   "metadata": {},
   "source": [
    "# 1, np.where()函数"
   ]
  },
  {
   "cell_type": "markdown",
   "metadata": {},
   "source": [
    "**numpy.where()**函数是三元表达式\" x if condition else y \"的矢量化版本，常用于根据一个数组，创造另一个数组"
   ]
  },
  {
   "cell_type": "code",
   "execution_count": 11,
   "metadata": {},
   "outputs": [
    {
     "data": {
      "text/plain": [
       "array([ 1.1,  2.2,  1.3,  1.4,  2.5])"
      ]
     },
     "execution_count": 11,
     "metadata": {},
     "output_type": "execute_result"
    }
   ],
   "source": [
    "xarr = np.array([1.1,1.2,1.3,1.4,1.5])\n",
    "yarr = np.array([2.1,2.2,2.3,2.4,2.5])\n",
    "cond = np.array([True,False,True,True,False])\n",
    "# 根据cond中的值选取xarr和yarr的值，cond为True的时候，选取xarr的值，否则选取yarr的值\n",
    "# 一般做法：\n",
    "result = [(x if c else y)\n",
    "          for x,y,c in zip(xarr,yarr,cond)]\n",
    "# 缺点很多： 不适合大数组处理，速度慢\n",
    "#           无法用于多维数组\n",
    "# 使用np.where(c,x,y)函数的话则非常好用简单  \" x if c else y\" 即\"c\"为真则\"x\",否则\"y\"\n",
    "# x,y 不必是数组，也可以标量\n",
    "Result = np.where(cond,xarr,yarr)\n",
    "Result"
   ]
  },
  {
   "cell_type": "markdown",
   "metadata": {},
   "source": [
    "举例Example One"
   ]
  },
  {
   "cell_type": "code",
   "execution_count": 12,
   "metadata": {},
   "outputs": [
    {
     "data": {
      "text/plain": [
       "array([[-0.25631224, -0.86075433,  0.38955038, -1.71785285],\n",
       "       [ 1.08070808, -0.19223254, -1.95410074,  0.26731989],\n",
       "       [ 2.8246686 ,  1.16649623,  0.16024787,  1.43858356],\n",
       "       [ 1.94554507,  0.22142518,  0.23059236,  0.20841096]])"
      ]
     },
     "execution_count": 12,
     "metadata": {},
     "output_type": "execute_result"
    }
   ],
   "source": [
    "# 举例\n",
    "# 一个由随机数据生成的矩阵，\n",
    "arr = np.random.randn(4,4)\n",
    "arr"
   ]
  },
  {
   "cell_type": "code",
   "execution_count": 13,
   "metadata": {},
   "outputs": [
    {
     "data": {
      "text/plain": [
       "array([[-2, -2,  2, -2],\n",
       "       [ 2, -2, -2,  2],\n",
       "       [ 2,  2,  2,  2],\n",
       "       [ 2,  2,  2,  2]])"
      ]
     },
     "execution_count": 13,
     "metadata": {},
     "output_type": "execute_result"
    }
   ],
   "source": [
    "# 希望将所有的正值替换为2，复制替换为-2\n",
    "np.where(arr>0,2,-2)"
   ]
  },
  {
   "cell_type": "code",
   "execution_count": 14,
   "metadata": {},
   "outputs": [
    {
     "data": {
      "text/plain": [
       "array([[-0.25631224, -0.86075433,  2.        , -1.71785285],\n",
       "       [ 2.        , -0.19223254, -1.95410074,  2.        ],\n",
       "       [ 2.        ,  2.        ,  2.        ,  2.        ],\n",
       "       [ 2.        ,  2.        ,  2.        ,  2.        ]])"
      ]
     },
     "execution_count": 14,
     "metadata": {},
     "output_type": "execute_result"
    }
   ],
   "source": [
    "# 正值为2，其余不变\n",
    "np.where(arr>0,2,arr)"
   ]
  },
  {
   "cell_type": "markdown",
   "metadata": {},
   "source": [
    "**np.where()函数可以嵌套使用**\n",
    "\n"
   ]
  },
  {
   "cell_type": "markdown",
   "metadata": {},
   "source": [
    "# 2，数学和统计方法\n"
   ]
  },
  {
   "cell_type": "markdown",
   "metadata": {
    "collapsed": true
   },
   "source": [
    "聚合计算（Aggregation或叫作约简（Reduction））, 常用函数：sum(),mean(), 标准差std()"
   ]
  },
  {
   "cell_type": "code",
   "execution_count": 16,
   "metadata": {},
   "outputs": [
    {
     "data": {
      "text/plain": [
       "array([[ 0.65288867,  0.27590398,  0.77033146, -0.48917191],\n",
       "       [ 0.06950676,  0.49770416,  0.60947379, -1.12128145],\n",
       "       [ 0.1553672 ,  1.4078704 ,  0.02298838,  1.25793441],\n",
       "       [ 0.62339524, -0.05488941,  0.50143082, -0.41957068],\n",
       "       [ 0.07441432, -0.29071062,  0.45448606, -1.20831397]])"
      ]
     },
     "execution_count": 16,
     "metadata": {},
     "output_type": "execute_result"
    }
   ],
   "source": [
    "ARR = np.random.randn(5,4) # 正态分布的数据\n",
    "ARR"
   ]
  },
  {
   "cell_type": "code",
   "execution_count": 18,
   "metadata": {},
   "outputs": [
    {
     "data": {
      "text/plain": [
       "3.7897576008549358"
      ]
     },
     "execution_count": 18,
     "metadata": {},
     "output_type": "execute_result"
    }
   ],
   "source": [
    "# mean()函数，平均值\n",
    "np.mean(ARR)\n",
    "ARR.mean()\n",
    "# 两种调用方式都可以使用，效果相同\n",
    "# sum（）函数，求和\n",
    "ARR.sum()"
   ]
  },
  {
   "cell_type": "markdown",
   "metadata": {},
   "source": [
    "mean(),sum()这类函数可以接受一个axis参数（用于计算该轴向上的统计值），**最终结果是一个少一维的数组**"
   ]
  },
  {
   "cell_type": "code",
   "execution_count": 23,
   "metadata": {},
   "outputs": [
    {
     "data": {
      "text/plain": [
       "array([ 1.57557219,  1.8358785 ,  2.35871051, -1.9804036 ])"
      ]
     },
     "execution_count": 23,
     "metadata": {},
     "output_type": "execute_result"
    }
   ],
   "source": [
    "# axis = 1 时的数据取平均值,即对每一行的数据进行平均值计算，只保留计算之后的平均值\n",
    "# axis = 0 时，数据的求和，即对每一列数据求和，只保留计算之后的总和值\n",
    "# 这种情况相当于压缩原始数据的一个维度\n",
    "ARR.mean(axis=1)\n",
    "ARR.sum(0)"
   ]
  },
  {
   "cell_type": "markdown",
   "metadata": {},
   "source": [
    "**其他如cumsum和cumprod之类的方法则不聚合，而是产生一个由中间结果组成的数组**"
   ]
  },
  {
   "cell_type": "markdown",
   "metadata": {},
   "source": [
    "## 2.1 基本数组统计方法"
   ]
  },
  {
   "cell_type": "markdown",
   "metadata": {},
   "source": [
    "<img src=\"https://github.com/ColinsGitCode/All_Files/blob/master/LearnCode/Python/JupyterNotebook/ipynbFiles/Materials/statistical_func.jpg?raw=true\" />"
   ]
  },
  {
   "cell_type": "markdown",
   "metadata": {},
   "source": [
    "# 3，用于布尔型数组的方法"
   ]
  },
  {
   "cell_type": "markdown",
   "metadata": {},
   "source": [
    "在此类方法的处理中，布尔类型会变为1和0两种数值"
   ]
  },
  {
   "cell_type": "code",
   "execution_count": 24,
   "metadata": {},
   "outputs": [
    {
     "data": {
      "text/plain": [
       "53"
      ]
     },
     "execution_count": 24,
     "metadata": {},
     "output_type": "execute_result"
    }
   ],
   "source": [
    "BARR = np.random.randn(100)\n",
    "(BARR > 0).sum() #正值的数量"
   ]
  },
  {
   "cell_type": "code",
   "execution_count": 25,
   "metadata": {},
   "outputs": [
    {
     "data": {
      "text/plain": [
       "True"
      ]
     },
     "execution_count": 25,
     "metadata": {},
     "output_type": "execute_result"
    }
   ],
   "source": [
    "Bools = np.array([False,False,True,False])\n",
    "# 测试数组中是否存在一个或多个True\n",
    "Bools.any()"
   ]
  },
  {
   "cell_type": "code",
   "execution_count": 26,
   "metadata": {},
   "outputs": [
    {
     "data": {
      "text/plain": [
       "False"
      ]
     },
     "execution_count": 26,
     "metadata": {},
     "output_type": "execute_result"
    }
   ],
   "source": [
    "# 测试数组中是否全是True\n",
    "Bools.all()"
   ]
  }
 ],
 "metadata": {
  "kernelspec": {
   "display_name": "Python 2",
   "language": "python",
   "name": "python2"
  },
  "language_info": {
   "codemirror_mode": {
    "name": "ipython",
    "version": 2
   },
   "file_extension": ".py",
   "mimetype": "text/x-python",
   "name": "python",
   "nbconvert_exporter": "python",
   "pygments_lexer": "ipython2",
   "version": "2.7.12"
  }
 },
 "nbformat": 4,
 "nbformat_minor": 2
}
