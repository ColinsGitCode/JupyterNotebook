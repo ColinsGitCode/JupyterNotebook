{
 "cells": [
  {
   "cell_type": "code",
   "execution_count": 1,
   "metadata": {
    "ExecuteTime": {
     "end_time": "2017-11-01T01:44:10.149144Z",
     "start_time": "2017-11-01T01:44:09.788257Z"
    },
    "collapsed": true
   },
   "outputs": [],
   "source": [
    "#常用的引用\n",
    "import numpy as np\n",
    "%matplotlib inline\n",
    "import matplotlib.pyplot as plt"
   ]
  },
  {
   "cell_type": "markdown",
   "metadata": {},
   "source": [
    "# 1, 排序"
   ]
  },
  {
   "cell_type": "markdown",
   "metadata": {},
   "source": [
    "可以利用sort()函数进行排序"
   ]
  },
  {
   "cell_type": "code",
   "execution_count": 2,
   "metadata": {
    "ExecuteTime": {
     "end_time": "2017-11-01T01:44:10.171588Z",
     "start_time": "2017-11-01T01:44:10.157326Z"
    }
   },
   "outputs": [
    {
     "data": {
      "text/plain": [
       "array([-0.05938836,  0.50609981,  0.30755123, -0.03603856, -0.9275136 ,\n",
       "       -1.10937861,  0.70461733,  1.78788401])"
      ]
     },
     "execution_count": 2,
     "metadata": {},
     "output_type": "execute_result"
    }
   ],
   "source": [
    "arr = np.random.randn(8)\n",
    "arr"
   ]
  },
  {
   "cell_type": "code",
   "execution_count": 3,
   "metadata": {
    "ExecuteTime": {
     "end_time": "2017-11-01T01:44:10.188155Z",
     "start_time": "2017-11-01T01:44:10.177040Z"
    }
   },
   "outputs": [
    {
     "data": {
      "text/plain": [
       "array([-1.10937861, -0.9275136 , -0.05938836, -0.03603856,  0.30755123,\n",
       "        0.50609981,  0.70461733,  1.78788401])"
      ]
     },
     "execution_count": 3,
     "metadata": {},
     "output_type": "execute_result"
    }
   ],
   "source": [
    "arr.sort()\n",
    "arr"
   ]
  },
  {
   "cell_type": "markdown",
   "metadata": {},
   "source": [
    "多维数组可以只在某些轴上进行排序，只需将轴编号传给sort()函数即可"
   ]
  },
  {
   "cell_type": "code",
   "execution_count": 4,
   "metadata": {
    "ExecuteTime": {
     "end_time": "2017-11-01T01:44:10.212717Z",
     "start_time": "2017-11-01T01:44:10.195072Z"
    }
   },
   "outputs": [
    {
     "data": {
      "text/plain": [
       "array([[ 0.36046911,  0.02217511, -1.00259012],\n",
       "       [-0.05055334,  1.52645271,  0.73821394],\n",
       "       [-1.24520153, -1.75917501,  1.09917348],\n",
       "       [-0.35270758, -0.18861142, -0.9624833 ],\n",
       "       [ 0.65476095, -0.31250764, -0.10221234]])"
      ]
     },
     "execution_count": 4,
     "metadata": {},
     "output_type": "execute_result"
    }
   ],
   "source": [
    "Arr = np.random.randn(5,3)\n",
    "Arr"
   ]
  },
  {
   "cell_type": "code",
   "execution_count": 5,
   "metadata": {
    "ExecuteTime": {
     "end_time": "2017-11-01T01:44:10.252709Z",
     "start_time": "2017-11-01T01:44:10.219820Z"
    }
   },
   "outputs": [
    {
     "data": {
      "text/plain": [
       "array([[-1.00259012,  0.02217511,  0.36046911],\n",
       "       [-0.05055334,  0.73821394,  1.52645271],\n",
       "       [-1.75917501, -1.24520153,  1.09917348],\n",
       "       [-0.9624833 , -0.35270758, -0.18861142],\n",
       "       [-0.31250764, -0.10221234,  0.65476095]])"
      ]
     },
     "execution_count": 5,
     "metadata": {},
     "output_type": "execute_result"
    }
   ],
   "source": [
    "Arr.sort(1) # 只在axis = 1 的轴向上进行排序，即对每一行进行排序\n",
    "Arr"
   ]
  },
  {
   "cell_type": "markdown",
   "metadata": {},
   "source": [
    "**顶级方法np.sort()返回的是数组的已排序副本，而就地排序则会修改数组本身**"
   ]
  },
  {
   "cell_type": "markdown",
   "metadata": {},
   "source": [
    "**实例**\n",
    "\n",
    "计算数组的分位数： 即先对数组进行排序，然后选取特定位置，程序实例如下"
   ]
  },
  {
   "cell_type": "code",
   "execution_count": 6,
   "metadata": {
    "ExecuteTime": {
     "end_time": "2017-11-01T01:44:10.280763Z",
     "start_time": "2017-11-01T01:44:10.255854Z"
    }
   },
   "outputs": [
    {
     "data": {
      "text/plain": [
       "-1.6662154365890158"
      ]
     },
     "execution_count": 6,
     "metadata": {},
     "output_type": "execute_result"
    }
   ],
   "source": [
    "# 取得一个数组的 “5%分位数”\n",
    "large_arr = np.random.randn(1000)\n",
    "large_arr.sort()\n",
    "large_arr[int(0.05 * len(large_arr))]"
   ]
  },
  {
   "cell_type": "markdown",
   "metadata": {},
   "source": [
    "# 2，唯一化以及其他的集合逻辑"
   ]
  },
  {
   "cell_type": "markdown",
   "metadata": {},
   "source": [
    "2.1 针对一维ndarray的基本集合运算\n",
    "\n",
    "np.unique() 函数，用于找出数组中的唯一值并返回已排序的结果,**即唯一显示数组中存在的值，去除重复的项**\n"
   ]
  },
  {
   "cell_type": "code",
   "execution_count": 7,
   "metadata": {
    "ExecuteTime": {
     "end_time": "2017-11-01T01:44:10.321357Z",
     "start_time": "2017-11-01T01:44:10.285047Z"
    }
   },
   "outputs": [
    {
     "data": {
      "text/plain": [
       "array(['Bob', 'Joe', 'Will'],\n",
       "      dtype='<U4')"
      ]
     },
     "execution_count": 7,
     "metadata": {},
     "output_type": "execute_result"
    }
   ],
   "source": [
    "names = np.array(['Bob','Joe','Will','Bob','Will','Joe','Joe'])\n",
    "ints = np.array([3,3,3,2,2,1,1,4,4])\n",
    "np.unique(names)"
   ]
  },
  {
   "cell_type": "code",
   "execution_count": 8,
   "metadata": {
    "ExecuteTime": {
     "end_time": "2017-11-01T01:44:10.353108Z",
     "start_time": "2017-11-01T01:44:10.338555Z"
    },
    "scrolled": true
   },
   "outputs": [
    {
     "data": {
      "text/plain": [
       "array([1, 2, 3, 4])"
      ]
     },
     "execution_count": 8,
     "metadata": {},
     "output_type": "execute_result"
    }
   ],
   "source": [
    "np.unique(ints)"
   ]
  },
  {
   "cell_type": "markdown",
   "metadata": {},
   "source": [
    "np.in1d()用于测试一个数组中值在另一个数组中的成员资格，返回一个布尔型数组"
   ]
  },
  {
   "cell_type": "code",
   "execution_count": 9,
   "metadata": {
    "ExecuteTime": {
     "end_time": "2017-11-01T01:44:10.515292Z",
     "start_time": "2017-11-01T01:44:10.361207Z"
    }
   },
   "outputs": [
    {
     "data": {
      "text/plain": [
       "array([ True, False, False,  True,  True, False,  True], dtype=bool)"
      ]
     },
     "execution_count": 9,
     "metadata": {},
     "output_type": "execute_result"
    }
   ],
   "source": [
    "values = np.array([6,0,0,3,2,5,6])\n",
    "# 测试values中的值在数组【2,3,6】中是否存在\n",
    "np.in1d(values,[2,3,6])"
   ]
  },
  {
   "cell_type": "markdown",
   "metadata": {},
   "source": [
    "**数组的集合运算**\n",
    "\n",
    "<img src=\"https://github.com/ColinsGitCode/All_Files/blob/master/LearnCode/Python/JupyterNotebook/ipynbFiles/Materials/Array_Sets_Func.jpg?raw=true\" />\n",
    "\n"
   ]
  },
  {
   "cell_type": "code",
   "execution_count": null,
   "metadata": {
    "collapsed": true
   },
   "outputs": [],
   "source": []
  }
 ],
 "metadata": {
  "kernelspec": {
   "display_name": "Python 2",
   "language": "python",
   "name": "python2"
  },
  "language_info": {
   "codemirror_mode": {
    "name": "ipython",
    "version": 3
   },
   "file_extension": ".py",
   "mimetype": "text/x-python",
   "name": "python",
   "nbconvert_exporter": "python",
   "pygments_lexer": "ipython3",
   "version": "3.6.3"
  }
 },
 "nbformat": 4,
 "nbformat_minor": 2
}
