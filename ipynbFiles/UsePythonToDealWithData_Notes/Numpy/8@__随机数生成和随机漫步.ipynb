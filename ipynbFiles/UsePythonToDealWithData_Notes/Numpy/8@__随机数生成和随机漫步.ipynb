{
 "cells": [
  {
   "cell_type": "code",
   "execution_count": 1,
   "metadata": {
    "collapsed": true
   },
   "outputs": [],
   "source": [
    "#常用的引用\n",
    "import numpy as np\n",
    "%matplotlib inline\n",
    "import matplotlib.pyplot as plt"
   ]
  },
  {
   "cell_type": "markdown",
   "metadata": {},
   "source": [
    "# 1，随机数生成"
   ]
  },
  {
   "cell_type": "markdown",
   "metadata": {},
   "source": [
    "*NumPy.random*模块对*Python*内置的*random*进行了补充，增加了一些用于高效生成多种概率分布的样本值函数\n",
    "\n",
    "例如： 可以利用*np.random.normal()*函数得到标准正态分布的样本数组\n",
    "\n",
    "*Python*内置的*random*模块只能一次生成一个样本值，**所以*Numpy.random*的方法快了不止一个数量级！**"
   ]
  },
  {
   "cell_type": "code",
   "execution_count": 2,
   "metadata": {},
   "outputs": [
    {
     "data": {
      "text/plain": [
       "array([[ 0.15198389,  0.45870134, -0.75106378, -0.52129867],\n",
       "       [-0.53397372, -0.03581165,  0.38308284, -0.42597528],\n",
       "       [-0.7144053 ,  1.08775232,  1.78867591, -0.70610431],\n",
       "       [-2.43362789,  1.50172051, -1.55885113,  0.5176089 ]])"
      ]
     },
     "execution_count": 2,
     "metadata": {},
     "output_type": "execute_result"
    }
   ],
   "source": [
    "# 创建一个4*4的标准正态分布的样本数组\n",
    "samples = np.random.normal(size=(4,4))\n",
    "samples "
   ]
  },
  {
   "cell_type": "markdown",
   "metadata": {},
   "source": [
    "# 2，常用的*numpy.random*函数\n"
   ]
  },
  {
   "cell_type": "markdown",
   "metadata": {},
   "source": [
    "<img src=\"https://raw.githubusercontent.com/ColinsGitCode/All_Files/ee6fe3b6602d2318bc6e44ae02ec7c8ec99b84c9/LearnCode/Python/JupyterNotebook/ipynbFiles/Materials/NumpyRandomFunc.png\" />"
   ]
  },
  {
   "cell_type": "markdown",
   "metadata": {},
   "source": [
    "# 3, 随机漫步 "
   ]
  },
  {
   "cell_type": "markdown",
   "metadata": {},
   "source": [
    "# ?? Page_112 Chapter 4 Numpy"
   ]
  },
  {
   "cell_type": "code",
   "execution_count": null,
   "metadata": {
    "collapsed": true
   },
   "outputs": [],
   "source": []
  }
 ],
 "metadata": {
  "kernelspec": {
   "display_name": "Python 2",
   "language": "python",
   "name": "python2"
  },
  "language_info": {
   "codemirror_mode": {
    "name": "ipython",
    "version": 2
   },
   "file_extension": ".py",
   "mimetype": "text/x-python",
   "name": "python",
   "nbconvert_exporter": "python",
   "pygments_lexer": "ipython2",
   "version": "2.7.12"
  }
 },
 "nbformat": 4,
 "nbformat_minor": 2
}
